{
  "nbformat": 4,
  "nbformat_minor": 0,
  "metadata": {
    "colab": {
      "provenance": [],
      "authorship_tag": "ABX9TyMlkH8y0xm9aE28HEY5wLb3",
      "include_colab_link": true
    },
    "kernelspec": {
      "name": "python3",
      "display_name": "Python 3"
    },
    "language_info": {
      "name": "python"
    }
  },
  "cells": [
    {
      "cell_type": "markdown",
      "metadata": {
        "id": "view-in-github",
        "colab_type": "text"
      },
      "source": [
        "<a href=\"https://colab.research.google.com/github/akiumiann/googlecolab/blob/main/%E5%8F%B0%E5%BD%A2%E5%85%AC%E5%BC%8F%E3%81%8A%E3%82%88%E3%81%B3%E3%82%B7%E3%83%B3%E3%83%97%E3%82%BD%E3%83%B3%E5%85%AC%E5%BC%8F.ipynb\" target=\"_parent\"><img src=\"https://colab.research.google.com/assets/colab-badge.svg\" alt=\"Open In Colab\"/></a>"
      ]
    },
    {
      "cell_type": "code",
      "execution_count": null,
      "metadata": {
        "id": "LHMzBIV61lA_"
      },
      "outputs": [],
      "source": [
        "import numpy as np\n",
        "import matplotlib.pyplot as plt"
      ]
    },
    {
      "cell_type": "code",
      "source": [
        "def fx(x_in):\n",
        "  y_result = 4.0/(1.0+x_in**2)\n",
        "  return y_result\n",
        "\n",
        "def calc1_S(N_in):#台形公式\n",
        "  S = 0.0\n",
        "  dx = 1.0/N_in\n",
        "  x1_i = 0.0\n",
        "  for i in range(N_in):\n",
        "    x2_i = x1_i + dx\n",
        "    S += (dx/2) * (fx(x1_i) + fx(x2_i))\n",
        "    x1_i += dx\n",
        "  return S\n",
        "\n",
        "def calc2_S(N_in):#シンプソン公式\n",
        "  S = 0.0\n",
        "  dx = 1.0/N_in\n",
        "  x1_i = 0.0\n",
        "  for i in range(0,N_in-1,2):\n",
        "    x1_i = dx * i\n",
        "    x2_i = dx * (i+1)\n",
        "    x3_i = dx * (i+2)\n",
        "    S += (dx/3)*(fx(x1_i)+4*fx(x2_i)+fx(x3_i))\n",
        "  return S\n",
        "\n",
        "N_ini = 10\n",
        "N_fac = 2\n",
        "m = 20\n",
        "\n",
        "S1_all = np.zeros(m)\n",
        "S2_all = np.zeros(m)\n",
        "h1_all = np.zeros(m)\n",
        "h2_all = np.zeros(m)\n",
        "err1_all = np.zeros(m)\n",
        "err2_all = np.zeros(m)\n",
        "N = N_ini\n",
        "h = 1.0/N\n",
        "\n",
        "for i in range(m):\n",
        "  S1_all[i] = calc1_S(N)\n",
        "  h1_all[i] = h\n",
        "  err1_all[i] = abs(np.pi - S1_all[i])\n",
        "  N = N * N_fac\n",
        "  h = 1/N\n",
        "\n",
        "N_ini = 10\n",
        "N = N_ini\n",
        "h = 1.0/N\n",
        "\n",
        "for i in range(m):\n",
        "  S2_all[i] = calc2_S(N)\n",
        "  h2_all[i] = h\n",
        "  err2_all[i] = abs(np.pi - S2_all[i])\n",
        "  N = N * N_fac\n",
        "  h = 1/N\n",
        "\n",
        "plt.rcParams[\"font.size\"] = 24\n",
        "plt.plot(h1_all, err1_all, label=r\"$err_N = |\\pi - S_N| $\", marker=\"o\", color=\"black\")#台形公式\n",
        "plt.plot(h2_all, err2_all, label=r\"$err_N = |\\pi - S_N| $\", marker=\"o\", color=\"red\") #シンプソン公式\n",
        "plt.xscale(\"log\")\n",
        "plt.yscale(\"log\")\n",
        "plt.xlabel(\"$h$\")\n",
        "plt.ylabel(\"$err$\")\n",
        "plt.grid()"
      ],
      "metadata": {
        "colab": {
          "base_uri": "https://localhost:8080/",
          "height": 311
        },
        "id": "sZm7kv251tIo",
        "outputId": "d9284760-6034-4236-830b-8904c42e30c1"
      },
      "execution_count": null,
      "outputs": [
        {
          "output_type": "display_data",
          "data": {
            "text/plain": [
              "<Figure size 432x288 with 1 Axes>"
            ],
            "image/png": "[encoded data removed]"
          },
          "metadata": {
            "needs_background": "light"
          }
        }
      ]
    }
  ]
}