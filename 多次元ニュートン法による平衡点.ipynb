{
  "nbformat": 4,
  "nbformat_minor": 0,
  "metadata": {
    "colab": {
      "provenance": [],
      "authorship_tag": "ABX9TyO4P6VWiFd2LFwavek0Zc8L",
      "include_colab_link": true
    },
    "kernelspec": {
      "name": "python3",
      "display_name": "Python 3"
    },
    "language_info": {
      "name": "python"
    }
  },
  "cells": [
    {
      "cell_type": "markdown",
      "metadata": {
        "id": "view-in-github",
        "colab_type": "text"
      },
      "source": [
        "<a href=\"https://colab.research.google.com/github/akiumiann/googlecolab/blob/main/%E5%A4%9A%E6%AC%A1%E5%85%83%E3%83%8B%E3%83%A5%E3%83%BC%E3%83%88%E3%83%B3%E6%B3%95%E3%81%AB%E3%82%88%E3%82%8B%E5%B9%B3%E8%A1%A1%E7%82%B9.ipynb\" target=\"_parent\"><img src=\"https://colab.research.google.com/assets/colab-badge.svg\" alt=\"Open In Colab\"/></a>"
      ]
    },
    {
      "cell_type": "code",
      "execution_count": null,
      "metadata": {
        "id": "Pb-rDYQI3iFM"
      },
      "outputs": [],
      "source": [
        "import numpy as np\n",
        "import matplotlib.pyplot as plt"
      ]
    },
    {
      "cell_type": "code",
      "source": [
        "def fx1(x,y,z):\n",
        "  fx = np.array([ -10*x+10*y, -x*z+28*x-y, x*y-(8/3)*z ])\n",
        "  return fx\n",
        "\n",
        "def df_1(a,b,c):\n",
        "   dfdx = np.array([ [-10.,10.,0.],\n",
        "            [-c+28,-1,-a],\n",
        "            [b,a,-(8/3)] ])\n",
        "   return dfdx\n",
        "\n",
        "#ガウスの消去法\n",
        "def gaussian_elimination(A_list, b_list):\n",
        "    A_array = np.array(A_list)\n",
        "    b_array = np.array(b_list)\n",
        "#前進消去法\n",
        "    for i in range(1, A_array.shape[0]):\n",
        "        for j in range(i, A_array.shape[0]):\n",
        "          hi = A_array[j, i-1] / A_array[i-1, i-1]\n",
        "          A_array[j] = A_array[j] - A_array[i-1] * hi\n",
        "          b_array[j] = b_array[j] - b_array[i-1] * hi\n",
        "#後退消去法\n",
        "    for i in range(A_array.shape[0]-2, -1, -1):\n",
        "        for j in range(i, -1, -1):\n",
        "            hi = A_array[j, i+1] / A_array[i+1, i+1]\n",
        "            A_array[j] = A_array[j] - A_array[i+1] * hi\n",
        "            b_array[j] = b_array[j] - b_array[i+1] * hi\n",
        "#解の算出\n",
        "    true_x = []\n",
        "    for i in range(A_array.shape[0]):\n",
        "        true_x.append(b_array[i] / A_array[i, i])\n",
        "    return true_x\n",
        "\n",
        "def calc_x0_Newton_method(x1,y1,z1):\n",
        "  x0 = np.array([0, 0, 0])\n",
        "  xn = np.array([x1,y1,z1])\n",
        "  for i in range (1000):\n",
        "    A = df_1(xn[0],xn[1],xn[2])\n",
        "    b = fx1(xn[0],xn[1],xn[2])\n",
        "    R = gaussian_elimination(A, b)\n",
        "    x0 = xn - R\n",
        "    if abs(xn[0] - x0[0]) < 1.e-6:\n",
        "        print('Converged! Iterations = ', i)\n",
        "        break\n",
        "    xn = x0\n",
        "  return x0\n",
        "\n",
        "calc_x0_Newton_method(5,5,5)"
      ],
      "metadata": {
        "colab": {
          "base_uri": "https://localhost:8080/"
        },
        "id": "3ea45PMj3r6Z",
        "outputId": "eefff5f9-4f5a-4840-a052-41976ce8f39b"
      },
      "execution_count": null,
      "outputs": [
        {
          "output_type": "stream",
          "name": "stdout",
          "text": [
            "Converged! Iterations =  7\n"
          ]
        },
        {
          "output_type": "execute_result",
          "data": {
            "text/plain": [
              "array([-8.48528137, -8.48528137, 27.        ])"
            ]
          },
          "metadata": {},
          "execution_count": 2
        }
      ]
    }
  ]
}