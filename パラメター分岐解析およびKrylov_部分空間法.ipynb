{
  "nbformat": 4,
  "nbformat_minor": 0,
  "metadata": {
    "colab": {
      "provenance": [],
      "authorship_tag": "ABX9TyMBKm0LJf0TslwM+gCfSQ7I",
      "include_colab_link": true
    },
    "kernelspec": {
      "name": "python3",
      "display_name": "Python 3"
    },
    "language_info": {
      "name": "python"
    }
  },
  "cells": [
    {
      "cell_type": "markdown",
      "metadata": {
        "id": "view-in-github",
        "colab_type": "text"
      },
      "source": [
        "<a href=\"https://colab.research.google.com/github/akiumiann/googlecolab/blob/main/%E3%83%91%E3%83%A9%E3%83%A1%E3%82%BF%E3%83%BC%E5%88%86%E5%B2%90%E8%A7%A3%E6%9E%90%E3%81%8A%E3%82%88%E3%81%B3Krylov_%E9%83%A8%E5%88%86%E7%A9%BA%E9%96%93%E6%B3%95.ipynb\" target=\"_parent\"><img src=\"https://colab.research.google.com/assets/colab-badge.svg\" alt=\"Open In Colab\"/></a>"
      ]
    },
    {
      "cell_type": "markdown",
      "source": [
        "第 1 問 (パラメター分岐解析)"
      ],
      "metadata": {
        "id": "-4HTZwK7x7Zc"
      }
    },
    {
      "cell_type": "code",
      "execution_count": null,
      "metadata": {
        "id": "zl4LjHkyx1p7"
      },
      "outputs": [],
      "source": [
        "import numpy as np\n",
        "import matplotlib.pyplot as plt"
      ]
    },
    {
      "cell_type": "code",
      "source": [
        "def f(x):\n",
        "  return x\n",
        "def g(x):\n",
        "  return np.tanh(x)\n",
        "def df_1(x):\n",
        "  return 1\n",
        "def dg_1(x):\n",
        "  return 1.0/(np.cosh(x)**2)"
      ],
      "metadata": {
        "id": "DMn65KD29PEw"
      },
      "execution_count": null,
      "outputs": []
    },
    {
      "cell_type": "code",
      "source": [
        "def calc_damped_Newton_method(x1, mu):\n",
        "  B=np.array(range(10))\n",
        "  X1=np.array(range(10))\n",
        "  x2 = x1\n",
        "  for b in range(1,10,1):\n",
        "   B[b]=b\n",
        "   print(B)\n",
        "   for i in range (1000):\n",
        "     x0 = x1 - mu*((f(x1)-g(b*x1))/(df_1(x1)-b*dg_1(b*x1)))\n",
        "     # err = abs(x1 - x0)\n",
        "     err = abs(f(x0)-g(b*x0)) #残差\n",
        "     if err < 1.e-10:\n",
        "          X1[b]=round(x1)\n",
        "          print(X1)\n",
        "          print('Converged! Iterations = ', i)\n",
        "          break\n",
        "     x1 = x0\n",
        "\n",
        "     if i == 999: # 収束しなかった場合\n",
        "      print(\"NOT Converged!!!\")\n",
        "      print(f\"x0 = {x0}\")\n",
        "      print(f\"f(x0) = {f(x0)}\")\n",
        "      print(f\"g(x0) = {g(x0)}\")\n",
        "      print(f\"err = {err}\")\n",
        "      return x0\n",
        "   print(x1)\n",
        "   x1 = x2\n",
        "\n",
        "  print(B)\n",
        "  print(X1)\n",
        "  plt.xlim([0, 9])\n",
        "  plt.ylim([-0.5,1.5])\n",
        "  plt.plot(B,X1)\n",
        "  plt.axhline(y=0, c=\"k\") # x軸をプロット\n",
        "  plt.xlabel(\"b\")\n",
        "  #plt.ylabel(\"f(x)-g(x)\")"
      ],
      "metadata": {
        "id": "DNMwfCmb9W59"
      },
      "execution_count": null,
      "outputs": []
    },
    {
      "cell_type": "code",
      "source": [
        "x1 = 8.0\n",
        "mu = 0.8\n",
        "calc_damped_Newton_method(x1, mu)"
      ],
      "metadata": {
        "colab": {
          "base_uri": "https://localhost:8080/",
          "height": 962
        },
        "id": "q3-hutvCO58g",
        "outputId": "796a3315-4f72-41f7-9730-082da645ff55"
      },
      "execution_count": null,
      "outputs": [
        {
          "output_type": "stream",
          "name": "stdout",
          "text": [
            "[0 1 2 3 4 5 6 7 8 9]\n",
            "[0 0 2 3 4 5 6 7 8 9]\n",
            "Converged! Iterations =  25\n",
            "0.0007673930118474885\n",
            "[0 1 2 3 4 5 6 7 8 9]\n",
            "[0 0 1 3 4 5 6 7 8 9]\n",
            "Converged! Iterations =  15\n",
            "0.9575040244338558\n",
            "[0 1 2 3 4 5 6 7 8 9]\n",
            "[0 0 1 1 4 5 6 7 8 9]\n",
            "Converged! Iterations =  15\n",
            "0.9949015287002949\n",
            "[0 1 2 3 4 5 6 7 8 9]\n",
            "[0 0 1 1 1 5 6 7 8 9]\n",
            "Converged! Iterations =  15\n",
            "0.9993256732476008\n",
            "[0 1 2 3 4 5 6 7 8 9]\n",
            "[0 0 1 1 1 1 6 7 8 9]\n",
            "Converged! Iterations =  15\n",
            "0.9999091219451297\n",
            "[0 1 2 3 4 5 6 7 8 9]\n",
            "[0 0 1 1 1 1 1 7 8 9]\n",
            "Converged! Iterations =  15\n",
            "0.9999877100678237\n",
            "[0 1 2 3 4 5 6 7 8 9]\n",
            "[0 0 1 1 1 1 1 1 8 9]\n",
            "Converged! Iterations =  15\n",
            "0.9999983371346121\n",
            "[0 1 2 3 4 5 6 7 8 9]\n",
            "[0 0 1 1 1 1 1 1 1 9]\n",
            "Converged! Iterations =  15\n",
            "0.9999997751582435\n",
            "[0 1 2 3 4 5 6 7 8 9]\n",
            "[0 0 1 1 1 1 1 1 1 1]\n",
            "Converged! Iterations =  15\n",
            "0.9999999697694005\n",
            "[0 1 2 3 4 5 6 7 8 9]\n",
            "[0 0 1 1 1 1 1 1 1 1]\n"
          ]
        },
        {
          "output_type": "display_data",
          "data": {
            "text/plain": [
              "<Figure size 432x288 with 1 Axes>"
            ],
            "image/png": "[encoded data removed]"
          },
          "metadata": {
            "needs_background": "light"
          }
        }
      ]
    },
    {
      "cell_type": "markdown",
      "source": [
        "第 2 問 (連立 1 次方程式の反復解法, Krylov 部分空間法)"
      ],
      "metadata": {
        "id": "tH6zOTTL2VCr"
      }
    },
    {
      "cell_type": "code",
      "source": [
        "\n",
        "\n",
        "def ConjugateGradientMethod(a,b1,c,d,e,f,g,h,i):\n",
        "  A = np.array([\n",
        "    [4,-1,0,0,0,0,0,0,0],\n",
        "    [-1,4,-1,0,0,0,0,0,0],\n",
        "    [0,-1,4,-1,0,0,0,0,0],\n",
        "    [0,0,-1,4,-1,0,0,0,0],\n",
        "    [0,0,0,-1,4,-1,0,0,0],\n",
        "    [0,0,0,0,-1,4,-1,0,0],\n",
        "    [0,0,0,0,0,-1,4,-1,0],\n",
        "    [0,0,0,0,0,0,-1,4,-1],\n",
        "    [0,0,0,0,0,0,0,-1,4]\n",
        "  ])\n",
        "\n",
        "  bT = np.array([\n",
        "    [3,2,2,2,2,2,2,2,3]\n",
        "  ])\n",
        "\n",
        "  b = bT.T\n",
        "  x0T = np.array([0,0,0,0,0,0,0,0,0])\n",
        "  x0 = x0T.T\n",
        "  xnT = np.array([0,0,0,0,0,0,0,0,0])\n",
        "  xn = xnT.T\n",
        "  rnT = np.array([a,b1,c,d,e,f,g,h,i])\n",
        "  rn = rnT.T\n",
        "  pnT = np.array([a,b1,c,d,e,f,g,h,i])\n",
        "  pn = pnT.T\n",
        "  r0T = bT - A@x0\n",
        "  p0T = r0T\n",
        "  r0 = r0T.T\n",
        "  p0 = p0T.T\n",
        "\n",
        "  for k in range (100):\n",
        "    q0 = A@p0\n",
        "    a0 = (r0T@p0)/(p0T@A@p0)\n",
        "    print('q',q0)\n",
        "    #print('a',a0)\n",
        "    x0 = a0*p0\n",
        "    x0T = x0.T\n",
        "    x0T = x0T + xn\n",
        "    #print('x0T',x0T)\n",
        "    rn = r0 - a0*A@p0\n",
        "    #print('rn',rn)\n",
        "    if abs(all(rn < 1.0e-6)):\n",
        "        print('Converged! Iterations = ', k)\n",
        "        break\n",
        "    rnT = rn.T\n",
        "    r0T = r0.T\n",
        "    #print('rnT',rnT)\n",
        "    b0 = (rnT@rn)/(r0T@r0)\n",
        "    pn = rn + b0*p0\n",
        "    pnT = pn.T\n",
        "    p0 = pn\n",
        "    r0 = rn\n",
        "    p0T = pnT\n",
        "    r0T = rnT\n",
        "    xn = x0T\n",
        "\n",
        "  return x0T"
      ],
      "metadata": {
        "id": "BPFfD2KP-p5o"
      },
      "execution_count": null,
      "outputs": []
    },
    {
      "cell_type": "code",
      "source": [
        "ConjugateGradientMethod(1,2,3,4,5,6,7,8,9)"
      ],
      "metadata": {
        "colab": {
          "base_uri": "https://localhost:8080/"
        },
        "id": "4xvVRC1uSSiz",
        "outputId": "13fa52e6-3848-4f2c-af6d-5c2a9af0cc29"
      },
      "execution_count": null,
      "outputs": [
        {
          "output_type": "stream",
          "name": "stdout",
          "text": [
            "q [[10]\n",
            " [ 3]\n",
            " [ 4]\n",
            " [ 4]\n",
            " [ 4]\n",
            " [ 4]\n",
            " [ 4]\n",
            " [ 3]\n",
            " [10]]\n",
            "q [[-4.2684949 ]\n",
            " [ 4.09980867]\n",
            " [ 0.6747449 ]\n",
            " [ 1.08545918]\n",
            " [ 1.08545918]\n",
            " [ 1.08545918]\n",
            " [ 0.6747449 ]\n",
            " [ 4.09980867]\n",
            " [-4.2684949 ]]\n",
            "q [[-0.21877103]\n",
            " [-0.87508412]\n",
            " [ 0.94833366]\n",
            " [ 0.13633911]\n",
            " [ 0.23713579]\n",
            " [ 0.13633911]\n",
            " [ 0.94833366]\n",
            " [-0.87508412]\n",
            " [-0.21877103]]\n",
            "q [[-0.01287753]\n",
            " [-0.05151012]\n",
            " [-0.19316294]\n",
            " [ 0.25295732]\n",
            " [ 0.02206406]\n",
            " [ 0.25295732]\n",
            " [-0.19316294]\n",
            " [-0.05151012]\n",
            " [-0.01287753]]\n",
            "q [[-0.00075923]\n",
            " [-0.00303692]\n",
            " [-0.01138843]\n",
            " [-0.04251682]\n",
            " [ 0.11616202]\n",
            " [-0.04251682]\n",
            " [-0.01138843]\n",
            " [-0.00303692]\n",
            " [-0.00075923]]\n",
            "Converged! Iterations =  4\n"
          ]
        },
        {
          "output_type": "execute_result",
          "data": {
            "text/plain": [
              "array([[1., 1., 1., 1., 1., 1., 1., 1., 1.]])"
            ]
          },
          "metadata": {},
          "execution_count": 6
        }
      ]
    },
    {
      "cell_type": "code",
      "source": [],
      "metadata": {
        "id": "y9b3mWlzg_Ug"
      },
      "execution_count": null,
      "outputs": []
    }
  ]
}