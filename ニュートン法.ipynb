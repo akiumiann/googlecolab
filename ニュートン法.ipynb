{
  "nbformat": 4,
  "nbformat_minor": 0,
  "metadata": {
    "colab": {
      "provenance": [],
      "authorship_tag": "ABX9TyMHRgTx3VJI+KbT7+OUSkS1",
      "include_colab_link": true
    },
    "kernelspec": {
      "name": "python3",
      "display_name": "Python 3"
    },
    "language_info": {
      "name": "python"
    }
  },
  "cells": [
    {
      "cell_type": "markdown",
      "metadata": {
        "id": "view-in-github",
        "colab_type": "text"
      },
      "source": [
        "<a href=\"https://colab.research.google.com/github/akiumiann/googlecolab/blob/main/%E3%83%8B%E3%83%A5%E3%83%BC%E3%83%88%E3%83%B3%E6%B3%95.ipynb\" target=\"_parent\"><img src=\"https://colab.research.google.com/assets/colab-badge.svg\" alt=\"Open In Colab\"/></a>"
      ]
    },
    {
      "cell_type": "markdown",
      "source": [
        "第 1 問 (ニュートン法の発展)"
      ],
      "metadata": {
        "id": "SZ57r2TFyQMF"
      }
    },
    {
      "cell_type": "code",
      "execution_count": null,
      "metadata": {
        "colab": {
          "base_uri": "https://localhost:8080/"
        },
        "id": "ul_9sra5xeEc",
        "outputId": "19cf580b-f84e-4a81-a1ea-e2d31694a45b"
      },
      "outputs": [
        {
          "output_type": "stream",
          "name": "stdout",
          "text": [
            "Converged! Iterations =  5\n"
          ]
        },
        {
          "output_type": "execute_result",
          "data": {
            "text/plain": [
              "8.324739243431686"
            ]
          },
          "metadata": {},
          "execution_count": 3
        }
      ],
      "source": [
        "import numpy as np\n",
        "import matplotlib.pyplot as plt\n",
        "#求めたい方程式\n",
        "def fx(x):\n",
        "  y = np.tan(x) + 0.2*x + 0.3\n",
        "  return y\n",
        "\n",
        "#微分した方程式\n",
        "def df_1(a):\n",
        "  dfdx = 1/np.cos(a)**2 + 0.2\n",
        "  return dfdx\n",
        "\n",
        "#ニュートン法\n",
        "def calc_x0_Newton_method(x1):\n",
        "  for i in range (1000):\n",
        "    x0 = x1 - fx(x1)/df_1(x1)\n",
        "    if abs(x1 - x0) < 1.e-6:\n",
        "        print('Converged! Iterations = ', i)\n",
        "        break\n",
        "    x1 = x0\n",
        "  return x0\n",
        "\n",
        "#メイン実行部\n",
        "x_ini = 10\n",
        "calc_x0_Newton_method(x_ini)"
      ]
    },
    {
      "cell_type": "code",
      "source": [
        "x_ini = 5\n",
        "calc_x0_Newton_method(x_ini)"
      ],
      "metadata": {
        "colab": {
          "base_uri": "https://localhost:8080/"
        },
        "id": "P3OLr88C2yvx",
        "outputId": "53cff598-d509-41ba-df0d-06797847734f"
      },
      "execution_count": null,
      "outputs": [
        {
          "output_type": "stream",
          "name": "stdout",
          "text": [
            "Converged! Iterations =  5\n"
          ]
        },
        {
          "output_type": "execute_result",
          "data": {
            "text/plain": [
              "5.34337965077286"
            ]
          },
          "metadata": {},
          "execution_count": 64
        }
      ]
    },
    {
      "cell_type": "code",
      "source": [
        "x_ini = 100\n",
        "calc_x0_Newton_method(x_ini)"
      ],
      "metadata": {
        "id": "6ohOE6MD220j",
        "outputId": "912bc8d0-1149-4ac9-8244-9dea63fe53d5",
        "colab": {
          "base_uri": "https://localhost:8080/"
        }
      },
      "execution_count": null,
      "outputs": [
        {
          "output_type": "stream",
          "name": "stdout",
          "text": [
            "Converged! Iterations =  18\n"
          ]
        },
        {
          "output_type": "execute_result",
          "data": {
            "text/plain": [
              "26.877940724672047"
            ]
          },
          "metadata": {},
          "execution_count": 65
        }
      ]
    },
    {
      "cell_type": "markdown",
      "source": [
        "f(x)がtan(x)なのでg(x)との交点が無限に存在する．\n",
        "よって，適当に定める値を変えることでニュートン法を使った時のx0の値が変わることが分かった．"
      ],
      "metadata": {
        "id": "rfrCHDJM1iws"
      }
    },
    {
      "cell_type": "markdown",
      "source": [
        "第 2 問 f(x) = x\n",
        "5 − 7x\n",
        "4 + 16x\n",
        "3 − 8x\n",
        "2 − 16x + 16 = 0"
      ],
      "metadata": {
        "id": "nnUfjrfxVZaN"
      }
    },
    {
      "cell_type": "code",
      "source": [
        "#求めたい方程式\n",
        "def fx2(x):\n",
        "  y = x**5 - 7*x**4 + 16*x**3 - 8*x**2 - 16*x + 16\n",
        "  return y\n",
        "\n",
        "#解\n",
        "z = []\n",
        "z = np.roots([1,-7,16,-8,-16,16])\n",
        "print(z)\n",
        "\n",
        "#微分した方程式\n",
        "def df_2(a):\n",
        "  dfdx = 5*a**4 - 28*a**3 + 48*a**2 - 16*a -16\n",
        "  return dfdx\n",
        "\n",
        "#ニュートン法\n",
        "def calc_x0_Newton_method(x1):\n",
        "  for i in range (1000):\n",
        "    x0 = x1 - fx2(x1)/df_2(x1)\n",
        "    if abs(x1 - x0) < 1.e-6:\n",
        "        print('Converged! Iterations = ', i)\n",
        "        break\n",
        "    x1 = x0\n",
        "  return x0\n",
        "#メイン実行部\n"
      ],
      "metadata": {
        "id": "DIPl4FqR0U-5",
        "colab": {
          "base_uri": "https://localhost:8080/"
        },
        "outputId": "5db1b038-bf9f-4df6-fcc2-296059749564"
      },
      "execution_count": null,
      "outputs": [
        {
          "output_type": "stream",
          "name": "stdout",
          "text": [
            "[-1.        +0.j          2.00026461+0.j          1.99999997+0.00026459j\n",
            "  1.99999997-0.00026459j  1.99973544+0.j        ]\n"
          ]
        }
      ]
    },
    {
      "cell_type": "code",
      "source": [
        "x_ini = 2000\n",
        "calc_x0_Newton_method(x_ini)"
      ],
      "metadata": {
        "colab": {
          "base_uri": "https://localhost:8080/"
        },
        "id": "4VM_FWmbZa4z",
        "outputId": "9c5a26f4-9df4-4d8f-d60a-41699987ef7f"
      },
      "execution_count": null,
      "outputs": [
        {
          "output_type": "stream",
          "name": "stdout",
          "text": [
            "Converged! Iterations =  70\n"
          ]
        },
        {
          "output_type": "execute_result",
          "data": {
            "text/plain": [
              "2.000181799490002"
            ]
          },
          "metadata": {},
          "execution_count": 57
        }
      ]
    },
    {
      "cell_type": "code",
      "source": [
        "x_ini = 10\n",
        "calc_x0_Newton_method(x_ini)"
      ],
      "metadata": {
        "colab": {
          "base_uri": "https://localhost:8080/"
        },
        "id": "YEQk-e79zLHM",
        "outputId": "4a8deb6e-079e-4357-b65d-d499eae8f292"
      },
      "execution_count": null,
      "outputs": [
        {
          "output_type": "stream",
          "name": "stdout",
          "text": [
            "Converged! Iterations =  65\n"
          ]
        },
        {
          "output_type": "execute_result",
          "data": {
            "text/plain": [
              "1.9997559460220404"
            ]
          },
          "metadata": {},
          "execution_count": 60
        }
      ]
    },
    {
      "cell_type": "code",
      "source": [
        "x_ini = -100\n",
        "calc_x0_Newton_method(x_ini)"
      ],
      "metadata": {
        "colab": {
          "base_uri": "https://localhost:8080/"
        },
        "id": "-Lnu4jABzK2E",
        "outputId": "8069c5eb-85a5-44cd-fbd5-89b93bf9ae65"
      },
      "execution_count": null,
      "outputs": [
        {
          "output_type": "stream",
          "name": "stdout",
          "text": [
            "Converged! Iterations =  21\n"
          ]
        },
        {
          "output_type": "execute_result",
          "data": {
            "text/plain": [
              "-1.000000000000008"
            ]
          },
          "metadata": {},
          "execution_count": 58
        }
      ]
    },
    {
      "cell_type": "markdown",
      "source": [
        "どの値で試しても，だいたい-1か2に定まることが分かった．\n",
        "また，numpyの根を求めるプログラムを使っても-1と2になることが分かった．\n",
        "適当に定める値が大きいほど，収束に時間がかかった．2から値が離れているからだと考える．"
      ],
      "metadata": {
        "id": "0sfit_jpzd1k"
      }
    },
    {
      "cell_type": "markdown",
      "source": [
        "第 3 問 ガウスの消去法のプログラム"
      ],
      "metadata": {
        "id": "YrHDGJMhcXHy"
      }
    },
    {
      "cell_type": "code",
      "source": [
        "def Gauss_elimination(A, b, N):\n",
        "  # 前進消去(上三角行列)\n",
        "  for i in range(N):\n",
        "    diag = A[i, i] # 対角成分を入手(diagonal)\n",
        "    A[i, 0:N] = A[i, 0:N]/diag # 行列Aの(i+1)行の要素すべてをdiagで割る\n",
        "    b[i] = b[i]/diag # bの(i+1)行目も忘れずに\n",
        "    for k in range(i+1, N):\n",
        "      p = A[k, i]\n",
        "      A[k, 0:N] -= p * A[i, 0:N] # 定数倍を引く\n",
        "      b[k] -= p * b[i] # bも上と同様に\n",
        "  # 後退代入\n",
        "  for i in range(N-1, 0, -1): # reversed(range(N))でもよい\n",
        "    # N行目から解を求める\n",
        "    for j in range(i):\n",
        "      b[j] -= A[j, i] * b[i] / A[i, i] # 解が求まったところから更新する\n",
        "\n",
        "  return A, b"
      ],
      "metadata": {
        "id": "oRaZCdX4cO1S"
      },
      "execution_count": null,
      "outputs": []
    },
    {
      "cell_type": "code",
      "source": [
        "A = np.array([[1,2,1], [3,8,7], [2,7,4]])\n",
        "b = np.array([3,5,8]) # 横ベクトルなので注意\n",
        "N = 3\n",
        "[A, b] = Gauss_elimination(A, b, N)\n",
        "print(A)\n",
        "print(b)"
      ],
      "metadata": {
        "id": "nyis4HuwF335",
        "outputId": "93beaa51-d091-4703-f993-08dcf80a1986",
        "colab": {
          "base_uri": "https://localhost:8080/"
        }
      },
      "execution_count": null,
      "outputs": [
        {
          "output_type": "stream",
          "name": "stdout",
          "text": [
            "[[1 2 1]\n",
            " [0 1 2]\n",
            " [0 0 1]]\n",
            "[ 1  2 -2]\n"
          ]
        }
      ]
    },
    {
      "cell_type": "code",
      "source": [
        "# A,bを再定義\n",
        "A = np.array([[1,2,1], [3,8,7], [2,7,4]])\n",
        "b = np.array([3,5,8]) # 横ベクトルなので注意\n",
        "\n",
        "np.dot(np.linalg.inv(A), b)"
      ],
      "metadata": {
        "id": "9luJO_oDF7F1",
        "outputId": "19c946be-9ff3-4e59-9bd7-283c7ac784ac",
        "colab": {
          "base_uri": "https://localhost:8080/"
        }
      },
      "execution_count": null,
      "outputs": [
        {
          "output_type": "execute_result",
          "data": {
            "text/plain": [
              "array([ 1.,  2., -2.])"
            ]
          },
          "metadata": {},
          "execution_count": 12
        }
      ]
    }
  ]
}