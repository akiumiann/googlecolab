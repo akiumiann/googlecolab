{
  "nbformat": 4,
  "nbformat_minor": 0,
  "metadata": {
    "colab": {
      "provenance": [],
      "authorship_tag": "ABX9TyMCBtcA327Gzof8xFrVHuIH",
      "include_colab_link": true
    },
    "kernelspec": {
      "name": "python3",
      "display_name": "Python 3"
    },
    "language_info": {
      "name": "python"
    }
  },
  "cells": [
    {
      "cell_type": "markdown",
      "metadata": {
        "id": "view-in-github",
        "colab_type": "text"
      },
      "source": [
        "<a href=\"https://colab.research.google.com/github/akiumiann/googlecolab/blob/main/%E7%94%BB%E5%83%8F%E3%81%AE%E3%83%92%E3%82%B9%E3%83%88%E3%82%B0%E3%83%A9%E3%83%A0.ipynb\" target=\"_parent\"><img src=\"https://colab.research.google.com/assets/colab-badge.svg\" alt=\"Open In Colab\"/></a>"
      ]
    },
    {
      "cell_type": "code",
      "execution_count": null,
      "metadata": {
        "colab": {
          "base_uri": "https://localhost:8080/",
          "height": 265
        },
        "id": "UWzBHgaK704w",
        "outputId": "5a0457c1-e968-4f60-c398-680cf0f0f9fd"
      },
      "outputs": [
        {
          "output_type": "display_data",
          "data": {
            "text/plain": [
              "<Figure size 432x288 with 1 Axes>"
            ],
            "image/png": "[encoded data removed]"
          },
          "metadata": {
            "needs_background": "light"
          }
        }
      ],
      "source": [
        "### 画像のヒストグラムを表示 ###\n",
        "import cv2\n",
        "from matplotlib import pyplot as plt\n",
        "\n",
        "# 画像をグレースケールで読み込み\n",
        "img_gray = cv2.imread('cha-han.jpg', cv2.IMREAD_GRAYSCALE)\n",
        "\n",
        "# ヒストグラムをグラフ表示\n",
        "plt.hist(img_gray.ravel(), 256, [0,256]);"
      ]
    },
    {
      "cell_type": "code",
      "source": [
        "### 画像のヒストグラムを平滑化 ###\n",
        "import cv2\n",
        "from matplotlib import pyplot as plt\n",
        "\n",
        "# 画像をグレースケールで読み込み\n",
        "img_gray = cv2.imread('ブログ用.jpg', cv2.IMREAD_GRAYSCALE)\n",
        "\n",
        "# ヒストグラムを平滑化\n",
        "img_histEqual = cv2.equalizeHist(img_gray)\n",
        "\n",
        "# ヒストグラムをグラフ表示\n",
        "plt.hist(img_histEqual.ravel(), 256, [0,256]);\n",
        "\n",
        "# 処理後の画像を保存\n",
        "cv2.imwrite(\"img_histEqual2.png\", img_histEqual)\n"
      ],
      "metadata": {
        "colab": {
          "base_uri": "https://localhost:8080/",
          "height": 294
        },
        "id": "zytxvMTU88mX",
        "outputId": "195ad136-2196-4064-94a2-df882bf1eaf6"
      },
      "execution_count": null,
      "outputs": [
        {
          "output_type": "execute_result",
          "data": {
            "text/plain": [
              "True"
            ]
          },
          "metadata": {},
          "execution_count": 10
        },
        {
          "output_type": "display_data",
          "data": {
            "text/plain": [
              "<Figure size 432x288 with 1 Axes>"
            ],
            "image/png": "[encoded data removed]"
          },
          "metadata": {
            "needs_background": "light"
          }
        }
      ]
    },
    {
      "cell_type": "code",
      "source": [
        "### ガンマ補正 ###\n",
        "import cv2\n",
        "import numpy as np\n",
        "from matplotlib import pyplot as plt\n",
        "\n",
        "# 画像をグレースケールで読み込み\n",
        "img_gray = cv2.imread('ブログ用.jpg', cv2.IMREAD_GRAYSCALE)\n",
        "\n",
        "# ガンマ変換用の数値準備\n",
        "gamma = 3     # γ値を指定\n",
        "img2gamma = np.zeros((256,1),dtype=np.uint8)  # ガンマ変換初期値\n",
        "\n",
        "# Y = 255(X/255)**(1/γ)\n",
        "for i in range(256):\n",
        "    img2gamma[i][0] = 255 * (float(i)/255) ** (1.0 /gamma)\n",
        "\n",
        "# 読込画像をガンマ変換\n",
        "img_gamma = cv2.LUT(img_gray, img2gamma)\n",
        "\n",
        "# ヒストグラムをグラフ表示\n",
        "plt.hist(img_gamma.ravel(), 256, [0,256]);\n",
        "\n",
        "# 処理後の画像を保存\n",
        "cv2.imwrite(\"img_gamma2.png\", img_gamma)"
      ],
      "metadata": {
        "colab": {
          "base_uri": "https://localhost:8080/",
          "height": 294
        },
        "id": "oV2S-LBU9iUo",
        "outputId": "5cb295ad-fea8-452f-bc4e-d9800b499f54"
      },
      "execution_count": null,
      "outputs": [
        {
          "output_type": "execute_result",
          "data": {
            "text/plain": [
              "True"
            ]
          },
          "metadata": {},
          "execution_count": 11
        },
        {
          "output_type": "display_data",
          "data": {
            "text/plain": [
              "<Figure size 432x288 with 1 Axes>"
            ],
            "image/png": "[encoded data removed]"
          },
          "metadata": {
            "needs_background": "light"
          }
        }
      ]
    }
  ]
}