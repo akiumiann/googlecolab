{
 "cells": [
  {
   "cell_type": "code",
   "execution_count": 35,
   "id": "7f9dd0fa",
   "metadata": {},
   "outputs": [
    {
     "name": "stdout",
     "output_type": "stream",
     "text": [
      "0.5877851538826917\n",
      "[2, 4, 8, 16, 32, 64, 128, 256, 512]\n",
      "[0.22226230564168425, 0.10670517445836725, 0.05202725381174089, 0.025656150355766294, 0.012735525353675947, 0.00634423343100432, 0.003166185803134547, 0.0015816041219910426, 0.000790429111144797]\n"
     ]
    },
    {
     "data": {
      "image/png": "[encoded data removed]",
      "text/plain": [
       "<Figure size 432x288 with 1 Axes>"
      ]
     },
     "metadata": {
      "needs_background": "light"
     },
     "output_type": "display_data"
    }
   ],
   "source": [
    "import numpy as np\n",
    "import matplotlib.pyplot as plt\n",
    "\n",
    "#使う関数の定義．\n",
    "def derivative(f, x, h):\n",
    "  return (f(x+h) - f(x)) / h\n",
    "def func(x):\n",
    "  return np.sin(x)\n",
    "\n",
    "#一回微分の値を数値的に求めよ．\n",
    "h = 0.000000001\n",
    "x = 0.3*np.pi\n",
    "t = derivative(func, x, h)\n",
    "print(t)\n",
    "\n",
    "#y=h,z=誤差でグラフを作成．\n",
    "y = []\n",
    "z = []\n",
    "\n",
    "for num in range(1,10):\n",
    "    num = 2**num\n",
    "    y.append(num)\n",
    "    num2 = 1/num\n",
    "    t = derivative(func, x, num2)\n",
    "    u = 0.587785252292473 - t\n",
    "    z.append(u)\n",
    "    \n",
    "print(y)\n",
    "print(z)\n",
    "plt.plot(y,z)\n",
    "plt.show()"
   ]
  },
  {
   "cell_type": "code",
   "execution_count": 40,
   "id": "e6b640bb",
   "metadata": {},
   "outputs": [
    {
     "data": {
      "text/latex": [
       "$\\displaystyle \\pi$"
      ],
      "text/plain": [
       "pi"
      ]
     },
     "execution_count": 40,
     "metadata": {},
     "output_type": "execute_result"
    }
   ],
   "source": [
    "from sympy import *\n",
    "\n",
    "#値がπになるかプログラムで確認．\n",
    "x = symbols('x')\n",
    "f = 4/(1+x**2)\n",
    "\n",
    "integrate(f,(x,0,1))"
   ]
  },
  {
   "cell_type": "code",
   "execution_count": 25,
   "id": "6165be01",
   "metadata": {},
   "outputs": [
    {
     "name": "stdout",
     "output_type": "stream",
     "text": [
      "[1.0, 0.000999000999000999, 0.0004997501249375312, 0.0003332222592469177, 0.00024993751562109475, 0.0001999600079984003, 0.00016663889351774705, 0.00014283673760891302, 0.00012498437695288088, 0.00011109876680368848]\n",
      "[0.8584073064102076, 0.845107255210646, 0.806229167737933, 0.7443707410824203, 0.6633129301754144, 0.5674063631456274, 0.4610054957834291, 0.3480609884543018, 0.23189765609060276, 0.11514756977529172]\n"
     ]
    },
    {
     "data": {
      "image/png": "[encoded data removed]",
      "text/plain": [
       "<Figure size 432x288 with 1 Axes>"
      ]
     },
     "metadata": {
      "needs_background": "light"
     },
     "output_type": "display_data"
    }
   ],
   "source": [
    "import numpy as np\n",
    "import matplotlib.pyplot as plt\n",
    "\n",
    "#使う関数の定義\n",
    "def f(x):\n",
    "    return 4/(1+x**2)\n",
    "\n",
    "def sigma(func, frm, to):\n",
    "    result = 0;\n",
    "    for i in range(frm, to+1):\n",
    "        result += func(i/10000) \n",
    "    return result\n",
    "\n",
    "#y=h,z=誤差でグラフ作成\n",
    "y = []\n",
    "z = []\n",
    "\n",
    "for num in range(1,10000,1000):\n",
    "    h = 1/num\n",
    "    y.append(h)\n",
    "    t = h*sigma(f,1,num)\n",
    "    u = t-np.pi\n",
    "    z.append(u)\n",
    "          \n",
    "print(y)\n",
    "print(z)\n",
    "plt.plot(y,z)\n",
    "plt.xlim([0.001,0])\n",
    "plt.ylim([0,1])\n",
    "plt.show()"
   ]
  },
  {
   "cell_type": "code",
   "execution_count": 7,
   "id": "ba4905f0",
   "metadata": {},
   "outputs": [
    {
     "name": "stdout",
     "output_type": "stream",
     "text": [
      "kon:4.000000\n",
      "kon2:0.000000\n",
      "  0:  -1.000000000000000 <= x <= 100.000000000000000\n",
      "  1:  -1.000000000000000 <= x <= 49.500000000000000\n",
      "  2:  -1.000000000000000 <= x <= 24.250000000000000\n",
      "  3:  -1.000000000000000 <= x <= 11.625000000000000\n",
      "  4:  -1.000000000000000 <= x <= 5.312500000000000\n",
      "  5:  2.156250000000000 <= x <= 5.312500000000000\n",
      "  6:  3.734375000000000 <= x <= 5.312500000000000\n",
      "  7:  3.734375000000000 <= x <= 4.523437500000000\n",
      "  8:  3.734375000000000 <= x <= 4.128906250000000\n",
      "  9:  3.931640625000000 <= x <= 4.128906250000000\n",
      " 10:  3.931640625000000 <= x <= 4.030273437500000\n",
      " 11:  3.980957031250000 <= x <= 4.030273437500000\n",
      " 12:  3.980957031250000 <= x <= 4.005615234375000\n",
      " 13:  3.993286132812500 <= x <= 4.005615234375000\n",
      " 14:  3.999450683593750 <= x <= 4.005615234375000\n",
      " 15:  3.999450683593750 <= x <= 4.002532958984375\n",
      " 16:  3.999450683593750 <= x <= 4.000991821289062\n",
      " 17:  3.999450683593750 <= x <= 4.000221252441406\n",
      " 18:  3.999835968017578 <= x <= 4.000221252441406\n",
      " 19:  3.999835968017578 <= x <= 4.000028610229492\n",
      " 20:  3.999932289123535 <= x <= 4.000028610229492\n",
      " 21:  3.999980449676514 <= x <= 4.000028610229492\n",
      " 22:  3.999980449676514 <= x <= 4.000004529953003\n",
      " 23:  3.999992489814758 <= x <= 4.000004529953003\n",
      " 24:  3.999998509883881 <= x <= 4.000004529953003\n",
      " 25:  3.999998509883881 <= x <= 4.000001519918442\n",
      " 26:  3.999998509883881 <= x <= 4.000000014901161\n",
      " 27:  3.999999262392521 <= x <= 4.000000014901161\n",
      " 28:  3.999999638646841 <= x <= 4.000000014901161\n",
      " 29:  3.999999826774001 <= x <= 4.000000014901161\n",
      " 30:  3.999999920837581 <= x <= 4.000000014901161\n",
      " 31:  3.999999967869371 <= x <= 4.000000014901161\n",
      " 32:  3.999999991385266 <= x <= 4.000000014901161\n",
      " 33:  3.999999991385266 <= x <= 4.000000003143214\n",
      " 34:  3.999999997264240 <= x <= 4.000000003143214\n",
      " 35:  3.999999997264240 <= x <= 4.000000000203727\n",
      " 36:  3.999999998733983 <= x <= 4.000000000203727\n",
      " 37:  3.999999999468855 <= x <= 4.000000000203727\n",
      " 38:  3.999999999836291 <= x <= 4.000000000203727\n",
      " 39:  3.999999999836291 <= x <= 4.000000000020009\n",
      " 40:  3.999999999928150 <= x <= 4.000000000020009\n",
      "x = 3.999999999928150\n"
     ]
    },
    {
     "data": {
      "image/png": "[encoded data removed]",
      "text/plain": [
       "<Figure size 432x288 with 1 Axes>"
      ]
     },
     "metadata": {
      "needs_background": "light"
     },
     "output_type": "display_data"
    }
   ],
   "source": [
    "import numpy as np\n",
    "import matplotlib.pyplot as plt\n",
    "\n",
    "#解きたい方程式\n",
    "def func_f(x):\n",
    "    return x**2-4*x\n",
    "\n",
    "kon = (4+np.sqrt(4**2-4*1*0))/2*1\n",
    "kon2 = (4-np.sqrt(4**2-4*1*0))/2*1\n",
    "\n",
    "print(\"kon:{:3f}\".format(kon))\n",
    "print(\"kon2:{:3f}\".format(kon2))\n",
    "\n",
    "#二分法\n",
    "def bisection(func_f, x_min, x_max, error=1e-10, max_loop=100):\n",
    "   \n",
    "    num_calc = 0\n",
    "    print(\"{:3d}:  {:.15f} <= x <= {:.15f}\".format(num_calc, x_min, x_max))\n",
    "\n",
    "    while(True):\n",
    "        x_mid = (x_max +x_min)/2.0\n",
    "        \n",
    "        if (0.0 < func_f(x_mid)*func_f(x_max)):\n",
    "            x_max = x_mid \n",
    "        else: \n",
    "            x_min = x_mid \n",
    "            \n",
    "        num_calc += 1  \n",
    "        print(\"{:3d}:  {:.15f} <= x <= {:.15f}\".format(num_calc, x_min, x_max))\n",
    "\n",
    "        if((x_max-x_min <= error) or max_loop <= num_calc):\n",
    "            break\n",
    "            \n",
    "    print(\"x = {:.15f}\".format(x_mid))\n",
    "\n",
    "    return x_mid\n",
    "\n",
    "\n",
    "#可視化\n",
    "def visualization(func_f, x_min, x_max, x_solved):\n",
    "   \n",
    "    exact_x = np.arange(x_min,x_max, (x_max-x_min)/500.0)\n",
    "    exact_y = func_f(exact_x)\n",
    "\n",
    "    plt.plot(exact_x,exact_y)\n",
    "    plt.scatter(x_solved,0.0)\n",
    "    plt.axhline(0, color='#000000')\n",
    "    plt.text(x_solved,0.0, \"$x$ = {:.9f}\".format(x_solved), va='bottom', color='#0000ff')\n",
    "    plt.show()\n",
    "    \n",
    "#メイン実行部\n",
    "if (__name__ == '__main__'):\n",
    "    solution = bisection(func_f, -1.0, 100)\n",
    "\n",
    "    visualization(func_f, solution-1.0, solution+1.0, solution)\n"
   ]
  }
 ],
 "metadata": {
  "kernelspec": {
   "display_name": "Python 3 (ipykernel)",
   "language": "python",
   "name": "python3"
  },
  "language_info": {
   "codemirror_mode": {
    "name": "ipython",
    "version": 3
   },
   "file_extension": ".py",
   "mimetype": "text/x-python",
   "name": "python",
   "nbconvert_exporter": "python",
   "pygments_lexer": "ipython3",
   "version": "3.9.12"
  }
 },
 "nbformat": 4,
 "nbformat_minor": 5
}
