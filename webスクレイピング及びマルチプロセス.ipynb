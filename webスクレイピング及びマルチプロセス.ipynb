{
  "nbformat": 4,
  "nbformat_minor": 0,
  "metadata": {
    "colab": {
      "provenance": [],
      "authorship_tag": "ABX9TyO91cfQ3TaClILkMLC8EQXG",
      "include_colab_link": true
    },
    "kernelspec": {
      "name": "python3",
      "display_name": "Python 3"
    },
    "language_info": {
      "name": "python"
    }
  },
  "cells": [
    {
      "cell_type": "markdown",
      "metadata": {
        "id": "view-in-github",
        "colab_type": "text"
      },
      "source": [
        "<a href=\"https://colab.research.google.com/github/akiumiann/googlecolab/blob/main/web%E3%82%B9%E3%82%AF%E3%83%AC%E3%82%A4%E3%83%94%E3%83%B3%E3%82%B0%E5%8F%8A%E3%81%B3%E3%83%9E%E3%83%AB%E3%83%81%E3%83%97%E3%83%AD%E3%82%BB%E3%82%B9.ipynb\" target=\"_parent\"><img src=\"https://colab.research.google.com/assets/colab-badge.svg\" alt=\"Open In Colab\"/></a>"
      ]
    },
    {
      "cell_type": "markdown",
      "source": [
        "List 18: マルチプロセスを用いたプログラム"
      ],
      "metadata": {
        "id": "jWHYOX8m6hsW"
      }
    },
    {
      "cell_type": "code",
      "execution_count": null,
      "metadata": {
        "colab": {
          "base_uri": "https://localhost:8080/"
        },
        "id": "7jIpk1Jn6hG3",
        "outputId": "c9eba995-2944-42e3-af4e-ab0b83bf62ec"
      },
      "outputs": [
        {
          "output_type": "stream",
          "name": "stdout",
          "text": [
            "Sub process1:0\n",
            "Sub process2:0\n",
            "Sub process1:1\n",
            "Sub process1:2\n",
            "Sub process2:1\n",
            "Sub process1:3\n",
            "Sub process1:4\n",
            "Sub process1 ended\n",
            "Sub process2:2\n",
            "Sub process2:3\n",
            "Sub process2:4\n",
            "Sub process2 ended\n",
            " Main process ended \n"
          ]
        }
      ],
      "source": [
        "from multiprocessing import Process\n",
        "import time\n",
        "\n",
        "# 0.5 秒ごとに 0 -4 までの数字を書き込む関数\n",
        "def sub_process1():\n",
        "  for i in range(5):\n",
        "    time.sleep(0.5)\n",
        "    print( \"Sub process1:{}\".format(i))\n",
        "  print( \"Sub process1 ended\" )\n",
        "\n",
        "# 1 秒ごとに 0 -4 までの数字を書き込む関数\n",
        "def sub_process2():\n",
        "  for i in range(5):\n",
        "    time.sleep(1)\n",
        "    print( \"Sub process2:{}\".format(i))\n",
        "  print( \"Sub process2 ended\" )\n",
        "\n",
        "\n",
        "#メイン関数\n",
        "if __name__ == '__main__':\n",
        "\n",
        "    #プロセスの生成\n",
        "    process1 = Process( target=sub_process1,args=())\n",
        "    process2 = Process( target=sub_process2,args=())\n",
        "\n",
        "    #プロセスの開始\n",
        "    process1.start()\n",
        "    process2.start()\n",
        "\n",
        "    #プロセスの終了待ち\n",
        "    process1.join()\n",
        "    process2.join()\n",
        "\n",
        "    print( \" Main process ended \" )\n"
      ]
    },
    {
      "cell_type": "markdown",
      "source": [
        "[演習 2.16] リスト 18 のプログラムの動作を確認せよ. また, join 関数がない場合と\n",
        "の動作の違いを確認せよ."
      ],
      "metadata": {
        "id": "qh4rYOimH2wg"
      }
    },
    {
      "cell_type": "code",
      "source": [
        "from multiprocessing import Process\n",
        "import time\n",
        "\n",
        "def sub_process1():\n",
        "  for i in range(5):\n",
        "    time.sleep(0.5)\n",
        "    print(\"Sub process1:{}\".format(i))\n",
        "  print(\"Sub process1 ended\")\n",
        "\n",
        "def sub_process2():\n",
        "  for i in range(5):\n",
        "    time.sleep(1)\n",
        "    print(\"Sub process2:{}\".format(i))\n",
        "  print(\"Sub process2 ended\")\n",
        "\n",
        "if __name__ == '__main__':\n",
        "  process1 = Process(target = sub_process1, args = ())\n",
        "  process2 = Process(target = sub_process2, args = ())\n",
        "\n",
        "  process1.start()\n",
        "  process2.start()\n",
        "\n",
        "  print('Main process ended')"
      ],
      "metadata": {
        "colab": {
          "base_uri": "https://localhost:8080/"
        },
        "id": "oOMk4soABlFX",
        "outputId": "7ca2acfb-c995-45e2-8bab-12c54aeff88d"
      },
      "execution_count": null,
      "outputs": [
        {
          "output_type": "stream",
          "name": "stdout",
          "text": [
            "Main process ended\n"
          ]
        }
      ]
    },
    {
      "cell_type": "markdown",
      "source": [
        "List 19: マルチスレッドを用いたプログラム"
      ],
      "metadata": {
        "id": "36a48ljc7wE_"
      }
    },
    {
      "cell_type": "code",
      "source": [
        "from threading import Thread\n",
        "import time\n",
        "\n",
        "# 0.5 秒ごとに 0 -4 までの数字を書き込む関数\n",
        "def sub_thread1 () :\n",
        "    for i in range(5) :\n",
        "      time.sleep(0.5)\n",
        "      print( \" Sub thread1 : {} \" .format(i))\n",
        "    print( \" Sub thread1 ended \" )\n",
        "\n",
        "# 1 秒ごとに 0 -4 までの数字を書き込む関数\n",
        "def sub_thread2():\n",
        "    for i in range(5) :\n",
        "      time.sleep(1)\n",
        "      print( \" Sub thread2 : {} \" .format(i))\n",
        "    print( \" Sub thread2 ended \" )\n",
        "\n",
        "\n",
        "#メイン関数\n",
        "if __name__ == '__main__':\n",
        "\n",
        "    #スレッドの生成\n",
        "    thread1 = Thread( target = sub_thread1 , args =() )\n",
        "    thread2 = Thread( target = sub_thread2 , args =() )\n",
        "\n",
        "    #スレッドの開始\n",
        "    thread1.start()\n",
        "    thread2.start()\n",
        "\n",
        "    #スレッドの終了待ち\n",
        "    thread1.join()\n",
        "    thread2.join()\n",
        "\n",
        "    print ( \" Main thread ended \" )\n"
      ],
      "metadata": {
        "colab": {
          "base_uri": "https://localhost:8080/"
        },
        "id": "K3KatVg164GM",
        "outputId": "22cf5641-79a2-4283-cae2-140df7281972"
      },
      "execution_count": null,
      "outputs": [
        {
          "output_type": "stream",
          "name": "stdout",
          "text": [
            " Sub thread1 : 0 \n",
            " Sub thread1 : 1 \n",
            " Sub thread2 : 0 \n",
            " Sub thread1 : 2 \n",
            " Sub thread1 : 3 \n",
            " Sub thread2 : 1 \n",
            " Sub thread1 : 4 \n",
            " Sub thread1 ended \n",
            " Sub thread2 : 2 \n",
            " Sub thread2 : 3 \n",
            " Sub thread2 : 4 \n",
            " Sub thread2 ended \n",
            " Main thread ended \n"
          ]
        }
      ]
    },
    {
      "cell_type": "markdown",
      "source": [
        "List 20: プログラム実行時間の確認方法"
      ],
      "metadata": {
        "id": "MT5PfiVjFMML"
      }
    },
    {
      "cell_type": "code",
      "source": [
        "import time\n",
        "\n",
        "#時間計測開始\n",
        "time_start = time . perf_counter ()\n",
        "\n",
        "#時間計測終了\n",
        "time_end = time . perf_counter ()\n",
        "\n",
        "#経過時間\n",
        "tim = time_end - time_start\n",
        "\n",
        "print( \" Processing time :{} \" . format ( tim ) )"
      ],
      "metadata": {
        "colab": {
          "base_uri": "https://localhost:8080/"
        },
        "id": "z4s5Mm4r8PZ-",
        "outputId": "db28ee87-64b6-427e-b041-36eaad261958"
      },
      "execution_count": null,
      "outputs": [
        {
          "output_type": "stream",
          "name": "stdout",
          "text": [
            " Processing time :5.6456999573128996e-05 \n"
          ]
        }
      ]
    },
    {
      "cell_type": "markdown",
      "source": [
        "[演習 2.17] リスト 19 のプログラムの動作を確認せよ. また，動作時間を確認し，リ\n",
        "スト 18 との違いを確認せよ．動作時間については以下のリストを参照すること．"
      ],
      "metadata": {
        "id": "-msxacjhIGLH"
      }
    },
    {
      "cell_type": "code",
      "source": [
        "from multiprocessing import Process\n",
        "from threading import Thread\n",
        "import time\n",
        "\n",
        "#時間計測開始\n",
        "time_start = time . perf_counter ()\n",
        "\n",
        "\n",
        "# 0.5 秒ごとに 0 -4 までの数字を書き込む関数\n",
        "def sub_process1():\n",
        "  for i in range(5):\n",
        "    time.sleep(0.5)\n",
        "    print( \"Sub process1:{}\".format(i))\n",
        "  print( \"Sub process1 ended\" )\n",
        "\n",
        "# 1 秒ごとに 0 -4 までの数字を書き込む関数\n",
        "def sub_process2():\n",
        "  for i in range(5):\n",
        "    time.sleep(1)\n",
        "    print( \"Sub process2:{}\".format(i))\n",
        "  print( \"Sub process2 ended\" )\n",
        "\n",
        "\n",
        "#メイン関数\n",
        "if __name__ == '__main__':\n",
        "\n",
        "    #プロセスの生成\n",
        "    process1 = Process( target=sub_process1,args=())\n",
        "    process2 = Process( target=sub_process2,args=())\n",
        "\n",
        "    #プロセスの開始\n",
        "    process1.start()\n",
        "    process2.start()\n",
        "\n",
        "    #プロセスの終了待ち\n",
        "    process1.join()\n",
        "    process2.join()\n",
        "\n",
        "    print( \" Main process ended \" )\n",
        "\n",
        "#時間計測終了\n",
        "time_end = time . perf_counter ()\n",
        "\n",
        "#経過時間\n",
        "tim = time_end - time_start\n",
        "\n",
        "print( \"list18's Processing time :{} \" . format ( tim ) )\n",
        "\n",
        "#時間計測開始\n",
        "time_start = time . perf_counter ()\n",
        "\n",
        "# 0.5 秒ごとに 0 -4 までの数字を書き込む関数\n",
        "def sub_thread1 () :\n",
        "    for i in range(5) :\n",
        "      time.sleep(0.5)\n",
        "      print( \" Sub thread1 : {} \" .format(i))\n",
        "    print( \" Sub thread1 ended \" )\n",
        "\n",
        "# 1 秒ごとに 0 -4 までの数字を書き込む関数\n",
        "def sub_thread2():\n",
        "    for i in range(5) :\n",
        "      time.sleep(1)\n",
        "      print( \" Sub thread2 : {} \" .format(i))\n",
        "    print( \" Sub thread2 ended \" )\n",
        "\n",
        "\n",
        "#メイン関数\n",
        "if __name__ == '__main__':\n",
        "\n",
        "    #スレッドの生成\n",
        "    thread1 = Thread( target = sub_thread1 , args =() )\n",
        "    thread2 = Thread( target = sub_thread2 , args =() )\n",
        "\n",
        "    #スレッドの開始\n",
        "    thread1.start()\n",
        "    thread2.start()\n",
        "\n",
        "    #スレッドの終了待ち\n",
        "    thread1.join()\n",
        "    thread2.join()\n",
        "\n",
        "    print ( \" Main thread ended \" )\n",
        "\n",
        "\n",
        "#時間計測終了\n",
        "time_end = time . perf_counter ()\n",
        "\n",
        "#経過時間\n",
        "tim = time_end - time_start\n",
        "\n",
        "print( \"list19's Processing time :{} \" . format ( tim ) )"
      ],
      "metadata": {
        "colab": {
          "base_uri": "https://localhost:8080/"
        },
        "id": "2QFfBRBQIKid",
        "outputId": "3cb15012-6f94-46a1-fe4b-15668fa954b7"
      },
      "execution_count": null,
      "outputs": [
        {
          "output_type": "stream",
          "name": "stdout",
          "text": [
            "Sub process1:0\n",
            "Sub process2:0\n",
            "Sub process1:1\n",
            "Sub process1:2\n",
            "Sub process2:1\n",
            "Sub process1:3\n",
            "Sub process1:4\n",
            "Sub process1 ended\n",
            "Sub process2:2\n",
            "Sub process2:3\n",
            "Sub process2:4\n",
            "Sub process2 ended\n",
            " Main process ended \n",
            "list18's Processing time :5.048532346000002 \n",
            " Sub thread1 : 0 \n",
            " Sub thread2 : 0 \n",
            " Sub thread1 : 1 \n",
            " Sub thread1 : 2 \n",
            " Sub thread2 : 1 \n",
            " Sub thread1 : 3 \n",
            " Sub thread1 : 4 \n",
            " Sub thread1 ended \n",
            " Sub thread2 : 2 \n",
            " Sub thread2 : 3 \n",
            " Sub thread2 : 4 \n",
            " Sub thread2 ended \n",
            " Main thread ended \n",
            "list19's Processing time :5.011378253000004 \n"
          ]
        }
      ]
    },
    {
      "cell_type": "markdown",
      "source": [
        "[演習 2.18] リスト 21 のように, os ライブラリの getpid 関数を用いることでプロセ\n",
        "ス ID を取得することができる. リスト 18 のプログラミングを変更し, プロセス ID\n",
        "が異なることを確認せよ."
      ],
      "metadata": {
        "id": "tBacabNBJooI"
      }
    },
    {
      "cell_type": "code",
      "source": [
        "from multiprocessing import Process\n",
        "import time\n",
        "import os\n",
        "\n",
        "# 0.5 秒ごとに 0 -4 までの数字を書き込む関数\n",
        "def sub_process1():\n",
        "  for i in range(5):\n",
        "    time.sleep(0.5)\n",
        "    print( \"Sub process1:{}\".format(i))\n",
        "  print( \"Process ID :{} \" . format ( os . getpid () ) )\n",
        "  print( \"Sub process1 ended\" )\n",
        "\n",
        "# 1 秒ごとに 0 -4 までの数字を書き込む関数\n",
        "def sub_process2():\n",
        "  for i in range(5):\n",
        "    time.sleep(1)\n",
        "    print( \"Sub process2:{}\".format(i))\n",
        "  print( \"Process ID :{} \" . format ( os . getpid () ) )\n",
        "  print( \"Sub process2 ended\" )\n",
        "\n",
        "\n",
        "#メイン関数\n",
        "if __name__ == '__main__':\n",
        "\n",
        "    #プロセスの生成\n",
        "    process1 = Process( target=sub_process1,args=())\n",
        "    process2 = Process( target=sub_process2,args=())\n",
        "\n",
        "    #プロセスの開始\n",
        "    process1.start()\n",
        "    process2.start()\n",
        "\n",
        "    #プロセスの終了待ち\n",
        "    process1.join()\n",
        "    process2.join()\n",
        "\n",
        "    print( \" Main process ended \" )"
      ],
      "metadata": {
        "colab": {
          "base_uri": "https://localhost:8080/"
        },
        "id": "A1a1_oiPQahl",
        "outputId": "33f058b3-ade6-4b33-e444-c3402436bd3e"
      },
      "execution_count": null,
      "outputs": [
        {
          "output_type": "stream",
          "name": "stdout",
          "text": [
            "Sub process1:0\n",
            "Sub process1:1Sub process2:0\n",
            "\n",
            "Sub process1:2\n",
            "Sub process1:3Sub process2:1\n",
            "\n",
            "Sub process1:4\n",
            "Process ID :1887 \n",
            "Sub process1 ended\n",
            "Sub process2:2\n",
            "Sub process2:3\n",
            "Sub process2:4\n",
            "Process ID :1888 \n",
            "Sub process2 ended\n",
            " Main process ended \n"
          ]
        }
      ]
    },
    {
      "cell_type": "markdown",
      "source": [
        "List 21: プロセス ID の取得"
      ],
      "metadata": {
        "id": "4-2-pld9FejE"
      }
    },
    {
      "cell_type": "code",
      "source": [
        "import os\n",
        "\n",
        "print( os . getpid () )"
      ],
      "metadata": {
        "colab": {
          "base_uri": "https://localhost:8080/"
        },
        "id": "R1Z5Hb3-FbVL",
        "outputId": "aff66f74-3f11-4abd-db4a-41269d3f4947"
      },
      "execution_count": null,
      "outputs": [
        {
          "output_type": "stream",
          "name": "stdout",
          "text": [
            "763\n"
          ]
        }
      ]
    },
    {
      "cell_type": "markdown",
      "source": [
        "[演習 2.19] リスト 22 のプログラムの動作を確認せよ. 親プロセスから子プロセスへ\n",
        "値を渡す場合を実装せよ."
      ],
      "metadata": {
        "id": "QRKjw9XHNEZQ"
      }
    },
    {
      "cell_type": "markdown",
      "source": [
        "List 22: pipe による親子間通信"
      ],
      "metadata": {
        "id": "kbDFlln7Fj9W"
      }
    },
    {
      "cell_type": "code",
      "source": [
        "from multiprocessing import Process , Pipe\n",
        "\n",
        "def sub_process ( conn ) :\n",
        "  conn . send ( \" I'm children \" )\n",
        "  conn . close ()\n",
        "\n",
        "if __name__ == '__main__':\n",
        "  parent_conn , child_conn = Pipe () #パイプオブジェクトの生成\n",
        "  c_process = Process ( target = sub_process ,args =( child_conn ,) ) #子プロセスの生成\n",
        "  c_process . start ()\n",
        "  print ( parent_conn . recv () )\n",
        "  c_process . join ()"
      ],
      "metadata": {
        "colab": {
          "base_uri": "https://localhost:8080/"
        },
        "id": "_7-GqSJoFi7G",
        "outputId": "8e68c805-d9d6-4f92-e5e4-76f68f3fa415"
      },
      "execution_count": null,
      "outputs": [
        {
          "output_type": "stream",
          "name": "stdout",
          "text": [
            " I'm children \n"
          ]
        }
      ]
    },
    {
      "cell_type": "code",
      "source": [
        "from multiprocessing import Process , Pipe\n",
        "\n",
        "def sub_process ( conn ) :\n",
        "  conn . send ( \" I'm parent \" )\n",
        "  conn . close ()\n",
        "\n",
        "if __name__ == '__main__':\n",
        "  parent_conn , child_conn = Pipe () #パイプオブジェクトの生成\n",
        "  c_process = Process ( target = sub_process ,args =( parent_conn ,) )\n",
        "  c_process . start ()\n",
        "  print ( child_conn . recv () )\n",
        "  c_process . join ()"
      ],
      "metadata": {
        "colab": {
          "base_uri": "https://localhost:8080/"
        },
        "id": "boGFO3G0eGav",
        "outputId": "0c599673-1029-4620-d64f-a089f21f2194"
      },
      "execution_count": null,
      "outputs": [
        {
          "output_type": "stream",
          "name": "stdout",
          "text": [
            " I'm parent \n"
          ]
        }
      ]
    },
    {
      "cell_type": "markdown",
      "source": [
        "List 23: 共有メモリの書き込み"
      ],
      "metadata": {
        "id": "dLfsaAwKF7PQ"
      }
    },
    {
      "cell_type": "code",
      "source": [
        "from multiprocessing import shared_memory\n",
        "\n",
        "#共有メモリの作成\n",
        "try :\n",
        "  shm_a = shared_memory . SharedMemory ( create = True , size = 10, name = 'test_sh')\n",
        "except :\n",
        "  #共有メモリがすでに作成されている場合はアクセスのみ\n",
        "  shm_a = shared_memory . SharedMemory ( name = 'test_sh')\n",
        "\n",
        "#オブジェクトの作成\n",
        "buffer = shm_a . buf\n",
        "\n",
        "#共有メモリへの書き込み（shm_a . bufでもよい）[1]\n",
        "buffer [1] = 2\n",
        "buffer [2] = 3"
      ],
      "metadata": {
        "id": "Sh9dvuVmF5FF"
      },
      "execution_count": null,
      "outputs": []
    },
    {
      "cell_type": "markdown",
      "source": [
        "List 24: 共有メモリの読み込み\n"
      ],
      "metadata": {
        "id": "i2eS49gBG9gy"
      }
    },
    {
      "cell_type": "code",
      "source": [
        "from multiprocessing import shared_memory\n",
        "\n",
        "#共有メモリへのアクセス\n",
        "try :\n",
        "  shm = shared_memory . SharedMemory ( name = 'test_sh')\n",
        "  #オブジェクトの作成\n",
        "  buff = shm . buf\n",
        "\n",
        "  #共有メモリ内のオブジェクトの読み込み（shm . bufとかでもよい）[1]\n",
        "  print ( buff [1])\n",
        "  print ( buff [2])\n",
        "\n",
        "  #共有メモリの開放\n",
        "  shm . close ()\n",
        "except :\n",
        "  #共有メモリが設定されていない場合のエラー処理\n",
        "  print ( \" Shared Memory is not defined \" )\n",
        "  exit ()"
      ],
      "metadata": {
        "colab": {
          "base_uri": "https://localhost:8080/"
        },
        "id": "grRKlvY_GchZ",
        "outputId": "f13cd781-c46f-4e37-8195-b3183a1f74d2"
      },
      "execution_count": null,
      "outputs": [
        {
          "output_type": "stream",
          "name": "stdout",
          "text": [
            "2\n",
            "3\n"
          ]
        }
      ]
    },
    {
      "cell_type": "markdown",
      "source": [
        "[演習 2.20] リスト 26 のプログラムの動作を確認せよ. サーバ側は自分で ngrok を立\n",
        "ててもよいし，授業中に示したものを用いてもよい．\n"
      ],
      "metadata": {
        "id": "gYHurTzBNJt9"
      }
    },
    {
      "cell_type": "markdown",
      "source": [
        "List 26: クライアントプログラム"
      ],
      "metadata": {
        "id": "w3kku0T6aEdH"
      }
    },
    {
      "cell_type": "markdown",
      "source": [
        "[演習 3.21] リスト 27, 28 のプログラムの動作を確認せよ"
      ],
      "metadata": {
        "id": "5j8bIYKzVsig"
      }
    },
    {
      "cell_type": "markdown",
      "source": [
        "List 27: スクレイピングによる Web ページの解析"
      ],
      "metadata": {
        "id": "Un8MgT99TZCO"
      }
    },
    {
      "cell_type": "code",
      "source": [
        "# 指定ページの URL 一覧を取得\n",
        "import requests # ページのデータ取得モジュールWeb\n",
        "from bs4 import BeautifulSoup # html の操作モジュール\n",
        "\n",
        "target_url = \" https://www.engr.okayama-u.ac.jp/iem/staff/\"\n",
        "\n",
        "# を取得html\n",
        "html = requests.get( target_url )\n",
        "\n",
        "# 取得した html を BeautifulSoup を使って解析\n",
        "soup = BeautifulSoup( html.content,\"html.parser\" )\n",
        "\n",
        "# 解析した html から特定の要素今回は( a タグ)を抽出\n",
        "# 結果はリストで返される\n",
        "tmp_list = soup.select ( \"a\" )\n",
        "\n",
        "# 上記のままではタグそのまま取得されるので、さらに細かく抽出\n",
        "# 抽出した要素から href 属性を持っているかどうかを調べ、持っている場合は出力\n",
        "for tmp in tmp_list :\n",
        "  if tmp.get ( \"href\" ) is not None :\n",
        "    print( tmp.attrs [ \"href\" ])\n"
      ],
      "metadata": {
        "colab": {
          "base_uri": "https://localhost:8080/"
        },
        "id": "wcr_w_5rHR1U",
        "outputId": "278e3494-ed16-41b1-edaf-b9ba05cd982b"
      },
      "execution_count": null,
      "outputs": [
        {
          "output_type": "stream",
          "name": "stdout",
          "text": [
            "https://www.engr.okayama-u.ac.jp/iem\n",
            "https://www.engr.okayama-u.ac.jp/iem/profile\n",
            "https://www.engr.okayama-u.ac.jp/iem/profile\n",
            "https://www.engr.okayama-u.ac.jp/iem/profile/outline/message/\n",
            "https://www.engr.okayama-u.ac.jp/iem/profile/outline/philosophy/\n",
            "/iem/staff/\n",
            "https://www.engr.okayama-u.ac.jp/iem/profile/outline/licence/\n",
            "/iem/wp-content/uploads/2020/09/pdf_introduce_iem.pdf\n",
            "/iem/research/\n",
            "https://www.engr.okayama-u.ac.jp/iem/profile/research/curriculum/\n",
            "https://www.engr.okayama-u.ac.jp/iem/profile/research/yumenavi/\n",
            "https://www.engr.okayama-u.ac.jp/iem/track\n",
            "https://www.engr.okayama-u.ac.jp/iem/track\n",
            "https://www.cs.okayama-u.ac.jp/\n",
            "https://www.cne.okayama-u.ac.jp\n",
            "https://www.eee.okayama-u.ac.jp\n",
            "http://www.mtds.okayama-u.ac.jp/\n",
            "https://www.engr.okayama-u.ac.jp/iem/career\n",
            "https://www.engr.okayama-u.ac.jp/iem/career\n",
            "https://www.engr.okayama-u.ac.jp/iem/career/after-graduation/graduation/\n",
            "/iem/profile/outline/licence/\n",
            "/\n",
            "https://www.eng.okayama-u.ac.jp/\n",
            "http://www.est.okayama-u.ac.jp/\n",
            "https://www.engr.okayama-u.ac.jp/iem/contact\n",
            "https://www.engr.okayama-u.ac.jp/iem/access\n",
            "/en/\n",
            "/english/\n",
            "https://www.engr.okayama-u.ac.jp/iem/contact\n",
            "https://www.engr.okayama-u.ac.jp/iem/access\n",
            "https://www.engr.okayama-u.ac.jp/iem/news\n",
            "https://www.engr.okayama-u.ac.jp/iem/topics\n",
            "https://www.engr.okayama-u.ac.jp/iem/profile\n",
            "https://www.engr.okayama-u.ac.jp/iem/track\n",
            "https://www.engr.okayama-u.ac.jp/iem/career\n",
            "/\n",
            "https://www.eng.okayama-u.ac.jp/\n",
            "http://www.est.okayama-u.ac.jp/\n",
            "/privacy_policy/\n",
            "https://www.engr.okayama-u.ac.jp/iem/sitemap\n",
            "https://www.engr.okayama-u.ac.jp/iem\n",
            "https://soran.cc.okayama-u.ac.jp/html/613c867f5466f77974506e4da22f6611_ja.html\n",
            "https://soran.cc.okayama-u.ac.jp/html/a23e5110b34c4a9474506e4da22f6611_ja.html\n",
            "https://soran.cc.okayama-u.ac.jp/html/b9ef7f853c040eab74506e4da22f6611_ja.html\n",
            "https://soran.cc.okayama-u.ac.jp/html/203da27d211f18da74506e4da22f6611_ja.html\n",
            "https://soran.cc.okayama-u.ac.jp/html/e4ffefb17375857974506e4da22f6611_ja.html\n",
            "https://soran.cc.okayama-u.ac.jp/html/3425c216b85eda1e8c2fc0f9228a80e5_ja.html\n",
            "https://soran.cc.okayama-u.ac.jp/html/215a11277e8f1e6574506e4da22f6611_ja.html\n",
            "https://soran.cc.okayama-u.ac.jp/html/67a7aeb0d5131cde74506e4da22f6611_ja.html\n",
            "https://soran.cc.okayama-u.ac.jp/html/b2a40170a12bc0dc74506e4da22f6611_ja.html\n",
            "https://soran.cc.okayama-u.ac.jp/html/7d47ab0729cd2bfe74506e4da22f6611_ja.html\n",
            "https://soran.cc.okayama-u.ac.jp/html/5fe6cd066906988474506e4da22f6611_ja.html\n",
            "https://soran.cc.okayama-u.ac.jp/html/4239d73d4043be2374506e4da22f6611_ja.html\n",
            "https://soran.cc.okayama-u.ac.jp/html/a81f7c3607b9855e74506e4da22f6611_ja.html\n",
            "https://soran.cc.okayama-u.ac.jp/html/c7de477f809b9cbe74506e4da22f6611_ja.html\n",
            "https://soran.cc.okayama-u.ac.jp/html/a0c919607f05bad874506e4da22f6611_ja.html\n",
            "https://soran.cc.okayama-u.ac.jp/html/8623faa16e510fb974506e4da22f6611_ja.html\n",
            "https://soran.cc.okayama-u.ac.jp/html/6e177ee4b6bef46474506e4da22f6611_ja.html\n",
            "https://soran.cc.okayama-u.ac.jp/html/2bd988729630cdee74506e4da22f6611_ja.html\n",
            "https://soran.cc.okayama-u.ac.jp/html/abaa16584099985a74506e4da22f6611_ja.html\n",
            "https://soran.cc.okayama-u.ac.jp/html/03a4628e66fc89a174506e4da22f6611_ja.html\n",
            "https://soran.cc.okayama-u.ac.jp/html/76f749c699d87c1a74506e4da22f6611_ja.html\n",
            "https://soran.cc.okayama-u.ac.jp/html/550509849a15dce574506e4da22f6611_ja.html\n",
            "https://soran.cc.okayama-u.ac.jp/html/9006084ea11b0ed4_ja.html\n",
            "https://soran.cc.okayama-u.ac.jp/html/d6112a5d232969e874506e4da22f6611_ja.html\n",
            "https://soran.cc.okayama-u.ac.jp/html/499bcbc9893292d274506e4da22f6611_ja.html\n",
            "https://soran.cc.okayama-u.ac.jp/html/3e061f422927b95e39313666b67f9f5f_ja.html?k=%E6%B8%A1%E9%82%8A\n",
            "https://www.swlab.cs.okayama-u.ac.jp/~tani/index-j.html\n",
            "https://soran.cc.okayama-u.ac.jp/html/570a6355c2e48c5874506e4da22f6611_ja.html\n",
            "https://soran.cc.okayama-u.ac.jp/html/ffb397e52d196b8874506e4da22f6611_ja.html\n",
            "https://soran.cc.okayama-u.ac.jp/html/55e006c22694107074506e4da22f6611_ja.html\n",
            "https://soran.cc.okayama-u.ac.jp/html/bc25f905ac824b7a74506e4da22f6611_ja.html\n",
            "https://soran.cc.okayama-u.ac.jp/html/f5c5f5b65f24e484131ccc8b2ee413f8_ja.html\n",
            "https://soran.cc.okayama-u.ac.jp/html/b5e3fdf8884cee2774506e4da22f6611_ja.html\n",
            "https://soran.cc.okayama-u.ac.jp/html/66e8de3abd7b6cb974506e4da22f6611_ja.html\n",
            "https://soran.cc.okayama-u.ac.jp/html/a702769db481712e74506e4da22f6611_ja.html\n",
            "https://soran.cc.okayama-u.ac.jp/html/f75a7a7d23b3e44f74506e4da22f6611_ja.html\n",
            "https://soran.cc.okayama-u.ac.jp/html/3a4d3a5dc603891874506e4da22f6611_ja.html\n",
            "https://soran.cc.okayama-u.ac.jp/html/306fa993884078de39313666b67f9f5f_ja.html\n",
            "https://soran.cc.okayama-u.ac.jp/html/24045b4902de521974506e4da22f6611_ja.html\n",
            "https://soran.cc.okayama-u.ac.jp/html/b781a62e72bfec26_ja.html\n",
            "https://soran.cc.okayama-u.ac.jp/html/651214763fcb74f174506e4da22f6611_ja.html\n",
            "https://soran.cc.okayama-u.ac.jp/html/77c73899c950d71b74506e4da22f6611_ja.html\n",
            "https://soran.cc.okayama-u.ac.jp/html/6025ed15318681a074506e4da22f6611_ja.html\n",
            "https://soran.cc.okayama-u.ac.jp/html/800a315ccd60207074506e4da22f6611_ja.html\n",
            "https://soran.cc.okayama-u.ac.jp/html/6c0edaf1f3b081c374506e4da22f6611_ja.html\n",
            "https://soran.cc.okayama-u.ac.jp/html/4b56754924db31d374506e4da22f6611_ja.html\n",
            "https://www.ic.cs.okayama-u.ac.jp/~lindh\n",
            "https://soran.cc.okayama-u.ac.jp/html/3a45b378362748fb74506e4da22f6611_ja.html\n",
            "https://soran.cc.okayama-u.ac.jp/html/e79af4edc9004aa93c8f9ec0ed19d09f_ja.html\n",
            "https://soran.cc.okayama-u.ac.jp/html/d2433282ec3fd8d074506e4da22f6611_ja.html\n",
            "https://soran.cc.okayama-u.ac.jp/html/f4d00c8ec7aaa492d077bc38d49d4023_ja.html\n",
            "https://soran.cc.okayama-u.ac.jp/html/41ce4970c120a88d74506e4da22f6611_ja.html\n",
            "https://soran.cc.okayama-u.ac.jp/html/24d9a3e377f2d39a74506e4da22f6611_ja.html\n",
            "https://soran.cc.okayama-u.ac.jp/html/bd1afc58dc9aabb674506e4da22f6611_ja.html\n",
            "https://soran.cc.okayama-u.ac.jp/html/f5c5f5b65f24e484d077bc38d49d4023_ja.html\n",
            "https://soran.cc.okayama-u.ac.jp/html/fb87f1aeadf258d074506e4da22f6611_ja.html\n",
            "https://soran.cc.okayama-u.ac.jp/html/4ce14b020b5abfc274506e4da22f6611_ja.html\n",
            "https://soran.cc.okayama-u.ac.jp/html/956f4feacbc2f61a74506e4da22f6611_ja.html\n",
            "https://soran.cc.okayama-u.ac.jp/html/e79af4edc9004aa9324722b072e43b5d_ja.html?k=%E7%B6%B1%E7%94%B0\n",
            "https://soran.cc.okayama-u.ac.jp/html/e1156b7f06b4cd1e74506e4da22f6611_ja.html\n",
            "https://soran.cc.okayama-u.ac.jp/html/470e6ea82b6972d8_ja.html\n",
            "https://soran.cc.okayama-u.ac.jp/html/30e8364b039b80c474506e4da22f6611_ja.html\n",
            "https://soran.cc.okayama-u.ac.jp/html/9e7fc73e04b3fcd474506e4da22f6611_ja.html\n",
            "https://soran.cc.okayama-u.ac.jp/html/829edb5696f9949f_ja.html\n",
            "https://soran.cc.okayama-u.ac.jp/html/152671b6013f47b474506e4da22f6611_ja.html\n",
            "https://soran.cc.okayama-u.ac.jp/html/c219c4874e40fa8974506e4da22f6611_ja.html\n",
            "https://soran.cc.okayama-u.ac.jp/html/06167f7df8f0075b131ccc8b2ee413f8_ja.html\n",
            "https://soran.cc.okayama-u.ac.jp/html/a7931f17d3a0642774506e4da22f6611_ja.html\n",
            "https://www.okayama-u.ac.jp/tp/admission/koukai01.html\n",
            "/cat_00/20-07-21/\n",
            "http://www.okayama-u.ac.jp/tp/profile/\n",
            "http://www.okayama-u.ac.jp/tp/profile/tostudent-aboutcoronavirus.html\n",
            "https://www.mofa.go.jp/mofaj/gaiko/oda/sdgs/index.html\n",
            "https://www.okayama-u.ac.jp/\n",
            "https://www.unic.or.jp/activities/economic_social_development/sustainable_development/2030agenda/\n",
            "/privacy_policy\n",
            "https://www.engr.okayama-u.ac.jp/iem/sitemap\n",
            "/site_policy/\n",
            "/eng-only/\n"
          ]
        }
      ]
    },
    {
      "cell_type": "markdown",
      "source": [
        "List 28: 岡山大学工学部の教員一覧の取得"
      ],
      "metadata": {
        "id": "E5yrF6jgVHPS"
      }
    },
    {
      "cell_type": "code",
      "source": [
        "import requests # ページのデータ取得モジュールWeb\n",
        "from bs4 import BeautifulSoup # html の操作モジュール\n",
        "\n",
        "# を取得html\n",
        "target_url = \"https://www.engr.okayama-u.ac.jp/iem/staff/\"\n",
        "html = requests . get ( target_url )\n",
        "\n",
        "# 取得した html を BeautifulSoup を使って解析\n",
        "soup = BeautifulSoup ( html . content , \"html.parser\" )\n",
        "\n",
        "# 解析した html から特定の要素を抽出\n",
        "base_elem = soup . find ( class_ = \"professorUL\" )\n",
        "elems = base_elem . find_all ( class_ = \"txtBox\" )\n",
        "\n",
        "for tmp_elem in elems :\n",
        "  print ( tmp_elem . find ( class_ = \"job_name\" ) . get_text () ,\n",
        "    tmp_elem . find ( class_ = \"the_title\" ) . get_text () )\n"
      ],
      "metadata": {
        "colab": {
          "base_uri": "https://localhost:8080/"
        },
        "id": "-lR_3VGZT7OR",
        "outputId": "82e24f61-2924-43e1-cbbe-d1d1e8e8d8a6"
      },
      "execution_count": null,
      "outputs": [
        {
          "output_type": "stream",
          "name": "stdout",
          "text": [
            "教授 阿部　匡伸\n",
            "教授 石岡　文生\n",
            "教授 石原　卓\n",
            "教授 上原　一浩\n",
            "教授 太田　学\n",
            "教授 大林　一平\n",
            "教授 金　錫範\n",
            "教授 紀和　利彦\n",
            "教授 坂本　亘\n",
            "教授 佐々木　徹\n",
            "教授 高橋　規一\n",
            "教授 竹本　真紹\n",
            "教授 鶴田　健二\n",
            "教授 田野　哲\n",
            "教授 豊田　啓孝\n",
            "教授 野上　保之\n",
            "教授 早坂　太\n",
            "教授 林　靖彦\n",
            "教授 平木　英治\n",
            "教授 深野　秀樹\n",
            "教授 舩曵　信生\n",
            "教授 諸岡　健一\n",
            "教授 門田　暁人\n",
            "教授 山内　利宏\n",
            "教授 横平　徳美\n",
            "教授 渡邊　実\n",
            "教授（特任） 谷口　秀夫\n",
            "准教授 今井　純\n",
            "准教授 植田　浩史\n",
            "准教授 梅谷　和弘\n",
            "准教授 小布施　祈織\n",
            "准教授 河本　陽介\n",
            "准教授 日下　卓也\n",
            "准教授 栗林　稔\n",
            "准教授 後藤　佑介\n",
            "准教授 堺　健司\n",
            "准教授 佐薙　稔\n",
            "准教授 関本　敦\n",
            "准教授 髙橋　明子\n",
            "准教授 竹内　孔一\n",
            "准教授 冨里　繁\n",
            "准教授 乃村　能成\n",
            "准教授 福島　行信\n",
            "准教授 藤森　和博\n",
            "准教授 山下　善文\n",
            "准教授 YÜCEL　ZEYNEP\n",
            "准教授 林　冬惠\n",
            "講師 相田　敏明\n",
            "講師 大久保　祐作\n",
            "講師 高岸　茉莉子\n",
            "講師 中井　拳吾\n",
            "助教 五百籏頭　健吾\n",
            "助教 石原　將貴\n",
            "助教 井上　良太\n",
            "助教 上野　史\n",
            "助教 小寺　雄太\n",
            "助教 小林　論\n",
            "助教 笹倉　万里子\n",
            "助教 鈴木　弘朗\n",
            "助教 樽谷　優弥\n",
            "助教 綱田　錬\n",
            "助教 西川　亘\n",
            "助教 原　直\n",
            "助教 右田　剛史\n",
            "助教 三澤　賢明\n",
            "助教 侯　亜飛\n",
            "助教 渡邊　誠也\n",
            "助教 WANG　JIN\n",
            "助教（特任） 西浦　生成\n",
            "助手 山根　亮\n"
          ]
        }
      ]
    },
    {
      "cell_type": "markdown",
      "source": [
        "List 29: データベースへの書き込み"
      ],
      "metadata": {
        "id": "1fF4kjVJWJSy"
      }
    },
    {
      "cell_type": "code",
      "source": [
        "import sqlite3 #を用いるためのライブラリsql\n",
        "import re\n",
        "\n",
        "db_name = \"teacher.db\"\n",
        "\n",
        "# データベースの接続\n",
        "# ローカルでない\n",
        "con = sqlite3 . connect ( db_name ) # データベースの接続、ない場合は生成される\n",
        "\n",
        "cur = con . cursor ()\n",
        "\n",
        "# テーブルがない場合は作成person\n",
        "cur . execute ('CREATE TABLE IF NOT EXISTS persons ( id INTEGER PRIMARY KEY AUTOINCREMENT , name STRING , position STRING )')\n",
        "\n",
        "#大学のページから教員一覧を取得してから実行すること\n",
        "#しない場合はエラーを表示\n",
        "try :\n",
        "  for tmp_elem in elems :\n",
        "    cur . execute ( 'INSERT INTO persons ( name , position ) values (\"{}\" ,\"{}\")'. format ( re . sub ( \"[\\u3000 \\t ]\" , \"\" , tmp_elem . find ( class_ = \"the_title\" ) . get_text () ) ,tmp_elem . find ( class_ = \" job_name \" ) . get_text () ) )\n",
        "except :\n",
        "  print( \"Webから教員一覧を取得していません\" )\n",
        "\n",
        "con . commit ()"
      ],
      "metadata": {
        "colab": {
          "base_uri": "https://localhost:8080/"
        },
        "id": "qEw9WRpsVffj",
        "outputId": "75f61caf-64bd-474a-917e-dd709391f6c2"
      },
      "execution_count": null,
      "outputs": [
        {
          "output_type": "stream",
          "name": "stdout",
          "text": [
            "Webから教員一覧を取得していません\n"
          ]
        }
      ]
    },
    {
      "cell_type": "markdown",
      "source": [
        "List 30: データベースに書かれた情報の確認"
      ],
      "metadata": {
        "id": "glLTuj-RXN7w"
      }
    },
    {
      "cell_type": "code",
      "source": [
        "#テーブルに含まれるデータの確認\n",
        "\n",
        "cur.execute ('SELECT * FROM persons')\n",
        "\n",
        "for row in cur:\n",
        "  print(row)\n"
      ],
      "metadata": {
        "id": "on9PPTdRXABF"
      },
      "execution_count": null,
      "outputs": []
    },
    {
      "cell_type": "code",
      "source": [],
      "metadata": {
        "id": "a2ZPbq3XXagB"
      },
      "execution_count": null,
      "outputs": []
    }
  ]
}