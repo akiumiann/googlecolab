{
  "cells": [
    {
      "cell_type": "markdown",
      "metadata": {
        "id": "view-in-github",
        "colab_type": "text"
      },
      "source": [
        "<a href=\"https://colab.research.google.com/github/akiumiann/googlecolab/blob/main/%E7%A7%98%E5%AF%86%E9%8D%B5%E8%A7%A3%E8%AA%AD.ipynb\" target=\"_parent\"><img src=\"https://colab.research.google.com/assets/colab-badge.svg\" alt=\"Open In Colab\"/></a>"
      ]
    },
    {
      "cell_type": "markdown",
      "source": [
        "　法$n$の下での演算について考えてみましょう．\n",
        "加減乗除を考えるとき，法の有無で異なるのはすべての値が法$n$の下で表現されるということです．\n",
        "つまり，計算結果が$n$を超えるものやマイナスになるようなものについては，すべて$\\mathbb{Z}_n = \\{0, \\ldots, n-1\\}$のいずれかの元へ変換され，それ以外の値が出てくることはないということです．\n",
        "\n",
        "こちらも実際にpythonを用いて確認してみましょう．"
      ],
      "metadata": {
        "id": "8C488Ol5ZbBR"
      }
    },
    {
      "cell_type": "code",
      "source": [
        "# 17 + 21 (mod 31)\n",
        "a = (17+21)%31\n",
        "print('17 + 21 (mod 31) = {0}'.format(a))\n",
        "\n",
        "# 17 - 21 (mod 31)\n",
        "a = (17-21)%31\n",
        "print('17 - 21 (mod 31) = {0}'.format(a))\n",
        "\n",
        "# 17 * 21 (mod 31)\n",
        "a = (2*6)%11\n",
        "print('17 * 21 (mod 31) = {0}'.format(a))\n"
      ],
      "metadata": {
        "id": "ty_znbeaIIAI"
      },
      "execution_count": null,
      "outputs": []
    },
    {
      "cell_type": "markdown",
      "source": [
        "このように加減乗算については，プログラミングする際にも上記の通り，従来の方法で記述すれば計算を行うことができます．\n",
        "しかし，有限体上の除算は非常に特殊で，`(17/21)%31`と書いても理論的に正しい動作とはなりません．\n",
        "\n",
        "　有限体上の除算は__乗法逆元（単に逆元とも）__と呼ばれる元を求め，__その元を用いた乗算として定義__されています．そして，逆元とは端的に，__ある数$a$に対して，法$n$の下でかけて1になる値__のことをいいます．\n",
        "\n",
        "これを踏まえて，$17/21 \\pmod{31}$を計算するには，\n",
        "1. 法$31$における$21$の逆元を求め，\n",
        "2. $17$と$21$の逆元で乗算を行う\n",
        "\n",
        "という流れで実施する必要があります．\n",
        "\n",
        "　pythonではlibnumと呼ばれるパッケージ内に簡単に逆元を求めることができる関数が用意されています．\n",
        "\n",
        "これを用いて上記の手順で$17/21 \\pmod{31}$を計算してみましょう．"
      ],
      "metadata": {
        "id": "zQGSN3YGgYLX"
      }
    },
    {
      "cell_type": "code",
      "source": [
        "!pip install libnum\n",
        "\n",
        "import libnum\n",
        "a = 2\n",
        "b = 6\n",
        "n = 13\n",
        "b_inv = libnum.modular.invmod(b,n)\n",
        "c = (a*b_inv)%n\n",
        "print('17 / 21 (mod 31) = {0}'.format(c))"
      ],
      "metadata": {
        "id": "vN-SaDOpjOFB",
        "colab": {
          "base_uri": "https://localhost:8080/"
        },
        "outputId": "118c6ac3-b027-475b-b925-7b16ec7fdc4c"
      },
      "execution_count": 1,
      "outputs": [
        {
          "output_type": "stream",
          "name": "stdout",
          "text": [
            "Collecting libnum\n",
            "  Downloading libnum-1.7.1-py3-none-any.whl (14 kB)\n",
            "Installing collected packages: libnum\n",
            "Successfully installed libnum-1.7.1\n",
            "17 / 21 (mod 31) = 9\n"
          ]
        }
      ]
    },
    {
      "cell_type": "markdown",
      "source": [
        "　このように有限体上の逆元導出は特異な演算となっており，RSA暗号などの暗号系でもこの仕組みを利用して暗号の構成がなされています．\n",
        "また，逆元の導出においては，実直な実装では高い計算量が必要となるため，拡張ユークリッドの互除法と呼ばれるアルゴリズムを用いることで効率的に与えられることが知られています．"
      ],
      "metadata": {
        "id": "Q5Dn3Srii-k9"
      }
    },
    {
      "cell_type": "markdown",
      "source": [
        "__秘密分散共有法で用いられる各種定理や公式など__\n",
        "\n",
        "　先に述べたように法が素数であれば常に有限体をなすため，ここでは議論を簡単にするために以下で扱う法はすべて素数$p$であるとします．\n",
        "\n",
        "1. フェルマーの小定理\n",
        "\n",
        "　有限体を扱う際に避けて通ることができな定理としてフェルマーの小定理というものがあります．内容自体は難しいものではなく，\n",
        "\n",
        "$$\n",
        "a^{p-1} \\pmod{p} \\equiv 1\n",
        "$$\n",
        "\n",
        "という式であらわされるものですが，端的に言うと素数$p$と互いに素な元$a$を法$p$の下で$(p-1)$乗すると必ず$1$になるというものです．\n",
        "実際にpythonを使って確認してみましょう．"
      ],
      "metadata": {
        "id": "eQp63v4DsRxa"
      }
    },
    {
      "cell_type": "code",
      "source": [
        "import math\n",
        "\n",
        "prime = [2,3,5,7,11,13,17,19,23,29,31]\n",
        "nums = [2, 3, 4, 5, 6, 7, 8, 9,10,11,12,13,14,15,16,17]\n",
        "\n",
        "for p in prime:\n",
        "  for a in nums:\n",
        "    if math.gcd(a,p) == 1:\n",
        "      print('a^(p-1) (mod p) = {0}^{1} (mod {2}) = {3}'.format(a,p-1,p,pow(a,p-1,p)))\n",
        "  print()"
      ],
      "metadata": {
        "id": "qchoKaG904-s"
      },
      "execution_count": null,
      "outputs": []
    },
    {
      "cell_type": "markdown",
      "source": [
        "上記の例で確認できたように，法$p$の下で$p$と互いに素な元$a$，つまり$\\mathbb{Z}_p = \\{1,2,3,...,p-1\\}$という集合はフェルマーの小定理により，自身のべき乗を繰り返していけば必ず1となるタイミングがあるということです．\n",
        "\n",
        "　このような，ある元$a$に対して，\n",
        "$$a^x \\pmod{p} \\equiv1$$\n",
        "を満たす全ての$x$のうち，**最小の$x$を元$a$の位数**といいます．\n",
        "特に，位数$x$が$(p-1)$となる元を**原始元（生成元）**と呼びます．\n",
        "言い換えれば，**原始元とは法$p$の下で$(p-1)$乗して初めて$1$となる元**のことです．\n",
        "実際に，以下の例を通してどの元が生成元となっているか確認してみましょう．\n",
        "こちらもpythonの剰余演算を使って値を求め，moodleの課題2へ答えを入力してください．\n",
        "\n",
        "【課題2】\n",
        "1. 法$7$における原始元（生成元）の個数を求めよ．\n",
        "2. 法$13$における原始元（生成元）の個数を求めよ．"
      ],
      "metadata": {
        "id": "hjIFF-inBQq_"
      }
    },
    {
      "cell_type": "code",
      "source": [
        "# 法pにおける原始元（生成元）を求めよ．\n",
        "z = 7\n",
        "for a in range(z-1):\n",
        "  for p in range(z-1):\n",
        "      b = pow(a+1,p+1,z)\n",
        "      if b == 1 and p+1 == z-1:\n",
        "        print('{0}^{1} (mod {2}) = {3}'.format(a+1,p+1,z,b))\n",
        "      if b == 1:\n",
        "        break\n",
        "print()\n",
        "\n",
        "z = 13\n",
        "for a in range(z-1):\n",
        "  for p in range(z-1):\n",
        "      b = pow(a+1,p+1,z)\n",
        "      if b == 1 and p+1 == z-1:\n",
        "        print('{0}^{1} (mod {2}) = {3}'.format(a+1,p+1,z,b))\n",
        "      if b == 1:\n",
        "        break"
      ],
      "metadata": {
        "id": "oVjQSdmiEEB_",
        "colab": {
          "base_uri": "https://localhost:8080/"
        },
        "outputId": "f4f7e9a2-f16f-4f1c-d6f3-38aa13995c49"
      },
      "execution_count": null,
      "outputs": [
        {
          "output_type": "stream",
          "name": "stdout",
          "text": [
            "3^6 (mod 7) = 1\n",
            "5^6 (mod 7) = 1\n",
            "\n",
            "2^12 (mod 13) = 1\n",
            "6^12 (mod 13) = 1\n",
            "7^12 (mod 13) = 1\n",
            "11^12 (mod 13) = 1\n"
          ]
        }
      ]
    },
    {
      "cell_type": "markdown",
      "source": [
        "　このフェルマーの小定理を用いると実は逆元も簡単に表現することができます．フェルマーの小定理では$(p-1)$乗すると$1$になることが確約されていることを示しており，ここである元$a$の逆元とはどのような元であったか考えると，法$p$の下で$a$にかけて$1$となるような元のことでした．\n",
        "つまり，\n",
        "\n",
        "$$\n",
        "a^{p-1} \\equiv a \\times a^{p-2} \\equiv 1 \\pmod{p}\n",
        "$$\n",
        "\n",
        "のように式変形してやれば，$a^{p-2}$が$a$の逆元となっていることが分かります．\n",
        "ただし，上記の方法では大きな計算量がかかるため，本来は先述の通り拡張ユークリッド互除法を用いて計算します．"
      ],
      "metadata": {
        "id": "uKUxePqlFO9r"
      }
    },
    {
      "cell_type": "markdown",
      "source": [
        "2. 有限体上でのラグランジュ補間公式\n",
        "\n",
        "　後ほど詳しく紹介するが，秘密分散共有法では連立方程式をベースとしており，中学・高校数学で学習した複数の点から直線や曲線を求めるという考え方が非常に重要な役割を担っています．\n",
        "\n",
        "　有限体上でのラグランジュ補間公式は__$k$点から$(k-1)$次多項式を構成する__ためのものであり，$q$を素数とし，$i_t (t=0,\\ldots,k-1) \\in \\mathbb{Z}_q$に対して以下の式で与えられます．\n",
        "$$\n",
        "f(x) = f(i_0)\\lambda_0(x) + \\cdots + f(i_{k-1})\\lambda_{k-1}(x) \\pmod{q}, \\\\\n",
        "\\lambda_j(x) = \\prod_{0\\leq t \\leq k-1, t \\neq j}\\frac{x-i_t}{i_j-i_t} \\pmod{q}\n",
        "$$\n",
        "\n",
        "これにより，$y$軸切片を求めたい際には$x=0$を代入することで求めることができます．\n",
        "\n",
        "$$\n",
        "s = f(0) = f(i_0)\\lambda_0(0) + \\cdots + f(i_{k-1})\\lambda_{k-1}(0) \\pmod{q}\n",
        "$$"
      ],
      "metadata": {
        "id": "ryFNRx7lMAp8"
      }
    },
    {
      "cell_type": "markdown",
      "source": [
        "3. ガウスの消去法\n",
        "\n",
        "　連立一次方程式を解くための多項式時間アルゴリズムとして知られており，掃き出し法とも呼ばれています．\n",
        "連立一次方程式を行列により表現し，ガウスの消去法を用いて係数行列の逆行列を求めることで解を求めることができます．\n",
        "\n",
        "　具体的に法$5$の下で，以下の連立一次方程式を解くことを考えてみましょう．\n",
        "\n",
        "$$\n",
        "\\begin{cases}\n",
        "x + y + 2z &= 3 \\\\\n",
        "x + 3y + z &= 4 \\\\\n",
        "x + 2y +z &= 2 \\\\\n",
        "\\end{cases}\n",
        "$$\n",
        "\n",
        "これを行列で表現すれば次のようになります．\n",
        "\n",
        "$$\n",
        "\\begin{pmatrix}\n",
        "1 & 1 & 2 \\\\\n",
        "1 & 3 & 1 \\\\\n",
        "1 & 2 & 1\n",
        "\\end{pmatrix}\n",
        "\\begin{pmatrix}\n",
        "x \\\\\n",
        "y \\\\\n",
        "z\n",
        "\\end{pmatrix}\n",
        "=\n",
        "\\begin{pmatrix}\n",
        "3 \\\\\n",
        "4 \\\\\n",
        "2\n",
        "\\end{pmatrix}\n",
        "$$\n",
        "\n",
        "係数行列を$A$として，$A$の逆行列を求めてみましょう．\n",
        "なお，$I$は単位行列を表します．\n",
        "$$\n",
        "\\begin{eqnarray}\n",
        "\\begin{pmatrix}\n",
        "A \\mid I\n",
        "\\end{pmatrix}\n",
        "&=&\n",
        "\\begin{pmatrix}\n",
        "1 & 1 & 2 & 1 & 0 & 0 \\\\\n",
        "1 & 3 & 1 & 0 & 1 & 0 \\\\\n",
        "1 & 2 & 1 & 0 & 0 & 1\n",
        "\\end{pmatrix}\n",
        "=\n",
        "\\begin{pmatrix}\n",
        "1 & 1 & 2 & 1 & 0 & 0 \\\\\n",
        "0 & 2 & 4 & 4 & 1 & 0 \\\\\n",
        "0 & 1 & 4 & 4 & 0 & 1\n",
        "\\end{pmatrix}\n",
        "=\n",
        "\\begin{pmatrix}\n",
        "1 & 1 & 2 & 1 & 0 & 0 \\\\\n",
        "0 & 1 & 2 & 2 & 3 & 0 \\\\\n",
        "0 & 1 & 4 & 4 & 0 & 1\n",
        "\\end{pmatrix} \\\\\n",
        "&=&\n",
        "\\begin{pmatrix}\n",
        "1 & 1 & 2 & 1 & 0 & 0 \\\\\n",
        "0 & 1 & 2 & 2 & 3 & 0 \\\\\n",
        "0 & 0 & 2 & 2 & 2 & 1\n",
        "\\end{pmatrix}\n",
        "=\n",
        "\\begin{pmatrix}\n",
        "1 & 1 & 2 & 1 & 0 & 0 \\\\\n",
        "0 & 1 & 2 & 2 & 3 & 0 \\\\\n",
        "0 & 0 & 1 & 1 & 1 & 3\n",
        "\\end{pmatrix}\n",
        "=\n",
        "\\begin{pmatrix}\n",
        "1 & 1 & 0 & 4 & 2 & 0 \\\\\n",
        "0 & 1 & 0 & 0 & 1 & 4 \\\\\n",
        "0 & 0 & 1 & 1 & 1 & 3\n",
        "\\end{pmatrix}\n",
        "\\end{eqnarray}\n",
        "$$\n",
        "\n",
        "よって，$A^{-1}$は\n",
        "\n",
        "$$\n",
        "A^{-1} =\n",
        "\\begin{pmatrix}\n",
        "4 & 2 & 0 \\\\\n",
        "0 & 1 & 4 \\\\\n",
        "1 & 1 & 3\n",
        "\\end{pmatrix}\n",
        "$$\n",
        "\n",
        "であり，求める解は\n",
        "\n",
        "$$\n",
        "\\begin{pmatrix}\n",
        "x \\\\\n",
        "y \\\\\n",
        "z\n",
        "\\end{pmatrix}\n",
        "=\n",
        "\\begin{pmatrix}\n",
        "4 & 2 & 0 \\\\\n",
        "0 & 1 & 4 \\\\\n",
        "1 & 1 & 3\n",
        "\\end{pmatrix}\n",
        "\\begin{pmatrix}\n",
        "3 \\\\\n",
        "4 \\\\\n",
        "2\n",
        "\\end{pmatrix}\n",
        "=\n",
        "\\begin{pmatrix}\n",
        "0 \\\\\n",
        "2 \\\\\n",
        "3\n",
        "\\end{pmatrix}\n",
        "$$\n",
        "\n",
        "となります．\n"
      ],
      "metadata": {
        "id": "mebUa9VJRAcL"
      }
    },
    {
      "cell_type": "markdown",
      "source": [
        "\n",
        "では，基礎編最後に以下の課題を通して，秘密分散共有法に必要となる関数を実装してみましょう．\n",
        "ただし，numpyなどの既存のライブラリを使用するとfloat型が出てきて期待する動作を実現できない可能性があるため，ここではpythonのリストを用いて行列を表現して自作しています．\n",
        "\n",
        "【課題3】\n",
        "\n",
        "1. 素数$q$を法とし，$k$個の座標リスト$vk$，$k$個の座標の$j$番目を表すインデックス$j$，$x$および$q$が与えられたとき，$\\lambda_j(x)$を求める関数`lam(vk,j,x,q)`を作成せよ．\n",
        "\n",
        "2. 法qにおいて逆行列を求める関数`mod_mat_inv(M,q)`を作成せよ．なお，単位行列を作成する関数は必要に応じて作成せよ．\n",
        "\n",
        "また，作成した関数を用いて，課題3-1は`vk = [[1,6], [2,5], [3,1], [4,4]], j = 1, x=0,q=7`を入力した結果を，課題3-2は，`M=[[1,1,2],[1,3,1],[1,2,1]], q=7`として求めた結果を提出してください．\n",
        "\n"
      ],
      "metadata": {
        "id": "-6ksBkzFlhoU"
      }
    },
    {
      "cell_type": "code",
      "source": [
        "!pip install libnum\n",
        "import libnum\n",
        "\n",
        "###########################\n",
        "###       課題3-1       ###\n",
        "###########################\n",
        "\n",
        "def lam(vk, j, x, q):\n",
        "### 以下へ記述 ###\n",
        "  xmax = 1\n",
        "  ymax = 1\n",
        "  k = len(vk)\n",
        "  c = 1\n",
        "\n",
        "  for it in range(k):\n",
        "    if it != j:\n",
        "      xmax = (x - vk[it][0])\n",
        "      ymax = (vk[j][0] - vk[it][0])\n",
        "      b_inv = libnum.modular.invmod(ymax,q)\n",
        "      c = c * (xmax*b_inv)%q\n",
        "  print(xmax)\n",
        "  print(ymax)\n",
        "\n",
        "\n",
        "  return c\n",
        "\n",
        "### ここまで ###\n",
        "\n",
        "# 以下で実行した結果をmoodleへ提出\n",
        "vk = [[1,6], [2,5], [3,1], [4,4]]\n",
        "l = lam(vk,1,0,7)\n",
        "print(l)\n",
        "\n",
        "\n",
        "###########################\n",
        "###       課題3-2       ###\n",
        "###########################\n",
        "\n",
        "def mod_mat_inv(M,q):\n",
        "### 以下へ記述 ###\n",
        "  m = M\n",
        "  k = len(M)\n",
        "\n",
        "  for i in range(k):\n",
        "    for j in range(k):\n",
        "      if i == j:\n",
        "        m[i].append(1)\n",
        "      else:\n",
        "        m[i].append(0)\n",
        "\n",
        "  for n in range(k):\n",
        "    if m[n][n] != 1:\n",
        "      a = m[n][n]\n",
        "      a_inv = libnum.modular.invmod(a,q)\n",
        "      for i in range(k*2):\n",
        "        m[n][i] = (m[n][i]*a_inv)%q\n",
        "    for i in range(k):\n",
        "      if i != n:\n",
        "        while m[i][n] != 0:\n",
        "          for j in range(k*2):\n",
        "            m[i][j] = (m[i][j] - m[n][j])%q\n",
        "\n",
        "  print(m)\n",
        "### ここまで ###\n",
        "\n",
        "# 以下で実行した結果をmoodleへ提出\n",
        "M = [[1,1,2],[1,3,1],[1,2,1]]\n",
        "q = 7\n",
        "M_inv = mod_mat_inv(M,q)\n",
        "print(M_inv)\n",
        "\n"
      ],
      "metadata": {
        "id": "pSBp-A5_ffvb",
        "colab": {
          "base_uri": "https://localhost:8080/"
        },
        "outputId": "4e43f133-bd1a-4dc0-a9d9-cae4441ec3e7"
      },
      "execution_count": null,
      "outputs": [
        {
          "output_type": "stream",
          "name": "stdout",
          "text": [
            "Requirement already satisfied: libnum in /usr/local/lib/python3.10/dist-packages (1.7.1)\n",
            "-4\n",
            "-2\n",
            "1\n",
            "[[1, 0, 0, 6, 4, 5], [0, 1, 0, 0, 1, 6], [0, 0, 1, 1, 1, 5]]\n",
            "None\n"
          ]
        }
      ]
    },
    {
      "cell_type": "markdown",
      "source": [
        "なお，`M=[[1,1,2],[1,3,1],[1,2,1]]`は\n",
        "\n",
        "$$\n",
        "M =\n",
        "\\begin{pmatrix}\n",
        "1 & 1 & 2 \\\\\n",
        "1 & 3 & 1 \\\\\n",
        "1 & 2 & 1\n",
        "\\end{pmatrix}\n",
        "$$\n",
        "\n",
        "という行列に対応しています．"
      ],
      "metadata": {
        "id": "sKnMKK6oozPT"
      }
    },
    {
      "cell_type": "markdown",
      "source": [
        "## 秘密分散共有法\n",
        "\n",
        "　秘密分散共有法は既に社会的にも実用化されており，情報セキュリティの三大要素として知られている「機密性，可用性，完全性」のうち，機密性，可用性の面で優位性があります．\n",
        "以下の図で示すように，秘密分散共有法では秘密鍵$s$を用いてシェアと呼ばれるデータの復元に必要な情報を各データセンタに与えます．\n",
        "そして重要なポイントは\n",
        "\n",
        "- 複数のデータセンタが協力しなければ，秘密情報を知ることができない（データセンタ単独では復元できない）\n",
        "- 複数台に情報を分散して保存しているため，1台が故障しても他のデータセンタから情報を復元できる\n",
        "\n",
        "ということです．\n",
        "これを実現するための数学ロジックとして，先ほど学習した有限体とそのうえで成り立つ特性が利用されています．\n",
        "以下では，Shamirの秘密分散共有法と呼ばれる手法について説明していきます．\n"
      ],
      "metadata": {
        "id": "b10Kh_85Eq78"
      }
    },
    {
      "cell_type": "markdown",
      "source": [
        "![スクリーンショット 2022-07-07 142543.jpg](data:image/jpeg;base64,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)"
      ],
      "metadata": {
        "id": "SrH3S0-XIyQ9"
      }
    },
    {
      "cell_type": "markdown",
      "source": [
        "##  Shamirの秘密分散共有法\n",
        "\n",
        "__概要__\n",
        "\n",
        "　Shamirの秘密分散共有法はRSA（Rivest-Shamir-Adleman）暗号の発明者として知られるAdi Shamir教授が提案した**$(k,n)$閾値秘密分散共有法**が最も有名です．\n",
        "ここで，$n, k$はそれぞれ以下のものを表しています．\n",
        "\n",
        "- $n$：分割させる分散情報（これをシェアと呼びます）の数\n",
        "- $k$：情報を復元するために必要となるシェアの数（閾値）\n",
        "\n",
        "この手法では$n$このうち，任意の$k$個のシェアを集めれば秘密$s$を復元することができます．\n",
        "一方で，$k$個集まらなければ，どの$(k-1)$個を集めても$s$について何も知ることができません．\n",
        "\n",
        "　数学的準備内でも触れたように，ここで扱う秘密分散共有法は曲線上の点と切片が重要な役割を担っています．\n",
        "具体的に，$(k,n)$閾値秘密分散共有法では，秘密情報を$s$として，$y$軸切片が$s$となるような$(k-1)$次の曲線$y=f(x)$上の点$v_i = (i,f(i))$をシェアとして配布します．\n",
        "\n",
        "　より想像しやすいように，$(2,3)$閾値秘密分散共有法の例を見てみましょう．\n",
        "$(2,3)$閾値秘密分散共有法では3つのシェアA, B, Cを配布し，2つ以上のシェアが集まれば秘密情報$s$を復元できることになります．\n",
        "これを図示したものが以下になります．"
      ],
      "metadata": {
        "id": "lOupNJ01I4rr"
      }
    },
    {
      "cell_type": "markdown",
      "source": [
        "![スクリーンショット 2022-07-07 151548.jpg](data:image/jpeg;base64,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)"
      ],
      "metadata": {
        "id": "DMihmP50TYcn"
      }
    },
    {
      "cell_type": "markdown",
      "source": [
        "2つの点があれば直線の傾きを求め，さらにその切片を得ることもできるということはこれまでに何度も目にしてきたと思います．\n",
        "これが3次，4次，...と次数が大きくなり，直線が曲線へと変わっていきますが，有限体上でのラグランジュ補間公式というものを用いれば，同じ原理で点から曲線が復元でき，その切片（=秘密情報）が得られるという仕組みです．\n",
        "\n",
        "　ここまでで大まかな原理について説明しましたが，もう少し厳密に定義を行いましょう．\n",
        "\n",
        "__秘密分散共有法のモデル__\n",
        "\n",
        "　秘密$s$の保有者はディーラ（以下$D$と記載）と呼ばれ，$n$人の分散管理者（以下$P_1, \\ldots,P_{n}$と記載）に対してシェアを発行し与えます．\n",
        "情報を分散・再構成する際には以下のように処理が行われます．\n",
        "\n",
        "- 分散段階\n",
        "\n",
        "  $D$は$s$から$n$個のシェア$v_1,\\ldots,v_{n}$を計算し，安全な通信路を介して$P_i$へ$v_i$を与える\n",
        "\n",
        "- 再構成段階\n",
        "\n",
        "  $n$人の分散管理者のうち，$k$人が集まり，シェアから$s$を求める\n",
        "\n",
        "これをより具体化していきましょう．\n",
        "\n",
        "__分散段階__\n",
        "\n",
        "　まず，秘密情報$s$に対し，情報をいくつに分割するか，分割数$n$を決定します．\n",
        "それに基づき，$q > \\mathrm{max}(s,n)$となるような素数$q$を選択します．\n",
        "そして，$f(0) = s$となるような有限体上の高々$(k-1)$次の多項式$f(x)$をランダムに選択します．\n",
        "この時，$f(x)$は当然\n",
        "$$\n",
        "f(x) = s + f_1x + f_2x + \\cdots + f_{k-1}x^{k-1} \\pmod{q}, f_i \\in \\mathbb{Z}_q\n",
        "$$\n",
        "という形で表現されます．\n",
        "この多項式$f(x)$を用いてシェア$v_i=f(i)$を計算し，$P_i$へ与えます．\n",
        "\n",
        "\n",
        "__再構成段階__\n",
        "\n",
        "　$k$人の分散管理者$P_{i_0}, \\ldots,P_{i_{k-1}}$が集まったことで，高々$(k-1)$次の多項式$f(x)$を復元するための点が$k$個集まりました．これを復元するためには，有限体上のラグランジュ補間公式を用いて$s = f(0)$を計算すれば良いわけです．\n",
        "ここで改めて有限体上のラグランジュ補間公式を見直すと，以下の通りでした．\n",
        "$$\n",
        "f(x) = f(i_0)\\lambda_0(x) + \\cdots + f(i_{k-1})\\lambda_{k-1}(x) \\pmod{q}, \\\\\n",
        "\\lambda_j(x) = \\prod_{0\\leq t < k, t \\neq j}\\frac{x-i_t}{i_j-i_t} \\pmod{q}\n",
        "$$\n",
        "\n",
        "したがって，秘密$s$は\n",
        "\n",
        "$$\n",
        "s = f(0) = f(i_0)\\lambda_0(0) + \\cdots + f(i_{k-1})\\lambda_{k-1}(0) \\pmod{q}\n",
        "$$\n",
        "\n",
        "として求まります．\n",
        "\n",
        "　実は$(k,n)$閾値秘密分散共有法には欠点があり，2日目ではその欠点とその改善手法について説明していきます．\n",
        "また，それまでに学習した秘密分散共有法を用いた解読実験ゲームを用意しているので，理解の追い付いていない部分等あれば適宜復習をしてみてください．\n",
        "\n",
        "1日目の内容はここまでです．お疲れさまでした．"
      ],
      "metadata": {
        "id": "eUS2S5y0TaaW"
      }
    },
    {
      "cell_type": "markdown",
      "metadata": {
        "id": "8rj3M1YGQTJY"
      },
      "source": [
        "## 2日目：\n",
        "\n",
        "**moodleから出欠登録を忘れずにお願いします．未登録の場合，欠席扱いとなります．**\n",
        "\n",
        "　1日目の最後に述べたように$(k,n)$閾値秘密分散共有法には欠点がある．ここでは理論的な背景については省略するが，シェア$v_i$のサイズは秘密$s$のサイズより必ず大きくなければならず，$n$個の分散情報のサイズは当然，元の秘密の$n$となります．\n",
        "そのため，符号化効率が悪く実用性に欠くというのが欠点です．\n",
        "これを改善するために提案された方法が，**$(k,L,n)$閾値ランプ型秘密分散共有法**というものです．\n",
        "\n",
        "　以下の図は$(k,L,n)$閾値ランプ型秘密分散共有法を用いた際に，どのくらい情報を秘密のままにしておくことができるのかを示したものです．\n",
        "なお，$H(x)$という記号はエントロピーと呼ばれるもので，ここでは詳しく説明しませんが，大きな値であるほど不確定度が高い，つまり情報が漏れにくいことを示しています．\n",
        "\n",
        "一方で，$(k,L,n)$閾値ランプ型秘密分散共有法では\n",
        "\n",
        "- $(k,n)$閾値秘密分散共有法と同様に任意の$k$個以上のシェアが集まれば秘密を完全に復元できる\n",
        "- 任意の$(k-i)$個のシェアがあるとき，\n",
        "  - $L \\leq i \\leq k$では秘密に関して情報が全く得られない\n",
        "  - $0 \\leq i < L$では$i$が$0$に近づくにつれて段階的に秘密に関する情報が得れる\n",
        "\n",
        "という特徴があります．"
      ]
    },
    {
      "cell_type": "markdown",
      "source": [
        "![スクリーンショット 2022-07-07 162442.jpg](data:image/jpeg;base64,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)"
      ],
      "metadata": {
        "id": "or1ToSmcgQ0Q"
      }
    },
    {
      "cell_type": "markdown",
      "source": [
        "\n",
        "　では，具体的に$(k,L,n)$閾値ランプ型秘密分散共有法の構成方法を見ていきましょう．\n",
        "\n",
        "__分散段階（ディーラの仕事）__\n",
        "\n",
        "　先ほどは$f(0)=s$となるような有限体上の高々$(k−1)$次の多項式$f(x)$をランダムに選択しましたが，$(k,L,n)$閾値ランプ型秘密分散共有法では，まずは秘密を分割して，1つ当たりのサイズを小さくしていきます．\n",
        "これにより，従来のデータサイズ増加を抑え込むことができるようになります．\n",
        "分散段階の手順は以下の通りです．\n",
        "\n",
        "1. 秘密$s$を$s = s_0 || s_1 || \\ldots || s_{L-1}$と$L$個の情報に分割する．\n",
        "\n",
        "2. $0 \\leq h < L$として，従来と同様に素数$q$を$q > \\mathrm{max}(s_h,n)$となるように選択する．\n",
        "  \n",
        "3. シェアを識別するためのIDを$sid_h=n+h+1$とし，$f(sid_h) = s_h$となる有限体上の高々$(k-1)$次の多項式を選択する．\n",
        "\n",
        "4. 分散管理者$P_i(1 \\leq i \\leq n)$に対して，シェア$v_i = \\left( i,f(i) \\right)$を生成して$P_i$へ与える．\n",
        "\n",
        "なお，手順2の$||$は文字列の連結を表す記号で，実際には$s = 100100101101\\ldots$のようなデータを$s_0 = 10010, s_1 = 01011, \\ldots$と分割していくことを表します．\n",
        "\n",
        "　ここで秘密のサイズについてですが，手順1で秘密$s$を$L$個に分割しているので，シェアのサイズもそれに従って従来の$1/L$となっています．\n",
        "\n",
        "\n",
        "__再構成段階__\n",
        "\n",
        "　再構成の手順は概ね$(k,n)$閾値秘密分散共有法の時と同じで以下の通りです。\n",
        "\n",
        "1. $k$人の分散管理者$P_{i_0}, \\ldots,P_{i_{k-1}}$が集まり，高々$(k-1)$字の多項式$f(x)$を求める．\n",
        "\n",
        "2. 有限体上のラグランジュ補間公式に基づき，秘密を求める．\n",
        "\n",
        "ただし，秘密を求める際には\n",
        "\n",
        "$$\n",
        "s_h = f(sid_h) = \\lambda_0(sid_h)f(i_0) + \\ldots + \\lambda_{k-1}(sid_h)f(i_{k-1}) \\pmod{q}\n",
        "$$\n",
        "\n",
        "として，$s_0, \\ldots, s_{L-1}$を求め，$s = s_0||s_1||\\ldots||s_{L-1}$として復元します．\n",
        "\n",
        "　以上が秘密分散共有法の仕組みです．\n",
        "ここからは，これを実際にpythonを用いて実装し，シェアが漏洩した際に秘密が解読されてしまうことを体験してみましょう．\n",
        "\n",
        "【課題4】\n",
        "1. $(k,n)$閾値秘密分散共有法において，$k$個のシェアから秘密$s$を復元する関数`shamir_restor_sec(vk, k ,q)`を作成せよ．ただし，$vk$は$k$個のシェアリスト，秘密$s$は正の整数である．\n",
        "\n",
        "2. $(k,L,n)$閾値ランプ型秘密分散共有法において，$k$個のシェアから秘密$s$を復元する関数`ramp_restor_sec(vk,k,L,sidlist,q)`を作成せよ．ただし，$vk$は$k$個のシェアリスト，$sidlist$は$L$個の秘密に関する$x$座標が含まれたリスト，秘密$s$は$L$個の正の整数が含まれたリストである．\n",
        "\n",
        "なお，それぞれ$\\lambda_j(x)$を計算する関数は課題3で作成したものを利用してください．\n",
        "また，作成した関数を用いて，課題4-1は`vk = [[1,6], [2,0], [3,2]],k=3,q=7`を入力した結果を，課題4-2は，`vk = [[1,6], [2,0], [3,2]], k=3, L=2, sidlist=[6,7], q=7`として求めた結果を提出してください．"
      ],
      "metadata": {
        "id": "EqTnflyGgk5w"
      }
    },
    {
      "cell_type": "code",
      "source": [
        "!pip install libnum\n",
        "import libnum\n",
        "\n",
        "def lam(vk, j, x, q):\n",
        "### 課題3-1より引用して以下へ記述 ###\n",
        "\n",
        "  xmax = 1\n",
        "  ymax = 1\n",
        "  k = len(vk)\n",
        "  c = 1\n",
        "\n",
        "  for it in range(k):\n",
        "    if it != j:\n",
        "      xmax = (x - vk[it][0])\n",
        "      ymax = (vk[j][0] - vk[it][0])\n",
        "      b_inv = libnum.modular.invmod(ymax,q)\n",
        "      c = c * (xmax*b_inv)%q\n",
        "  return c\n",
        "\n",
        "### ここまで ###\n",
        "\n",
        "\n",
        "###########################\n",
        "###       課題4-1       ###\n",
        "###########################\n",
        "\n",
        "def shamir_restor_sec(vk,k,q):\n",
        "  s = 0\n",
        "\n",
        "### 以下へ記述 ###\n",
        "\n",
        "  x = 0\n",
        "  for j in range(k):\n",
        "    l = lam(vk, j, x, q)\n",
        "    s = (s + (vk[j][1]*l))%q\n",
        "\n",
        "  return s\n",
        "\n",
        "\n",
        "### ここまで ###\n",
        "\n",
        "# 以下で実行した結果をmoodleへ提出\n",
        "vk = [[1,6], [2,0], [3,2]]\n",
        "k = 3\n",
        "q = 7\n",
        "s = shamir_restor_sec(vk, k, q)\n",
        "print(s)\n",
        "\n",
        "\n",
        "###########################\n",
        "###       課題4-2       ###\n",
        "###########################\n",
        "\n",
        "def ramp_restor_sec(vk, k, L, sidlist, q):\n",
        "  s = []\n",
        "\n",
        "### 以下へ記述 ###\n",
        "\n",
        "  t = 0\n",
        "  for i in range(L):\n",
        "    for j in range(k):\n",
        "      sidh = sidlist[i]\n",
        "      l = lam(vk, j, sidh, q)\n",
        "      t = (t + (vk[j][1]*l))%q\n",
        "    s.append(t)\n",
        "  return s\n",
        "\n",
        "### ここまで ###\n",
        "\n",
        "# 以下で実行した結果をmoodleへ提出\n",
        "vk = [[1,6], [2,0], [3,2]]\n",
        "k = 3\n",
        "L = 2\n",
        "sidlist = [6, 7]\n",
        "q = 7\n",
        "s = ramp_restor_sec(vk, k, L, sidlist, q)\n",
        "print(s)\n"
      ],
      "metadata": {
        "id": "4VuN3pWO910c",
        "colab": {
          "base_uri": "https://localhost:8080/"
        },
        "outputId": "5fccac3a-7aff-4b49-952a-f559f8ee061e"
      },
      "execution_count": null,
      "outputs": [
        {
          "output_type": "stream",
          "name": "stdout",
          "text": [
            "Requirement already satisfied: libnum in /usr/local/lib/python3.10/dist-packages (1.7.1)\n",
            "6\n",
            "[0, 6]\n"
          ]
        }
      ]
    },
    {
      "cell_type": "markdown",
      "source": [
        "　さて，ここまで実装ができれば，$(k,L,n)$閾値ランプ型秘密分散共有法を解読してみましょう．\n",
        "以下では$(6,5,20)$閾値ランプ型秘密分散共有法を考えていきます．\n",
        "使用する素数は$q = 2^{24}-3 = 16777213$（24ビット素数のうち最大のもの）です．\n",
        "\n",
        "　この設定のもと，皆さんは攻撃者として$5$つの漏洩したシェアを入手しました．\n",
        "また，各分散管理者のIDは$\\{1,2,\\ldots,20\\}$，シェアを識別するための識別番号は$\\{21,22,\\ldots,25\\}$であることが判明して言います．\n",
        "このとき，秘密$s$はどのような文字列となっているでしょうか？\n",
        "\n",
        "【課題5】\n",
        "\n",
        "　漏洩したシェアから秘密$s$を復元せよ．\n",
        "\n",
        "復元できた文字列はmoodleの課題5へ提出してください．\n",
        "また，**導出した方法についてレポート（PDF形式）にまとめ，2022年9月16日23時59分までにmoodleのレポートから提出してください**．"
      ],
      "metadata": {
        "id": "RmmAa1dLECWx"
      }
    },
    {
      "cell_type": "code",
      "source": [
        "!pip install libnum\n",
        "import libnum\n",
        "\n",
        "###########################\n",
        "###       課題5         ###\n",
        "###########################\n",
        "\n",
        "### 以下へ記述 ###\n",
        "\n",
        "def lam(vk, j, x, q):\n",
        "  xmax = 1\n",
        "  ymax = 1\n",
        "  k = len(vk)\n",
        "  c = 1\n",
        "\n",
        "  for it in range(k):\n",
        "    if it != j:\n",
        "      xmax = (x - vk[it][0])\n",
        "      ymax = (vk[j][0] - vk[it][0])\n",
        "      b_inv = libnum.modular.invmod(ymax,q)\n",
        "      c = c * (xmax*b_inv)%q\n",
        "  return c\n",
        "\n",
        "def ramp_restor_sec(vk, k, L, sidlist, q):\n",
        "  s = []\n",
        "  t = 0\n",
        "  for i in range(L):\n",
        "    for j in range(k):\n",
        "      sidh = sidlist[i]\n",
        "      l = lam(vk, j, sidh, q)\n",
        "      t = (t + (vk[j][1]*l))%q\n",
        "    s.append(t)\n",
        "  return s\n",
        "\n",
        "n = 20\n",
        "k = 5\n",
        "L = 5\n",
        "idlist = [1, 2, 3, 4, 5, 6, 7, 8, 9, 10, 11, 12, 13, 14, 15, 16, 17, 18, 19, 20]\n",
        "sidlist = [21, 22, 23, 24, 25]  # L個必要\n",
        "q = pow(2, 24) - 3  # 24-bit最大素数\n",
        "vk =  [[1, 15275400], [2, 13847949], [3, 13595014], [4, 8545747], [5, 13524144]]\n",
        "s = ramp_restor_sec(vk, k, L, sidlist, q)\n",
        "print(s)\n",
        "\n",
        "\n",
        "\n",
        "\n",
        "\n",
        "### ここまで ###"
      ],
      "metadata": {
        "id": "cVVB2nOWKxjl",
        "colab": {
          "base_uri": "https://localhost:8080/"
        },
        "outputId": "c548901a-e085-47ab-9c7b-092268cb6191"
      },
      "execution_count": null,
      "outputs": [
        {
          "output_type": "stream",
          "name": "stdout",
          "text": [
            "Requirement already satisfied: libnum in /usr/local/lib/python3.10/dist-packages (1.7.1)\n",
            "[417524, 12430259, 10057131, 8144412, 16051712]\n"
          ]
        }
      ]
    },
    {
      "cell_type": "code",
      "source": [
        "m_int = 8144412\n",
        "m_byte = m_int.to_bytes(3, byteorder = 'big')    # int --> bytes\n",
        "print(m_byte)\n",
        "m = m_byte.decode()                               # bytes --> str\n",
        "print(m)\n",
        "m_bytes = m.encode()                              # str --> bytes\n",
        "print(m_bytes)\n",
        "m_int = int.from_bytes(m_byte, byteorder = 'big') # bytes --> int\n",
        "print(m_int)"
      ],
      "metadata": {
        "colab": {
          "base_uri": "https://localhost:8080/"
        },
        "id": "CUUuG0P4hkRo",
        "outputId": "a706b43c-9039-422f-a09c-208b0b967adb"
      },
      "execution_count": null,
      "outputs": [
        {
          "output_type": "stream",
          "name": "stdout",
          "text": [
            "b'|F\\x1c'\n",
            "|F\u001c\n",
            "b'|F\\x1c'\n",
            "8144412\n"
          ]
        }
      ]
    },
    {
      "cell_type": "code",
      "source": [
        "!pip install libnum\n",
        "import libnum\n",
        "import numpy as np\n",
        "import pprint\n",
        "\n",
        "###########################\n",
        "###       課題5         ###\n",
        "###########################\n",
        "\n",
        "### 以下へ記述 ###\n",
        "\n",
        "n = 20\n",
        "k = 6\n",
        "L = 5\n",
        "idlist = [1, 2, 3, 4, 5, 6, 7, 8, 9, 10, 11, 12, 13, 14, 15, 16, 17, 18, 19, 20]\n",
        "sidlist = [21, 22, 23, 24, 25]  # L個必要\n",
        "q = pow(2, 24) - 3  # 24-bit最大素数\n",
        "vk =  [[1, 15275400], [2, 13847949], [3, 13595014], [4, 8545747], [5, 13524144]]\n",
        "\n",
        "#逆行列を求める関数\n",
        "def mod_mat_inv(M,q):\n",
        "  m = M\n",
        "  k = len(M)\n",
        "  I = []\n",
        "\n",
        "  for i in range(k):\n",
        "    row = []\n",
        "    for j in range(k):\n",
        "      if i == j:\n",
        "        row.append(1)\n",
        "      else:\n",
        "        row.append(0)\n",
        "    I.append(row)\n",
        "\n",
        "  for i in range(0,k):\n",
        "    for j in range(i,k):\n",
        "      inv = libnum.modular.invmod(m[j][i],q)\n",
        "      if inv != 0:\n",
        "        break\n",
        "\n",
        "    if (j != i):\n",
        "      m[i],m[j] = swap(m[i],m[j])\n",
        "      I[i],I[j] = swap(I[i],I[j])\n",
        "\n",
        "    for j in range(0,k):\n",
        "      m[i][j] = (inv*m[i][j]) % q\n",
        "      I[i][j] = (inv*I[i][j]) % q\n",
        "\n",
        "    for r in range(0,k):\n",
        "      if (i != r):\n",
        "        mul = m[r][i]\n",
        "\n",
        "        for c in range(0,k):\n",
        "          m[r][c] = (m[r][c] - mul*m[i][c]) % q\n",
        "          I[r][c] = (I[r][c] - mul*I[i][c]) % q\n",
        "\n",
        "  return I\n",
        "\n",
        "\n",
        "#Aを作成\n",
        "A = []\n",
        "for i in range(L):\n",
        "  A.append([])\n",
        "  for j in range(L):\n",
        "    A[i].append((i+1)**(j+1))\n",
        "#print(A)\n",
        "A_inv = mod_mat_inv(A,q)\n",
        "#print(A_inv)\n",
        "\n",
        "#Bを作成\n",
        "B = []\n",
        "for i in range(L):\n",
        "  B.append([])\n",
        "  for j in range(L):\n",
        "    B[i].append((sidlist[i])**(j+1))\n",
        "#print(B)\n",
        "\n",
        "#αを求める\n",
        "vkr = []\n",
        "for i in range(L):\n",
        "  vkr.append([])\n",
        "  vkr[i].append(vk[i][1])\n",
        "#print(vkr)\n",
        "\n",
        "A_invB = np.dot(B,A_inv)\n",
        "A_invB = A_invB % q\n",
        "alpha = np.dot(A_invB,vkr)\n",
        "alpha = alpha % q\n",
        "\n",
        "#βの逆行列を求める\n",
        "I = []\n",
        "for i in range(L):\n",
        "    row = []\n",
        "    for j in range(L):\n",
        "      if i == j:\n",
        "        row.append(1)\n",
        "      else:\n",
        "        row.append(0)\n",
        "    I.append(row)\n",
        "\n",
        "beta = (I - A_invB)%q\n",
        "#print(beta)\n",
        "\n",
        "beta0 = 0\n",
        "for i in range(L):\n",
        "  beta0 = (beta0+beta[0][i])%q\n",
        "beta0_inv = libnum.modular.invmod(beta0,q)\n",
        "#print(beta0)\n",
        "\n",
        "\n",
        "\n",
        "#a0を求める\n",
        "a0_list = []\n",
        "for i in range(32,127):\n",
        "  for j in range(32,127):\n",
        "    for n in range(32,127):\n",
        "      f21 = i*2**16 + j*2**8 + n*2**0\n",
        "      f21al = (f21 - alpha[0][0])%q\n",
        "      a0 = beta0_inv * f21al\n",
        "      a0 = a0 % q\n",
        "      a0_list.append(a0)\n",
        "      #print(i)\n",
        "      #print(a0)\n",
        "\n",
        "#f22を求める\n",
        "beta2 = 0\n",
        "a0_list_len = len(a0_list)\n",
        "a0_list2 = []\n",
        "for i in range(L):\n",
        "  beta2 = (beta2 + beta[1][i])%q\n",
        "beta2_inv = libnum.modular.invmod(beta2,q)\n",
        "for i in range(a0_list_len):\n",
        "  f22 = (alpha[1][0] + beta2 * a0_list[i])%q\n",
        "  x = f22 // 2**16\n",
        "  y = (f22%2**16) // 2**8\n",
        "  z = (f22%2**8)\n",
        "  if (32 <= x <= 126) and (32 <= y <= 126) and (32 <= z <= 126):\n",
        "    a0_list2.append(a0_list[i])\n",
        "\n",
        "#f23を求める\n",
        "beta3 = 0\n",
        "a0_list2_len = len(a0_list2)\n",
        "a0_list3 = []\n",
        "for i in range(L):\n",
        "  beta3 = (beta3 + beta[2][i])%q\n",
        "beta3_inv = libnum.modular.invmod(beta3,q)\n",
        "for i in range(a0_list2_len):\n",
        "  f23 = alpha[2][0] + beta3 * a0_list2[i]\n",
        "  f23 = f23 % q\n",
        "  x = f23 // 2**16\n",
        "  y = (f23%2**16) // 2**8\n",
        "  z = (f23%2**8)\n",
        "  if (32 <= x <= 126) and (32 <= y <= 126) and (32 <= z <= 126):\n",
        "    a0_list3.append(a0_list2[i])\n",
        "\n",
        "#f24を求める\n",
        "beta4 = 0\n",
        "a0_list3_len = len(a0_list3)\n",
        "a0_list4 = []\n",
        "for i in range(L):\n",
        "  beta4 = (beta4 + beta[3][i])%q\n",
        "beta4_inv = libnum.modular.invmod(beta4,q)\n",
        "for i in range(a0_list3_len):\n",
        "  f24 = alpha[3][0] + beta4 * a0_list3[i]\n",
        "  f24 = f24 % q\n",
        "  x = f24 // 2**16\n",
        "  y = (f24%2**16) // 2**8\n",
        "  z = (f24%2**8)\n",
        "  if (32 <= x <= 126) and (32 <= y <= 126) and (32 <= z <= 126):\n",
        "    a0_list4.append(a0_list3[i])\n",
        "\n",
        "#f25を求める\n",
        "beta5 = 0\n",
        "a0_list4_len = len(a0_list4)\n",
        "a0_list5 = []\n",
        "for i in range(L):\n",
        "  beta5 = (beta5 + beta[4][i])%q\n",
        "beta5_inv = libnum.modular.invmod(beta5,q)\n",
        "for i in range(a0_list4_len):\n",
        "  f25 = alpha[4][0] + beta5 * a0_list4[i]\n",
        "  f25 = f25 % q\n",
        "  x = f25 // 2**16\n",
        "  y = (f25%2**16) // 2**8\n",
        "  z = (f25%2**8)\n",
        "  if (32 <= x <= 126) and (32 <= y <= 126) and (32 <= z <= 126):\n",
        "    a0_list5.append(a0_list4[i])\n",
        "\n",
        "#print(a0_list5)\n",
        "\n",
        "#sの列挙\n",
        "a0_list5_len = len(a0_list5)\n",
        "s = []\n",
        "for i in range(a0_list5_len):\n",
        "  s.append([])\n",
        "  f21 = alpha[0][0] + beta0 * a0_list5[i]\n",
        "  f21 = f21 % q\n",
        "  f22 = alpha[1][0] + beta2 * a0_list5[i]\n",
        "  f22 = f22 % q\n",
        "  f23 = alpha[2][0] + beta3 * a0_list5[i]\n",
        "  f23 = f23 % q\n",
        "  f24 = alpha[3][0] + beta4 * a0_list5[i]\n",
        "  f24 = f24 % q\n",
        "  f25 = alpha[4][0] + beta5 * a0_list5[i]\n",
        "  f25 = f25 % q\n",
        "  s[i].append(f21)\n",
        "  s[i].append(f22)\n",
        "  s[i].append(f23)\n",
        "  s[i].append(f24)\n",
        "  s[i].append(f25)\n",
        "print(s)\n",
        "\n",
        "F = []\n",
        "for i in range(a0_list5_len):\n",
        "  F.append([])\n",
        "  for j in range(L):\n",
        "    m_int = s[i][j]\n",
        "    m_int = m_int.item()\n",
        "    m_byte = m_int.to_bytes(3, byteorder = 'big')    # int --> bytes\n",
        "    m = m_byte.decode()                               # bytes --> str\n",
        "    F[i].append(m)\n",
        "pprint.pprint(F)\n",
        "\n",
        "### ここまで ###"
      ],
      "metadata": {
        "colab": {
          "base_uri": "https://localhost:8080/"
        },
        "id": "fhQiqFxR0_B7",
        "outputId": "83ec9de7-5d75-47be-8c43-e0d554590d5b"
      },
      "execution_count": null,
      "outputs": [
        {
          "output_type": "stream",
          "name": "stdout",
          "text": [
            "Collecting libnum\n",
            "  Downloading libnum-1.7.1-py3-none-any.whl (14 kB)\n",
            "Installing collected packages: libnum\n",
            "Successfully installed libnum-1.7.1\n",
            "[[2965539, 8016974, 2324836, 4090235, 4010833], [3168615, 4089208, 3163214, 3297361, 7424364], [3168620, 7234942, 6247269, 2577761, 8281418], [3420981, 6517590, 6305826, 5448786, 3960875], [3820597, 7042086, 3037006, 5000230, 7809334], [4419438, 6779489, 7631649, 4346691, 2568755], [5068151, 6582349, 4415842, 6762076, 2970734], [5263177, 4741169, 5980718, 6897505, 2258791], [5716082, 4287031, 5393010, 4282410, 6902614], [6512251, 4283427, 5388346, 8004720, 6306412]]\n",
            "[['-@#', 'zTN', '#yd', '>i{', '=3Q'],\n",
            " ['0Yg', '>ex', '0DN', '2PQ', 'qIl'],\n",
            " ['0Yl', 'ne~', '_Se', \"'Ua\", '~]J'],\n",
            " ['435', 'csV', '`8\"', 'S$R', '<p+'],\n",
            " [':L5', 'kt&', '.WN', 'LL&', 'w)6'],\n",
            " ['Con', 'gra', 'ts!', 'BSC', \"'23\"],\n",
            " ['MUw', 'dpM', 'Cab', 'g.\\\\', '-Tn'],\n",
            " ['POI', 'HX1', '[B.', 'i?a', '\"wg'],\n",
            " ['W8r', 'Aj7', 'RJr', 'AX*', 'iSV'],\n",
            " ['c^{', 'A\\\\#', 'R8:', 'z$p', '`:l']]\n"
          ]
        }
      ]
    },
    {
      "cell_type": "markdown",
      "source": [
        "\n",
        "2日目の演習は以上となります．お疲れさまでした．"
      ],
      "metadata": {
        "id": "u9q4ctzaKx_W"
      }
    },
    {
      "cell_type": "markdown",
      "metadata": {
        "id": "sYFn3Cm8QYg2"
      },
      "source": [
        "\n",
        "## 3日目：\n",
        "\n",
        "**moodleから出欠登録を忘れずにお願いします．未登録の場合，欠席扱いとなります．**\n",
        "\n",
        "日本総合研究所様提供のCTF演習です．\n",
        "別途指示がありますのでそちらに従って実施してください．\n",
        "\n",
        "## 謝辞\n",
        "\n",
        "本演習は筑波大学システム情報系の面 和成先生ならびに大阪大学工学研究科の奥村伸也先生が作成したものをベースとしています．ここに記して謝意を表します．\n",
        "\n"
      ]
    }
  ],
  "metadata": {
    "colab": {
      "provenance": [],
      "collapsed_sections": [
        "sYFn3Cm8QYg2"
      ],
      "include_colab_link": true
    },
    "kernelspec": {
      "display_name": "Python 3",
      "name": "python3"
    },
    "language_info": {
      "name": "python"
    }
  },
  "nbformat": 4,
  "nbformat_minor": 0
}