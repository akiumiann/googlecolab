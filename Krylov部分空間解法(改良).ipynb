{
  "nbformat": 4,
  "nbformat_minor": 0,
  "metadata": {
    "colab": {
      "provenance": [],
      "authorship_tag": "ABX9TyMwnIVRus/XtWCVag5FybkM",
      "include_colab_link": true
    },
    "kernelspec": {
      "name": "python3",
      "display_name": "Python 3"
    },
    "language_info": {
      "name": "python"
    }
  },
  "cells": [
    {
      "cell_type": "markdown",
      "metadata": {
        "id": "view-in-github",
        "colab_type": "text"
      },
      "source": [
        "<a href=\"https://colab.research.google.com/github/akiumiann/googlecolab/blob/main/Krylov%E9%83%A8%E5%88%86%E7%A9%BA%E9%96%93%E8%A7%A3%E6%B3%95(%E6%94%B9%E8%89%AF).ipynb\" target=\"_parent\"><img src=\"https://colab.research.google.com/assets/colab-badge.svg\" alt=\"Open In Colab\"/></a>"
      ]
    },
    {
      "cell_type": "code",
      "execution_count": null,
      "metadata": {
        "id": "zl4LjHkyx1p7"
      },
      "outputs": [],
      "source": [
        "import numpy as np\n",
        "import matplotlib.pyplot as plt"
      ]
    },
    {
      "cell_type": "markdown",
      "source": [
        "第 2 問 (前回と同じ問題を疎行列 A の特徴を使って改良した連立 1 次方程式の Krylov 部分空間解法)"
      ],
      "metadata": {
        "id": "w1XPr1UmTzt5"
      }
    },
    {
      "cell_type": "code",
      "source": [
        "def ConjugateGradientMethod(a,b1,c,d,e,f,g,h,i):\n",
        "  N = 9\n",
        "  A = np.zeros((N, N))\n",
        "  for i in range(N):\n",
        "   A[i, i] = 4.0\n",
        "  for i in range(N-1):\n",
        "   A[i, i+1] = -1.0\n",
        "   A[i+1, i] = -1.0\n",
        "  Ad = np.zeros((N, N))\n",
        "  Au = np.zeros((N, N))\n",
        "  Al = np.zeros((N, N))\n",
        "  for i in range(N):\n",
        "   Ad[i, i] = 4.0\n",
        "  for i in range(N-1):\n",
        "   Au[i, i+1] = -1.0\n",
        "   Al[i+1, i] = -1.0\n",
        "\n",
        "  print(Ad)\n",
        "  print(Au)\n",
        "  print(Al)\n",
        "\n",
        "  bT = np.array([3,2,2,2,2,2,2,2,3])\n",
        "\n",
        "  b = bT.T\n",
        "  x0T = np.array([0,0,0,0,0,0,0,0,0])\n",
        "  x0 = x0T.T\n",
        "  xnT = np.array([0,0,0,0,0,0,0,0,0])\n",
        "  xn = xnT.T\n",
        "  rnT = np.array([a,b1,c,d,e,f,g,h,i])\n",
        "  rn = rnT.T\n",
        "  pnT = np.array([a,b1,c,d,e,f,g,h,i])\n",
        "  pn = pnT.T\n",
        "  r0T = bT - A@x0\n",
        "  p0T = r0T\n",
        "  r0 = r0T.T\n",
        "  p0 = p0T.T\n",
        "  q1 = np.zeros(N)\n",
        "  q2 = np.zeros(N)\n",
        "  q3 = np.zeros(N)\n",
        "\n",
        "  for k in range (100):\n",
        "    for j in range(N):\n",
        "     q1[j] = np.array(Ad[j,j]*p0[j])\n",
        "    for j in range(N-1):\n",
        "     q2[j] = np.array(Au[j, j+1]*p0[j+1])\n",
        "     q3[j+1] = np.array(Al[j+1, j]*p0[j])\n",
        "    q0 = q1 + q2 + q3\n",
        "    a0 = (r0T@p0)/(p0T@q0)\n",
        "    #print('q',q1.T)\n",
        "    #print('q',q2)\n",
        "    #print('q',q3)\n",
        "    print('q',q0)\n",
        "    x0 = a0*p0\n",
        "    x0T = x0.T\n",
        "    x0T = x0T + xn\n",
        "    #print('x0T',x0T)\n",
        "    rn = r0 - a0*q0\n",
        "    #print('rn',rn)\n",
        "    if abs(all(rn < 1.0e-6)):\n",
        "        print('Converged! Iterations = ', k)\n",
        "        break\n",
        "    rnT = rn.T\n",
        "    r0T = r0.T\n",
        "    #print('rnT',rnT)\n",
        "    b0 = (rnT@rn)/(r0T@r0)\n",
        "    pn = rn + b0*p0\n",
        "    pnT = pn.T\n",
        "    p0 = pn\n",
        "    r0 = rn\n",
        "    p0T = pnT\n",
        "    r0T = rnT\n",
        "    xn = x0T\n",
        "\n",
        "  return x0T"
      ],
      "metadata": {
        "id": "BPFfD2KP-p5o"
      },
      "execution_count": null,
      "outputs": []
    },
    {
      "cell_type": "code",
      "source": [
        "ConjugateGradientMethod(1,2,3,4,5,6,7,8,9)"
      ],
      "metadata": {
        "colab": {
          "base_uri": "https://localhost:8080/"
        },
        "id": "4xvVRC1uSSiz",
        "outputId": "aa1a418e-8027-4182-b939-c6582bc188e3"
      },
      "execution_count": null,
      "outputs": [
        {
          "output_type": "stream",
          "name": "stdout",
          "text": [
            "[[4. 0. 0. 0. 0. 0. 0. 0. 0.]\n",
            " [0. 4. 0. 0. 0. 0. 0. 0. 0.]\n",
            " [0. 0. 4. 0. 0. 0. 0. 0. 0.]\n",
            " [0. 0. 0. 4. 0. 0. 0. 0. 0.]\n",
            " [0. 0. 0. 0. 4. 0. 0. 0. 0.]\n",
            " [0. 0. 0. 0. 0. 4. 0. 0. 0.]\n",
            " [0. 0. 0. 0. 0. 0. 4. 0. 0.]\n",
            " [0. 0. 0. 0. 0. 0. 0. 4. 0.]\n",
            " [0. 0. 0. 0. 0. 0. 0. 0. 4.]]\n",
            "[[ 0. -1.  0.  0.  0.  0.  0.  0.  0.]\n",
            " [ 0.  0. -1.  0.  0.  0.  0.  0.  0.]\n",
            " [ 0.  0.  0. -1.  0.  0.  0.  0.  0.]\n",
            " [ 0.  0.  0.  0. -1.  0.  0.  0.  0.]\n",
            " [ 0.  0.  0.  0.  0. -1.  0.  0.  0.]\n",
            " [ 0.  0.  0.  0.  0.  0. -1.  0.  0.]\n",
            " [ 0.  0.  0.  0.  0.  0.  0. -1.  0.]\n",
            " [ 0.  0.  0.  0.  0.  0.  0.  0. -1.]\n",
            " [ 0.  0.  0.  0.  0.  0.  0.  0.  0.]]\n",
            "[[ 0.  0.  0.  0.  0.  0.  0.  0.  0.]\n",
            " [-1.  0.  0.  0.  0.  0.  0.  0.  0.]\n",
            " [ 0. -1.  0.  0.  0.  0.  0.  0.  0.]\n",
            " [ 0.  0. -1.  0.  0.  0.  0.  0.  0.]\n",
            " [ 0.  0.  0. -1.  0.  0.  0.  0.  0.]\n",
            " [ 0.  0.  0.  0. -1.  0.  0.  0.  0.]\n",
            " [ 0.  0.  0.  0.  0. -1.  0.  0.  0.]\n",
            " [ 0.  0.  0.  0.  0.  0. -1.  0.  0.]\n",
            " [ 0.  0.  0.  0.  0.  0.  0. -1.  0.]]\n",
            "q [10.  3.  4.  4.  4.  4.  4.  3. 10.]\n",
            "q [-4.2684949   4.09980867  0.6747449   1.08545918  1.08545918  1.08545918\n",
            "  0.6747449   4.09980867 -4.2684949 ]\n",
            "q [-0.21877103 -0.87508412  0.94833366  0.13633911  0.23713579  0.13633911\n",
            "  0.94833366 -0.87508412 -0.21877103]\n",
            "q [-0.01287753 -0.05151012 -0.19316294  0.25295732  0.02206406  0.25295732\n",
            " -0.19316294 -0.05151012 -0.01287753]\n",
            "q [-0.00075923 -0.00303692 -0.01138843 -0.04251682  0.11616202 -0.04251682\n",
            " -0.01138843 -0.00303692 -0.00075923]\n",
            "Converged! Iterations =  4\n"
          ]
        },
        {
          "output_type": "execute_result",
          "data": {
            "text/plain": [
              "array([1., 1., 1., 1., 1., 1., 1., 1., 1.])"
            ]
          },
          "metadata": {},
          "execution_count": 86
        }
      ]
    }
  ]
}