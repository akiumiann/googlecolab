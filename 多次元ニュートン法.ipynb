{
  "nbformat": 4,
  "nbformat_minor": 0,
  "metadata": {
    "colab": {
      "provenance": [],
      "authorship_tag": "ABX9TyOjPtnuDsN/RJ0b+6irM3h1",
      "include_colab_link": true
    },
    "kernelspec": {
      "name": "python3",
      "display_name": "Python 3"
    },
    "language_info": {
      "name": "python"
    }
  },
  "cells": [
    {
      "cell_type": "markdown",
      "metadata": {
        "id": "view-in-github",
        "colab_type": "text"
      },
      "source": [
        "<a href=\"https://colab.research.google.com/github/akiumiann/googlecolab/blob/main/%E5%A4%9A%E6%AC%A1%E5%85%83%E3%83%8B%E3%83%A5%E3%83%BC%E3%83%88%E3%83%B3%E6%B3%95.ipynb\" target=\"_parent\"><img src=\"https://colab.research.google.com/assets/colab-badge.svg\" alt=\"Open In Colab\"/></a>"
      ]
    },
    {
      "cell_type": "markdown",
      "source": [
        "09B21478 春山輝"
      ],
      "metadata": {
        "id": "n9GewCa125OM"
      }
    },
    {
      "cell_type": "markdown",
      "source": [
        "第 1 問 (多次元ニュートン法)"
      ],
      "metadata": {
        "id": "AADY25k9VHFE"
      }
    },
    {
      "cell_type": "code",
      "execution_count": null,
      "metadata": {
        "id": "RtZ9_Mpxy6xm"
      },
      "outputs": [],
      "source": [
        "import numpy as np\n",
        "import matplotlib.pyplot as plt"
      ]
    },
    {
      "cell_type": "code",
      "source": [
        "#求めたい方程式の行列式\n",
        "def fx1(x,y,z):\n",
        "  fx = np.array([ x+y+z-6,x*y*z-6,x**2+y**2+z**2-14 ])\n",
        "  return fx\n",
        "#print(fx1(1,2,3))"
      ],
      "metadata": {
        "id": "_R7dCdNak7j9"
      },
      "execution_count": null,
      "outputs": []
    },
    {
      "cell_type": "code",
      "source": [
        "#微分した行列式\n",
        "def df_1(a,b,c):\n",
        "   dfdx = np.array([ [1.,1.,1.],\n",
        "            [b*c,c*a,a*b],\n",
        "            [2*a,2*b,2*c] ])\n",
        "   return dfdx\n",
        "#print(df_1(1.,1.,1.))\n"
      ],
      "metadata": {
        "id": "QdhI6ufgk_Qg"
      },
      "execution_count": null,
      "outputs": []
    },
    {
      "cell_type": "code",
      "source": [
        "#ガウスの消去法\n",
        "def gaussian_elimination(A_list, b_list):\n",
        "    A_array = np.array(A_list)\n",
        "    b_array = np.array(b_list)\n",
        "#前進消去法\n",
        "    for i in range(1, A_array.shape[0]):\n",
        "        for j in range(i, A_array.shape[0]):\n",
        "          hi = A_array[j, i-1] / A_array[i-1, i-1]\n",
        "          A_array[j] = A_array[j] - A_array[i-1] * hi\n",
        "          b_array[j] = b_array[j] - b_array[i-1] * hi\n",
        "#後退消去法\n",
        "    for i in range(A_array.shape[0]-2, -1, -1):\n",
        "        for j in range(i, -1, -1):\n",
        "            hi = A_array[j, i+1] / A_array[i+1, i+1]\n",
        "            A_array[j] = A_array[j] - A_array[i+1] * hi\n",
        "            b_array[j] = b_array[j] - b_array[i+1] * hi\n",
        "#解の算出\n",
        "    true_x = []\n",
        "    for i in range(A_array.shape[0]):\n",
        "        true_x.append(b_array[i] / A_array[i, i])\n",
        "    return true_x"
      ],
      "metadata": {
        "id": "Jga3j8esBbh8"
      },
      "execution_count": null,
      "outputs": []
    },
    {
      "cell_type": "code",
      "source": [
        "#ニュートン法\n",
        "def calc_x0_Newton_method(x1,y1,z1):\n",
        "  x0 = np.array([0, 0, 0])\n",
        "  xn = np.array([x1,y1,z1])\n",
        "\n",
        "  for i in range (1000):\n",
        "    A = df_1(xn[0],xn[1],xn[2])\n",
        "    b = fx1(xn[0],xn[1],xn[2])\n",
        "    R = gaussian_elimination(A, b)\n",
        "    x0 = xn - R\n",
        "    if abs(xn[0] - x0[0]) < 1.e-6:\n",
        "        print('Converged! Iterations = ', i)\n",
        "        break\n",
        "    xn = x0\n",
        "  return x0"
      ],
      "metadata": {
        "id": "GP_4HiIclEPu"
      },
      "execution_count": null,
      "outputs": []
    },
    {
      "cell_type": "code",
      "source": [
        "#メイン実行部\n",
        "calc_x0_Newton_method(6,7,8)"
      ],
      "metadata": {
        "colab": {
          "base_uri": "https://localhost:8080/"
        },
        "id": "582rK_YplLZt",
        "outputId": "332f6bdd-d154-4559-ccc2-b413a6d4e03b"
      },
      "execution_count": null,
      "outputs": [
        {
          "output_type": "stream",
          "name": "stdout",
          "text": [
            "Converged! Iterations =  25\n"
          ]
        },
        {
          "output_type": "execute_result",
          "data": {
            "text/plain": [
              "array([1., 2., 3.])"
            ]
          },
          "metadata": {},
          "execution_count": 6
        }
      ]
    },
    {
      "cell_type": "markdown",
      "source": [
        "第 2 問 (連立 1 次方程式の解法)"
      ],
      "metadata": {
        "id": "vpQi_6xdIOUk"
      }
    },
    {
      "cell_type": "code",
      "source": [
        "#求めたい方程式の行列式\n",
        "A = [ [2., 2., 1.],\n",
        "      [3., 6., 2.],\n",
        "      [4., -2., 5.] ]\n",
        "print('A =',A)\n",
        "\n",
        "#ガウスの消去法\n",
        "def U1(A_list):\n",
        "    A_array = np.array(A_list)\n",
        "    b_array = np.array(A_list)\n",
        "#前進消去法\n",
        "    for i in range(1, A_array.shape[0]):\n",
        "        for j in range(i, A_array.shape[0]):\n",
        "          hi = A_array[j, i-1] / A_array[i-1, i-1]\n",
        "          A_array[j] = A_array[j] - A_array[i-1] * hi\n",
        "    return A_array\n",
        "\n",
        "def L1(A_list):\n",
        "    A_array = np.array(A_list)\n",
        "    b_array = np.array(A_list)\n",
        "    U = U1(A)\n",
        "    l21 =  b_array[1,0] / U[0, 0]\n",
        "    l31 =  b_array[2,0] / U[0, 0]\n",
        "    l32 =  (b_array[2, 1] - (l31 * U[0, 1])) / U[1, 1]\n",
        "    L = np.array([[1  , 0,   0],\n",
        "                  [l21, 1,   0],\n",
        "                  [l31, l32, 1]])\n",
        "    return L\n",
        "\n",
        "print(U1(A))\n",
        "print(L1(A))"
      ],
      "metadata": {
        "colab": {
          "base_uri": "https://localhost:8080/"
        },
        "id": "Bzt2M_rWINYh",
        "outputId": "a2ab413e-9ec4-4c13-bbfc-a9ba0baca040"
      },
      "execution_count": null,
      "outputs": [
        {
          "output_type": "stream",
          "name": "stdout",
          "text": [
            "A = [[2.0, 2.0, 1.0], [3.0, 6.0, 2.0], [4.0, -2.0, 5.0]]\n",
            "[[2.  2.  1. ]\n",
            " [0.  3.  0.5]\n",
            " [0.  0.  4. ]]\n",
            "[[ 1.   0.   0. ]\n",
            " [ 1.5  1.   0. ]\n",
            " [ 2.  -2.   1. ]]\n"
          ]
        }
      ]
    },
    {
      "cell_type": "markdown",
      "source": [
        "第 3 問 (連立 1 次方程式の解法)"
      ],
      "metadata": {
        "id": "LHuMLXHpscob"
      }
    },
    {
      "cell_type": "code",
      "source": [
        "c_array = np.array([4,2,8])\n",
        "l_array = L1(A)\n",
        "u_array = U1(A)\n",
        "\n",
        "d1 = c_array[0]\n",
        "d2 = c_array[1] - (d1 * l_array[1,0])\n",
        "d3 = c_array[2] - (d1 * l_array[2,0]) - (d2 * l_array[2,1])\n",
        "d_array = [d1, d2, d3]\n",
        "print(d_array)\n",
        "\n",
        "for i in range(u_array.shape[0] - 2, -1, -1):\n",
        "  for j in range(i, -1, -1):\n",
        "   hi = u_array[j, i+1] / u_array[i+1, i+1]\n",
        "   u_array[j] = u_array[j] - u_array[i+1] * hi\n",
        "   d_array[j] = d_array[j] - d_array[i+1] * hi\n",
        "X = []\n",
        "for i in range(u_array.shape[0]):\n",
        "  X.append(d_array[i] / u_array[i, i])\n",
        "\n",
        "print(X)"
      ],
      "metadata": {
        "colab": {
          "base_uri": "https://localhost:8080/"
        },
        "id": "o86C9mnVnTM7",
        "outputId": "212cb252-6bb1-435b-eb33-fc5a0a34f005"
      },
      "execution_count": null,
      "outputs": [
        {
          "output_type": "stream",
          "name": "stdout",
          "text": [
            "[4, -4.0, -8.0]\n",
            "[4.0, -1.0, -2.0]\n"
          ]
        }
      ]
    }
  ]
}