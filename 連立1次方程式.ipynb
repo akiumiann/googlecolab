{
  "nbformat": 4,
  "nbformat_minor": 0,
  "metadata": {
    "colab": {
      "provenance": [],
      "include_colab_link": true
    },
    "kernelspec": {
      "name": "python3",
      "display_name": "Python 3"
    },
    "language_info": {
      "name": "python"
    }
  },
  "cells": [
    {
      "cell_type": "markdown",
      "metadata": {
        "id": "view-in-github",
        "colab_type": "text"
      },
      "source": [
        "<a href=\"https://colab.research.google.com/github/akiumiann/googlecolab/blob/main/%E9%80%A3%E7%AB%8B1%E6%AC%A1%E6%96%B9%E7%A8%8B%E5%BC%8F.ipynb\" target=\"_parent\"><img src=\"https://colab.research.google.com/assets/colab-badge.svg\" alt=\"Open In Colab\"/></a>"
      ]
    },
    {
      "cell_type": "markdown",
      "source": [
        "第 2 問 (連立 1 次方程式の直接解法)\n"
      ],
      "metadata": {
        "id": "j2PzrrbuerM3"
      }
    },
    {
      "cell_type": "code",
      "execution_count": null,
      "metadata": {
        "id": "RtZ9_Mpxy6xm"
      },
      "outputs": [],
      "source": [
        "import numpy as np\n",
        "import matplotlib.pyplot as plt\n",
        "from scipy.linalg import cholesky"
      ]
    },
    {
      "cell_type": "code",
      "source": [
        "A = np.array([\n",
        "    [2,1,-1],\n",
        "    [1,3,1],\n",
        "    [-1,1,4]\n",
        "])\n",
        "\n",
        "print(A.T) #転置行列\n",
        "\n",
        "d00 = A[0,0]\n",
        "l10 = A[1,0]/d00\n",
        "d11 = A[1,1] - A[0,1]*l10\n",
        "l20 = A[2,0]/d00\n",
        "l21 = (A[1,2]-d00*l20*l10)/d11\n",
        "d22 = A[2,2] - A[2,0]*l20 - (A[1,2]-A[0,2]*l10)*l21\n",
        "\n",
        "L = np.array([\n",
        "    [1,0,0],\n",
        "    [l10,1,0],\n",
        "    [l20,l21,1]\n",
        "])\n",
        "\n",
        "D = np.array([\n",
        "    [d00,0,0],\n",
        "    [0,d11,0],\n",
        "    [0,0,d22]\n",
        "])\n",
        "\n",
        "LT = L.T\n",
        "\n",
        "print('L=')\n",
        "print(L)\n",
        "print('D=')\n",
        "print(D)\n",
        "print('LT=')\n",
        "print(LT)\n",
        "\n",
        "A = L@D@L.T\n",
        "print(A)"
      ],
      "metadata": {
        "colab": {
          "base_uri": "https://localhost:8080/"
        },
        "id": "BUmM6hikeof7",
        "outputId": "95fa8192-2cdb-4cb4-dcf2-7a55d666b5ff"
      },
      "execution_count": null,
      "outputs": [
        {
          "output_type": "stream",
          "name": "stdout",
          "text": [
            "[[ 2  1 -1]\n",
            " [ 1  3  1]\n",
            " [-1  1  4]]\n",
            "L=\n",
            "[[ 1.   0.   0. ]\n",
            " [ 0.5  1.   0. ]\n",
            " [-0.5  0.6  1. ]]\n",
            "D=\n",
            "[[2.  0.  0. ]\n",
            " [0.  2.5 0. ]\n",
            " [0.  0.  2.6]]\n",
            "LT=\n",
            "[[ 1.   0.5 -0.5]\n",
            " [ 0.   1.   0.6]\n",
            " [ 0.   0.   1. ]]\n",
            "[[ 2.  1. -1.]\n",
            " [ 1.  3.  1.]\n",
            " [-1.  1.  4.]]\n"
          ]
        }
      ]
    },
    {
      "cell_type": "markdown",
      "source": [
        "第 3 問 (連立１次方程式の反復解法)"
      ],
      "metadata": {
        "id": "E0Qmm6x1mSg1"
      }
    },
    {
      "cell_type": "code",
      "source": [
        "x0T = np.array([\n",
        "    [0,0,0,0,0,0,0,0,0]\n",
        "])\n",
        "\n",
        "x0 = x0T.T\n",
        "\n",
        "A = np.array([\n",
        "    [4,-1,0,0,0,0,0,0,0],\n",
        "    [-1,4,-1,0,0,0,0,0,0],\n",
        "    [0,-1,4,-1,0,0,0,0,0],\n",
        "    [0,0,-1,4,-1,0,0,0,0],\n",
        "    [0,0,0,-1,4,-1,0,0,0],\n",
        "    [0,0,0,0,-1,4,-1,0,0],\n",
        "    [0,0,0,0,0,-1,4,-1,0],\n",
        "    [0,0,0,0,0,0,-1,4,-1],\n",
        "    [0,0,0,0,0,0,0,-1,4]\n",
        "])\n",
        "\n",
        "bT = np.array([\n",
        "    [3,2,2,2,2,2,2,2,3]\n",
        "])\n",
        "\n",
        "b = bT.T\n",
        "\n",
        "Au = np.array([\n",
        "    [0,-1,0,0,0,0,0,0,0],\n",
        "    [0,0,-1,0,0,0,0,0,0],\n",
        "    [0,0,0,-1,0,0,0,0,0],\n",
        "    [0,0,0,0,-1,0,0,0,0],\n",
        "    [0,0,0,0,0,-1,0,0,0],\n",
        "    [0,0,0,0,0,0,-1,0,0],\n",
        "    [0,0,0,0,0,0,0,-1,0],\n",
        "    [0,0,0,0,0,0,0,0,-1],\n",
        "    [0,0,0,0,0,0,0,0,0]\n",
        "])\n",
        "\n",
        "AD = np.array([\n",
        "    [4,0,0,0,0,0,0,0,0],\n",
        "    [0,4,0,0,0,0,0,0,0],\n",
        "    [0,0,4,0,0,0,0,0,0],\n",
        "    [0,0,0,4,0,0,0,0,0],\n",
        "    [0,0,0,0,4,0,0,0,0],\n",
        "    [0,0,0,0,0,4,0,0,0],\n",
        "    [0,0,0,0,0,0,4,0,0],\n",
        "    [0,0,0,0,0,0,0,4,0],\n",
        "    [0,0,0,0,0,0,0,0,4]\n",
        "])\n",
        "\n",
        "AL = np.array([\n",
        "    [0,0,0,0,0,0,0,0,0],\n",
        "    [-1,0,0,0,0,0,0,0,0],\n",
        "    [0,-1,0,0,0,0,0,0,0],\n",
        "    [0,0,-1,0,0,0,0,0,0],\n",
        "    [0,0,0,-1,0,0,0,0,0],\n",
        "    [0,0,0,0,-1,0,0,0,0],\n",
        "    [0,0,0,0,0,-1,0,0,0],\n",
        "    [0,0,0,0,0,0,-1,0,0],\n",
        "    [0,0,0,0,0,0,0,-1,0]\n",
        "])\n",
        "\n",
        "ADr = np.linalg.inv(AD)\n",
        "AuL = -(Au + AL)\n",
        "\n",
        "for i in range(1000) :\n",
        "  AuLx0 = np.dot(AuL, x0)\n",
        "  AuLx0b = AuLx0 + b\n",
        "  x1 = np.dot(ADr, AuLx0b)\n",
        "  if abs(all(x1-x0)) < 1.0e-6:\n",
        "    print('Converged! Iterations = ', i)\n",
        "    break\n",
        "  x0 = x1\n",
        "\n",
        "print(x0)"
      ],
      "metadata": {
        "id": "6p2obLp8mPjw",
        "colab": {
          "base_uri": "https://localhost:8080/"
        },
        "outputId": "b0fcf733-1a19-4b85-a763-94e31685dc25"
      },
      "execution_count": null,
      "outputs": [
        {
          "output_type": "stream",
          "name": "stdout",
          "text": [
            "Converged! Iterations =  49\n",
            "[[1.]\n",
            " [1.]\n",
            " [1.]\n",
            " [1.]\n",
            " [1.]\n",
            " [1.]\n",
            " [1.]\n",
            " [1.]\n",
            " [1.]]\n"
          ]
        }
      ]
    },
    {
      "cell_type": "code",
      "source": [
        "gaussian_elimination(A, b)"
      ],
      "metadata": {
        "colab": {
          "base_uri": "https://localhost:8080/"
        },
        "id": "EeZJ5I5Ytqow",
        "outputId": "e996a1ed-721b-45f2-95d1-9d576288d1f5"
      },
      "execution_count": null,
      "outputs": [
        {
          "output_type": "execute_result",
          "data": {
            "text/plain": [
              "[array([1.]),\n",
              " array([1.]),\n",
              " array([1.]),\n",
              " array([1.]),\n",
              " array([1.]),\n",
              " array([1.]),\n",
              " array([1.]),\n",
              " array([1.]),\n",
              " array([1.])]"
            ]
          },
          "metadata": {},
          "execution_count": 11
        }
      ]
    },
    {
      "cell_type": "markdown",
      "source": [
        "反復法の方は1回の精度が低く，何度も計算を繰り返すことによって近い値が出ることが分かった．\n",
        "\n",
        "精度は両方とも1になったので，精度に違いはみられなかった．だが，収束条件を決めて途中でbreakしてる反復法の方が精度は低いと考えられる．\n",
        "\n",
        "直接法：1回\n",
        "反復法：49回"
      ],
      "metadata": {
        "id": "sg2-qXNhx0lk"
      }
    }
  ]
}