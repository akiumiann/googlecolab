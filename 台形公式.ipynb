{
  "nbformat": 4,
  "nbformat_minor": 0,
  "metadata": {
    "colab": {
      "provenance": [],
      "authorship_tag": "ABX9TyOlOHK7pPACHd4wmcXyumeA",
      "include_colab_link": true
    },
    "kernelspec": {
      "name": "python3",
      "display_name": "Python 3"
    },
    "language_info": {
      "name": "python"
    }
  },
  "cells": [
    {
      "cell_type": "markdown",
      "metadata": {
        "id": "view-in-github",
        "colab_type": "text"
      },
      "source": [
        "<a href=\"https://colab.research.google.com/github/akiumiann/googlecolab/blob/main/%E5%8F%B0%E5%BD%A2%E5%85%AC%E5%BC%8F.ipynb\" target=\"_parent\"><img src=\"https://colab.research.google.com/assets/colab-badge.svg\" alt=\"Open In Colab\"/></a>"
      ]
    },
    {
      "cell_type": "markdown",
      "source": [
        "09B21478 春山輝"
      ],
      "metadata": {
        "id": "p8lHaUdMetww"
      }
    },
    {
      "cell_type": "markdown",
      "source": [
        "第 1 問 関数\n",
        "4.0/(1.0+x_in**2)\n",
        "を区間 [0 1] で積分計算すると π である．台形公式のプログラムを作成し，第２回課題の結果と精度\n",
        "を両対数グラフに図示して比較せよ．"
      ],
      "metadata": {
        "id": "4e0YrYCyetkM"
      }
    },
    {
      "cell_type": "code",
      "execution_count": null,
      "metadata": {
        "id": "-mMLnn7DUnNi"
      },
      "outputs": [],
      "source": [
        "import numpy as np\n",
        "import matplotlib.pyplot as plt"
      ]
    },
    {
      "cell_type": "code",
      "source": [
        "\n",
        "def fx(x_in):\n",
        "  y_result = 4.0/(1.0+x_in**2)\n",
        "  return y_result"
      ],
      "metadata": {
        "id": "MRECVn9Wc0t9"
      },
      "execution_count": null,
      "outputs": []
    },
    {
      "cell_type": "code",
      "source": [
        "N_ini = 10\n",
        "N_fac = 2\n",
        "m = 20\n",
        "h = 1.0/N_ini"
      ],
      "metadata": {
        "id": "t3bOcolDc39c"
      },
      "execution_count": null,
      "outputs": []
    },
    {
      "cell_type": "code",
      "source": [
        "def calc_S(N_in):\n",
        "  S = 0.0\n",
        "  dx = 1.0/N_in\n",
        "  x_i = 0.0\n",
        "  for i in range( N_in):\n",
        "    S += dx * fx(x_i)\n",
        "    x_i += dx\n",
        "  return S"
      ],
      "metadata": {
        "id": "I5g7JMgLc6yE"
      },
      "execution_count": null,
      "outputs": []
    },
    {
      "cell_type": "code",
      "source": [
        "S_all = np.zeros(m)\n",
        "N_all = np.zeros(m)\n",
        "h_all = np.zeros(m)\n",
        "err_all = np.zeros(m)\n",
        "\n",
        "N = N_ini\n",
        "h = 1.0/N\n",
        "\n",
        "for i in range(m):\n",
        "  S_all[i] = calc_S(N) # 面積の計算\n",
        "  N_all[i] = N\n",
        "  h_all[i] = h\n",
        "  N = N * N_fac # 分割数Nの更新\n",
        "  h = 1/N # hの更新"
      ],
      "metadata": {
        "id": "fQCSJKeldAbB"
      },
      "execution_count": null,
      "outputs": []
    },
    {
      "cell_type": "code",
      "source": [
        "for i in range (m):\n",
        "  err_all[i] = abs(np.pi - S_all[i])"
      ],
      "metadata": {
        "id": "9HV2pndedD66"
      },
      "execution_count": null,
      "outputs": []
    },
    {
      "cell_type": "code",
      "source": [
        "plt.rcParams[\"font.size\"] = 24 # フォントサイズ\n",
        "\n",
        "plt.plot(h_all, err_all, label=r\"$err_N = |\\pi - S_N| $\", marker=\"o\", color=\"black\") # err=π-S for each N\n",
        "\n",
        "plt.xscale(\"log\") # x軸をlogスケールに\n",
        "plt.yscale(\"log\")\n",
        "\n",
        "plt.title(\"hyou1\")\n",
        "plt.xlabel(\"$h$\") # x軸ラベル\n",
        "plt.ylabel(\"$err$\") # y軸ラベル\n",
        "plt.grid() # グリッド表示\n",
        "\n",
        "print(f\"err = {err_all}\")"
      ],
      "metadata": {
        "colab": {
          "base_uri": "https://localhost:8080/",
          "height": 363
        },
        "id": "2Qry8oAzd856",
        "outputId": "3dda4711-3c5e-48ba-acd0-181e5c60b00e"
      },
      "execution_count": null,
      "outputs": [
        {
          "output_type": "stream",
          "name": "stdout",
          "text": [
            "err = [9.83333353e-02 4.95833334e-02 2.48958333e-02 1.24739583e-02\n",
            " 6.24348958e-03 3.12337240e-03 1.56209310e-03 7.81148275e-04\n",
            " 3.90599569e-04 1.95306142e-04 9.76546604e-05 4.88277278e-05\n",
            " 2.44139637e-05 1.22070059e-05 6.10350735e-06 3.05175836e-06\n",
            " 1.52588681e-06 7.62930831e-07 3.81435846e-07 1.90768771e-07]\n"
          ]
        },
        {
          "output_type": "display_data",
          "data": {
            "text/plain": [
              "<Figure size 432x288 with 1 Axes>"
            ],
            "image/png": "[encoded data removed]"
          },
          "metadata": {
            "needs_background": "light"
          }
        }
      ]
    },
    {
      "cell_type": "code",
      "source": [
        "def calc_S(N_in):\n",
        "  S = 0.0\n",
        "  dx = 1.0/N_in\n",
        "  x_i = 0.0\n",
        "  x_i2 = dx\n",
        "  for i in range( N_in):\n",
        "    S += dx*(  fx(x_i)+fx(x_i2))/2\n",
        "    x_i += dx\n",
        "    x_i2 += dx\n",
        "  return S"
      ],
      "metadata": {
        "id": "dCohKvajeB-c"
      },
      "execution_count": null,
      "outputs": []
    },
    {
      "cell_type": "code",
      "source": [
        "S_all = np.zeros(m)\n",
        "N_all = np.zeros(m)\n",
        "h_all = np.zeros(m)\n",
        "err_all = np.zeros(m)\n",
        "\n",
        "N = N_ini\n",
        "h = 1.0/N\n",
        "\n",
        "for i in range(m):\n",
        "  S_all[i] = calc_S(N) # 面積の計算\n",
        "  N_all[i] = N\n",
        "  h_all[i] = h\n",
        "  N = N * N_fac # 分割数Nの更新\n",
        "  h = 1/N # hの更新"
      ],
      "metadata": {
        "id": "-zXvfJaLrF68"
      },
      "execution_count": null,
      "outputs": []
    },
    {
      "cell_type": "code",
      "source": [
        "for i in range (m):\n",
        "  err_all[i] = abs(np.pi - S_all[i])"
      ],
      "metadata": {
        "id": "Uz9qh5qSvrLa"
      },
      "execution_count": null,
      "outputs": []
    },
    {
      "cell_type": "code",
      "source": [
        "plt.rcParams[\"font.size\"] = 24 # フォントサイズ\n",
        "\n",
        "plt.plot(h_all, err_all, label=r\"$err_N = |\\pi - S_N| $\", marker=\"o\", color=\"black\") # err=π-S for each N\n",
        "\n",
        "plt.xscale(\"log\") # x軸をlogスケールに\n",
        "plt.yscale(\"log\")\n",
        "\n",
        "plt.title(\"hyou2\")\n",
        "plt.xlabel(\"$h$\") # x軸ラベル\n",
        "plt.ylabel(\"$err$\") # y軸ラベル\n",
        "plt.grid() # グリッド表示\n",
        "\n",
        "print(f\"err = {err_all}\")"
      ],
      "metadata": {
        "colab": {
          "base_uri": "https://localhost:8080/",
          "height": 357
        },
        "outputId": "81c207ec-b2f8-4895-dbc6-76b9cc9ed998",
        "id": "QZTlB4EevxCl"
      },
      "execution_count": null,
      "outputs": [
        {
          "output_type": "stream",
          "name": "stdout",
          "text": [
            "err = [1.66666468e-03 4.16666636e-04 1.04166666e-04 2.60416667e-05\n",
            " 6.51041666e-06 1.62760417e-06 4.06901050e-07 1.01725245e-07\n",
            " 2.54312869e-08 6.35787245e-09 1.58959423e-09 3.97231137e-10\n",
            " 9.88267246e-11 2.53752575e-11 8.28848101e-12 6.39932551e-13\n",
            " 8.04378786e-12 8.50386428e-12 3.35185213e-11 3.43440831e-11]\n"
          ]
        },
        {
          "output_type": "display_data",
          "data": {
            "text/plain": [
              "<Figure size 432x288 with 1 Axes>"
            ],
            "image/png": "[encoded data removed]"
          },
          "metadata": {
            "needs_background": "light"
          }
        }
      ]
    },
    {
      "cell_type": "markdown",
      "source": [
        "表1と表2より，台形公式を使う方が2倍近く精度が正確に出ることが分かった．\n",
        "また，台形公式は5秒，第2回の課題は3秒と，台形公式を使う方が計算速度の時間がかかることが分かった．グラフの最後がぐちゃってなっているのは，pythonのepsの値よりも誤差の値が減ったからだと考えられる．"
      ],
      "metadata": {
        "id": "TrdKMXFXNfDn"
      }
    }
  ]
}