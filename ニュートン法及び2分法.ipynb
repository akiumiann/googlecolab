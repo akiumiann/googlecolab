{
  "nbformat": 4,
  "nbformat_minor": 0,
  "metadata": {
    "colab": {
      "provenance": [],
      "authorship_tag": "ABX9TyOiC43PSiQccHh0GtaE54rp",
      "include_colab_link": true
    },
    "kernelspec": {
      "name": "python3",
      "display_name": "Python 3"
    },
    "language_info": {
      "name": "python"
    }
  },
  "cells": [
    {
      "cell_type": "markdown",
      "metadata": {
        "id": "view-in-github",
        "colab_type": "text"
      },
      "source": [
        "<a href=\"https://colab.research.google.com/github/akiumiann/googlecolab/blob/main/%E3%83%8B%E3%83%A5%E3%83%BC%E3%83%88%E3%83%B3%E6%B3%95%E5%8F%8A%E3%81%B32%E5%88%86%E6%B3%95.ipynb\" target=\"_parent\"><img src=\"https://colab.research.google.com/assets/colab-badge.svg\" alt=\"Open In Colab\"/></a>"
      ]
    },
    {
      "cell_type": "markdown",
      "source": [
        "第 1 問 (前回と同じ)"
      ],
      "metadata": {
        "id": "ysoHnveiLVgL"
      }
    },
    {
      "cell_type": "code",
      "execution_count": null,
      "metadata": {
        "colab": {
          "base_uri": "https://localhost:8080/",
          "height": 359
        },
        "id": "FDGu5loox7yN",
        "outputId": "f75bbda4-3472-4c4d-8afe-e3fba360c31e"
      },
      "outputs": [
        {
          "output_type": "stream",
          "name": "stdout",
          "text": [
            "0.5877851538826917\n",
            "[0.5, 0.25, 0.125, 0.0625, 0.03125, 0.015625, 0.0078125, 0.00390625, 0.001953125, 0.0009765625, 0.00048828125, 0.000244140625, 0.0001220703125, 6.103515625e-05, 3.0517578125e-05, 1.52587890625e-05, 7.62939453125e-06, 3.814697265625e-06, 1.9073486328125e-06]\n",
            "[0.22226230564168425, 0.10670517445836725, 0.05202725381174089, 0.025656150355766294, 0.012735525353675947, 0.00634423343100432, 0.003166185803134547, 0.0015816041219910426, 0.000790429111144797, 0.0003951212239133861, 0.00019753726730764587, 9.876279620935069e-05, 4.937993874032376e-05, 2.468960594692593e-05, 1.2344712398637547e-05, 6.1723356555853925e-06, 3.0861654739533506e-06, 1.543094935052558e-06, 7.715814934750043e-07]\n"
          ]
        },
        {
          "output_type": "display_data",
          "data": {
            "text/plain": [
              "<Figure size 432x288 with 1 Axes>"
            ],
            "image/png": "[encoded data removed]"
          },
          "metadata": {
            "needs_background": "light"
          }
        }
      ],
      "source": [
        "import numpy as np\n",
        "import matplotlib.pyplot as plt\n",
        "#使う関数の定義．\n",
        "def derivative(f, x, h):\n",
        "  return (f(x+h) - f(x)) / h\n",
        "def func(x):\n",
        "  return np.sin(x)\n",
        "#一回微分の値を数値的に求めよ．\n",
        "h = 0.000000001\n",
        "x = 0.3*np.pi\n",
        "t = derivative(func, x, h)\n",
        "print(t)\n",
        "#y=h,z=誤差でグラフを作成．\n",
        "y = []\n",
        "z = []\n",
        "for num in range(1,20):\n",
        "  num = 2**num\n",
        "  num2 = 1/num\n",
        "  y.append(num2)\n",
        "  t = derivative(func, x, num2)\n",
        "  u = 0.587785252292473 - t\n",
        "  z.append(u)\n",
        "print(y)\n",
        "print(z)\n",
        "plt.plot(y,z)\n",
        "plt.xscale(\"log\")\n",
        "plt.yscale(\"log\")\n",
        "plt.xlabel(\"$h$\")\n",
        "plt.ylabel(\"$gosa$\")\n",
        "plt.grid() # グリッドを表示"
      ]
    },
    {
      "cell_type": "markdown",
      "source": [
        "第 2 問 (前回と同じ)"
      ],
      "metadata": {
        "id": "pCrBZX7PLhz9"
      }
    },
    {
      "cell_type": "code",
      "source": [
        "import numpy as np\n",
        "import matplotlib.pyplot as plt\n",
        "#使う関数の定義\n",
        "def f(x):\n",
        "  return 4/(1+x**2)\n",
        "def calc_S(N_in):\n",
        "  S = 0.0\n",
        "  dx = 1.0/N_in\n",
        "  x_i = 0.0\n",
        "  for i in range( N_in):\n",
        "    S += dx * f(x_i)\n",
        "    x_i += dx\n",
        "  return S\n",
        "#y=h,z=誤差でグラフ作成\n",
        "y = []\n",
        "z = []\n",
        "for num in range(1,10000,1000):\n",
        "  h=1/num\n",
        "  y.append(h)\n",
        "  t = calc_S(num)\n",
        "  u = t-np.pi\n",
        "  z.append(u)\n",
        "print(y)\n",
        "print(z)\n",
        "plt.plot(y,z)\n",
        "plt.xscale(\"log\") # x軸をlogスケールに\n",
        "plt.yscale(\"log\")\n",
        "\n",
        "#plt.legend() # 凡例を表示\n",
        "plt.xlabel(\"$h$\") # x軸ラベル\n",
        "plt.ylabel(\"$gosa$\") # y軸ラベル\n",
        "plt.grid() #"
      ],
      "metadata": {
        "colab": {
          "base_uri": "https://localhost:8080/",
          "height": 341
        },
        "id": "TFCUiQ7z42HU",
        "outputId": "7f0aebd9-0d27-47d9-ec07-b13dd1c50675"
      },
      "execution_count": null,
      "outputs": [
        {
          "output_type": "stream",
          "name": "stdout",
          "text": [
            "[1.0, 0.000999000999000999, 0.0004997501249375312, 0.0003332222592469177, 0.00024993751562109475, 0.0001999600079984003, 0.00016663889351774705, 0.00014283673760891302, 0.00012498437695288088, 0.00011109876680368848]\n",
            "[0.8584073464102069, 0.0009988346651730318, 0.0004997084999169843, 0.0003332037530552334, 0.00024992710418381137, 0.00019995334406130993, 0.0001666342653785513, 0.0001428333371635837, 0.00012498177342834538, 0.00011109670954256856]\n"
          ]
        },
        {
          "output_type": "display_data",
          "data": {
            "text/plain": [
              "<Figure size 432x288 with 1 Axes>"
            ],
            "image/png": "[encoded data removed]"
          },
          "metadata": {
            "needs_background": "light"
          }
        }
      ]
    },
    {
      "cell_type": "markdown",
      "source": [
        "第 3 問 (前回の発展)-二分法"
      ],
      "metadata": {
        "id": "nvF4gphiLpl8"
      }
    },
    {
      "cell_type": "code",
      "source": [
        "import numpy as np\n",
        "import matplotlib.pyplot as plt\n",
        "#解きたい方程式\n",
        "def func_f(x):\n",
        "  return x**2-4*x\n",
        "kon = (4+np.sqrt(4**2-4*1*0))/2*1\n",
        "kon2 = (4-np.sqrt(4**2-4*1*0))/2*1\n",
        "print(\"kon:{:3f}\".format(kon))\n",
        "print(\"kon2:{:3f}\".format(kon2))\n",
        "#二分法\n",
        "def bisection(func_f, x_min, x_max, error=1e-10, max_loop=100):\n",
        "  num_calc = 0\n",
        "  print(\"{:3d}: {:.15f} <= x <= {:.15f}\".format(num_calc, x_min, x_max))\n",
        "  while(True):\n",
        "    x_mid = (x_max +x_min)/2.0\n",
        "    if (0.0 < func_f(x_mid)*func_f(x_max)):\n",
        "      x_max = x_mid\n",
        "    else:\n",
        "      x_min = x_mid\n",
        "    num_calc += 1\n",
        "    print(\"{:3d}: {:.15f} <= x <= {:.15f}\".format(num_calc, x_min, x_max))\n",
        "    if((x_max-x_min <= error) or max_loop <= num_calc):\n",
        "      break\n",
        "  print(\"x = {:.15f}\".format(x_mid))\n",
        "  return x_mid\n",
        "#可視化\n",
        "def visualization(func_f, x_min, x_max, x_solved):\n",
        "  exact_x = np.arange(x_min,x_max, (x_max-x_min)/500.0)\n",
        "  exact_y = func_f(exact_x)\n",
        "  plt.plot(exact_x,exact_y)\n",
        "  plt.scatter(x_solved,0.0)\n",
        "  plt.axhline(0, color='#000000')\n",
        "  plt.show()\n",
        "#メイン実行部\n",
        "if (__name__ == '__main__'):\n",
        "  solution = bisection(func_f, -1.0, 100)\n",
        "  visualization(func_f, solution-1.0, solution+1.0, solution)"
      ],
      "metadata": {
        "colab": {
          "base_uri": "https://localhost:8080/",
          "height": 1027
        },
        "id": "W4Ba5WIILOix",
        "outputId": "c864ee2b-94f9-47f1-ef7d-a08ce7194330"
      },
      "execution_count": null,
      "outputs": [
        {
          "output_type": "stream",
          "name": "stdout",
          "text": [
            "kon:4.000000\n",
            "kon2:0.000000\n",
            "  0: -1.000000000000000 <= x <= 100.000000000000000\n",
            "  1: -1.000000000000000 <= x <= 49.500000000000000\n",
            "  2: -1.000000000000000 <= x <= 24.250000000000000\n",
            "  3: -1.000000000000000 <= x <= 11.625000000000000\n",
            "  4: -1.000000000000000 <= x <= 5.312500000000000\n",
            "  5: 2.156250000000000 <= x <= 5.312500000000000\n",
            "  6: 3.734375000000000 <= x <= 5.312500000000000\n",
            "  7: 3.734375000000000 <= x <= 4.523437500000000\n",
            "  8: 3.734375000000000 <= x <= 4.128906250000000\n",
            "  9: 3.931640625000000 <= x <= 4.128906250000000\n",
            " 10: 3.931640625000000 <= x <= 4.030273437500000\n",
            " 11: 3.980957031250000 <= x <= 4.030273437500000\n",
            " 12: 3.980957031250000 <= x <= 4.005615234375000\n",
            " 13: 3.993286132812500 <= x <= 4.005615234375000\n",
            " 14: 3.999450683593750 <= x <= 4.005615234375000\n",
            " 15: 3.999450683593750 <= x <= 4.002532958984375\n",
            " 16: 3.999450683593750 <= x <= 4.000991821289062\n",
            " 17: 3.999450683593750 <= x <= 4.000221252441406\n",
            " 18: 3.999835968017578 <= x <= 4.000221252441406\n",
            " 19: 3.999835968017578 <= x <= 4.000028610229492\n",
            " 20: 3.999932289123535 <= x <= 4.000028610229492\n",
            " 21: 3.999980449676514 <= x <= 4.000028610229492\n",
            " 22: 3.999980449676514 <= x <= 4.000004529953003\n",
            " 23: 3.999992489814758 <= x <= 4.000004529953003\n",
            " 24: 3.999998509883881 <= x <= 4.000004529953003\n",
            " 25: 3.999998509883881 <= x <= 4.000001519918442\n",
            " 26: 3.999998509883881 <= x <= 4.000000014901161\n",
            " 27: 3.999999262392521 <= x <= 4.000000014901161\n",
            " 28: 3.999999638646841 <= x <= 4.000000014901161\n",
            " 29: 3.999999826774001 <= x <= 4.000000014901161\n",
            " 30: 3.999999920837581 <= x <= 4.000000014901161\n",
            " 31: 3.999999967869371 <= x <= 4.000000014901161\n",
            " 32: 3.999999991385266 <= x <= 4.000000014901161\n",
            " 33: 3.999999991385266 <= x <= 4.000000003143214\n",
            " 34: 3.999999997264240 <= x <= 4.000000003143214\n",
            " 35: 3.999999997264240 <= x <= 4.000000000203727\n",
            " 36: 3.999999998733983 <= x <= 4.000000000203727\n",
            " 37: 3.999999999468855 <= x <= 4.000000000203727\n",
            " 38: 3.999999999836291 <= x <= 4.000000000203727\n",
            " 39: 3.999999999836291 <= x <= 4.000000000020009\n",
            " 40: 3.999999999928150 <= x <= 4.000000000020009\n",
            "x = 3.999999999928150\n"
          ]
        },
        {
          "output_type": "display_data",
          "data": {
            "text/plain": [
              "<Figure size 432x288 with 1 Axes>"
            ],
            "image/png": "[encoded data removed]"
          },
          "metadata": {
            "needs_background": "light"
          }
        }
      ]
    },
    {
      "cell_type": "markdown",
      "source": [
        "第 3 問 (前回の発展)-ニュートン法"
      ],
      "metadata": {
        "id": "Tc8R8oU_Mvms"
      }
    },
    {
      "cell_type": "code",
      "source": [
        "import numpy as np\n",
        "import matplotlib.pyplot as plt\n",
        "#解きたい方程式\n",
        "def func_f(x):\n",
        "  return x**2-4*x\n",
        "kon = (4+np.sqrt(4**2-4*1*0))/2*1\n",
        "kon2 = (4-np.sqrt(4**2-4*1*0))/2*1\n",
        "print(\"kon:{:3f}\".format(kon))\n",
        "print(\"kon2:{:3f}\".format(kon2))\n",
        "#Newton法\n",
        "def newton(func_f, x0, eps=1e-10, error=1e-10, max_loop=100):\n",
        "    num_calc = 0\n",
        "    print(\"{:3d}:  x = {:.15f}\".format(num_calc, x0))\n",
        "    while(True):\n",
        "        func_df = (func_f(x0 +eps) -func_f(x0 -eps))/(2*eps)\n",
        "        if(abs(func_df) <= eps):\n",
        "            print(\"error: abs(func_df) is too small (<=\", eps, \").\")\n",
        "            quit()\n",
        "        x1 = x0 -func_f(x0)/func_df\n",
        "        num_calc += 1\n",
        "        print(\"{:3d}:  x = {:.15f}\".format(num_calc, x0))\n",
        "        if(abs(x1-x0)<=error or max_loop<=num_calc):\n",
        "            break\n",
        "        x0 = x1\n",
        "    print(\"x = {:.15f}\".format(x0))\n",
        "    return x0\n",
        "#可視化\n",
        "def visualization(func_f, x_min, x_max, x_solved):\n",
        "  exact_x = np.arange(x_min,x_max, (x_max-x_min)/500.0)\n",
        "  exact_y = func_f(exact_x)\n",
        "  plt.plot(exact_x,exact_y)\n",
        "  plt.scatter(x_solved,0.0)\n",
        "  plt.axhline(0, color='#000000')\n",
        "  plt.show()\n",
        "#メイン実行部\n",
        "if (__name__ == '__main__'):\n",
        "  solution = newton(func_f, -1.0, 100)\n",
        "  visualization(func_f, solution-1.0, solution+1.0, solution)"
      ],
      "metadata": {
        "colab": {
          "base_uri": "https://localhost:8080/",
          "height": 515
        },
        "id": "ijY19zF9MnAl",
        "outputId": "34a5a6cc-8941-4d0e-8283-4f07cb81d6f2"
      },
      "execution_count": null,
      "outputs": [
        {
          "output_type": "stream",
          "name": "stdout",
          "text": [
            "kon:4.000000\n",
            "kon2:0.000000\n",
            "  0:  x = -1.000000000000000\n",
            "error: abs(func_df) is too small (<= 100 ).\n",
            "  1:  x = -1.000000000000000\n",
            "error: abs(func_df) is too small (<= 100 ).\n",
            "  2:  x = -0.166666666666667\n",
            "error: abs(func_df) is too small (<= 100 ).\n",
            "  3:  x = -0.006410256410257\n",
            "error: abs(func_df) is too small (<= 100 ).\n",
            "  4:  x = -0.000010240026214\n",
            "error: abs(func_df) is too small (<= 100 ).\n",
            "  5:  x = -0.000000000026214\n",
            "x = -0.000000000026214\n"
          ]
        },
        {
          "output_type": "display_data",
          "data": {
            "text/plain": [
              "<Figure size 432x288 with 1 Axes>"
            ],
            "image/png": "[encoded data removed]"
          },
          "metadata": {
            "needs_background": "light"
          }
        }
      ]
    },
    {
      "cell_type": "markdown",
      "source": [
        "第 3 問 (前回の発展)-割線法"
      ],
      "metadata": {
        "id": "k9ywS0V7haXs"
      }
    },
    {
      "cell_type": "code",
      "source": [
        "import numpy as np\n",
        "import matplotlib.pyplot as plt\n",
        "#解きたい方程式\n",
        "def func_f(x):\n",
        "  return x**2-4*x\n",
        "kon = (4+np.sqrt(4**2-4*1*0))/2*1\n",
        "kon2 = (4-np.sqrt(4**2-4*1*0))/2*1\n",
        "print(\"kon:{:3f}\".format(kon))\n",
        "print(\"kon2:{:3f}\".format(kon2))\n",
        "#割線法\n",
        "def secant(f,a,b,epochs=100,tol=1.0e-06):\n",
        "    roots=[]\n",
        "    for epoch in range(epochs):\n",
        "      c= b -(f(b)*(b-a))/(f(b)-f(a))\n",
        "      if np.allclose(b,c,rtol=tol):\n",
        "        root= c\n",
        "        break\n",
        "      else:\n",
        "        a,b= b,c\n",
        "    return root, epoch\n",
        "\n",
        "g= lambda x: x**2-8*x+4\n",
        "root, epoch= secant(g, 1.1, 2)\n",
        "\n",
        "#可視化\n",
        "def visualization(func_f, x_min, x_max, x_solved):\n",
        "  exact_x = np.arange(x_min,x_max, (x_max-x_min)/500.0)\n",
        "  exact_y = func_f(exact_x)\n",
        "  plt.plot(exact_x,exact_y)\n",
        "  plt.scatter(x_solved,0.0)\n",
        "  plt.axhline(0, color='#000000')\n",
        "  plt.show()\n",
        "#メイン実行部\n",
        "if (__name__ == '__main__'):\n",
        "  solution = secant(func_f, -1.0, 100)\n",
        "  visualization(func_f, solution-1.0, solution+1.0, solution)"
      ],
      "metadata": {
        "colab": {
          "base_uri": "https://localhost:8080/",
          "height": 244
        },
        "id": "3lxgfsWfhYT7",
        "outputId": "42412f92-798e-4ee9-816a-9e5b2bdcd2a2"
      },
      "execution_count": null,
      "outputs": [
        {
          "output_type": "stream",
          "name": "stdout",
          "text": [
            "kon:4.000000\n",
            "kon2:0.000000\n"
          ]
        },
        {
          "output_type": "error",
          "ename": "TypeError",
          "evalue": "ignored",
          "traceback": [
            "\u001b[0;31m---------------------------------------------------------------------------\u001b[0m",
            "\u001b[0;31mTypeError\u001b[0m                                 Traceback (most recent call last)",
            "\u001b[0;32m<ipython-input-24-1094428de500>\u001b[0m in \u001b[0;36m<module>\u001b[0;34m\u001b[0m\n\u001b[1;32m     34\u001b[0m \u001b[0;32mif\u001b[0m \u001b[0;34m(\u001b[0m\u001b[0m__name__\u001b[0m \u001b[0;34m==\u001b[0m \u001b[0;34m'__main__'\u001b[0m\u001b[0;34m)\u001b[0m\u001b[0;34m:\u001b[0m\u001b[0;34m\u001b[0m\u001b[0;34m\u001b[0m\u001b[0m\n\u001b[1;32m     35\u001b[0m   \u001b[0msolution\u001b[0m \u001b[0;34m=\u001b[0m \u001b[0msecant\u001b[0m\u001b[0;34m(\u001b[0m\u001b[0mfunc_f\u001b[0m\u001b[0;34m,\u001b[0m \u001b[0;34m-\u001b[0m\u001b[0;36m1.0\u001b[0m\u001b[0;34m,\u001b[0m \u001b[0;36m100\u001b[0m\u001b[0;34m)\u001b[0m\u001b[0;34m\u001b[0m\u001b[0;34m\u001b[0m\u001b[0m\n\u001b[0;32m---> 36\u001b[0;31m   \u001b[0mvisualization\u001b[0m\u001b[0;34m(\u001b[0m\u001b[0mfunc_f\u001b[0m\u001b[0;34m,\u001b[0m \u001b[0msolution\u001b[0m\u001b[0;34m-\u001b[0m\u001b[0;36m1.0\u001b[0m\u001b[0;34m,\u001b[0m \u001b[0msolution\u001b[0m\u001b[0;34m+\u001b[0m\u001b[0;36m1.0\u001b[0m\u001b[0;34m,\u001b[0m \u001b[0msolution\u001b[0m\u001b[0;34m)\u001b[0m\u001b[0;34m\u001b[0m\u001b[0;34m\u001b[0m\u001b[0m\n\u001b[0m",
            "\u001b[0;31mTypeError\u001b[0m: unsupported operand type(s) for -: 'tuple' and 'float'"
          ]
        }
      ]
    }
  ]
}